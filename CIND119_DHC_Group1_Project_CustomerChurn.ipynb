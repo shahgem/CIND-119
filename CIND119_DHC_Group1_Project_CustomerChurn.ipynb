{
  "cells": [
    {
      "cell_type": "code",
      "source": [
        "import sys\n",
        "!{sys.executable} -m pip install -U pandas-profiling\n",
        "!jupyter nbextension enable --py widgetsnbextension\n",
        "!pip install matplotlib\n",
        "!pip install graphviz"
      ],
      "metadata": {
        "colab": {
          "base_uri": "https://localhost:8080/"
        },
        "id": "6C096Z1_EZFU",
        "outputId": "8383d39d-b3b7-475b-fc0f-457a35a2d181"
      },
      "execution_count": 1,
      "outputs": [
        {
          "output_type": "stream",
          "name": "stdout",
          "text": [
            "Looking in indexes: https://pypi.org/simple, https://us-python.pkg.dev/colab-wheels/public/simple/\n",
            "Requirement already satisfied: pandas-profiling in /usr/local/lib/python3.7/dist-packages (3.2.0)\n",
            "Requirement already satisfied: matplotlib>=3.2.0 in /usr/local/lib/python3.7/dist-packages (from pandas-profiling) (3.2.2)\n",
            "Requirement already satisfied: PyYAML>=5.0.0 in /usr/local/lib/python3.7/dist-packages (from pandas-profiling) (6.0)\n",
            "Requirement already satisfied: phik>=0.11.1 in /usr/local/lib/python3.7/dist-packages (from pandas-profiling) (0.12.2)\n",
            "Requirement already satisfied: jinja2>=2.11.1 in /usr/local/lib/python3.7/dist-packages (from pandas-profiling) (2.11.3)\n",
            "Requirement already satisfied: tangled-up-in-unicode==0.2.0 in /usr/local/lib/python3.7/dist-packages (from pandas-profiling) (0.2.0)\n",
            "Requirement already satisfied: requests>=2.24.0 in /usr/local/lib/python3.7/dist-packages (from pandas-profiling) (2.28.1)\n",
            "Requirement already satisfied: joblib~=1.1.0 in /usr/local/lib/python3.7/dist-packages (from pandas-profiling) (1.1.0)\n",
            "Requirement already satisfied: numpy>=1.16.0 in /usr/local/lib/python3.7/dist-packages (from pandas-profiling) (1.21.6)\n",
            "Requirement already satisfied: tqdm>=4.48.2 in /usr/local/lib/python3.7/dist-packages (from pandas-profiling) (4.64.0)\n",
            "Requirement already satisfied: pandas!=1.0.0,!=1.0.1,!=1.0.2,!=1.1.0,>=0.25.3 in /usr/local/lib/python3.7/dist-packages (from pandas-profiling) (1.3.5)\n",
            "Requirement already satisfied: htmlmin>=0.1.12 in /usr/local/lib/python3.7/dist-packages (from pandas-profiling) (0.1.12)\n",
            "Requirement already satisfied: visions[type_image_path]==0.7.4 in /usr/local/lib/python3.7/dist-packages (from pandas-profiling) (0.7.4)\n",
            "Requirement already satisfied: seaborn>=0.10.1 in /usr/local/lib/python3.7/dist-packages (from pandas-profiling) (0.11.2)\n",
            "Requirement already satisfied: pydantic>=1.8.1 in /usr/local/lib/python3.7/dist-packages (from pandas-profiling) (1.9.1)\n",
            "Requirement already satisfied: missingno>=0.4.2 in /usr/local/lib/python3.7/dist-packages (from pandas-profiling) (0.5.1)\n",
            "Requirement already satisfied: multimethod>=1.4 in /usr/local/lib/python3.7/dist-packages (from pandas-profiling) (1.8)\n",
            "Requirement already satisfied: markupsafe~=2.1.1 in /usr/local/lib/python3.7/dist-packages (from pandas-profiling) (2.1.1)\n",
            "Requirement already satisfied: scipy>=1.4.1 in /usr/local/lib/python3.7/dist-packages (from pandas-profiling) (1.7.3)\n",
            "Requirement already satisfied: attrs>=19.3.0 in /usr/local/lib/python3.7/dist-packages (from visions[type_image_path]==0.7.4->pandas-profiling) (22.1.0)\n",
            "Requirement already satisfied: networkx>=2.4 in /usr/local/lib/python3.7/dist-packages (from visions[type_image_path]==0.7.4->pandas-profiling) (2.6.3)\n",
            "Requirement already satisfied: Pillow in /usr/local/lib/python3.7/dist-packages (from visions[type_image_path]==0.7.4->pandas-profiling) (7.1.2)\n",
            "Requirement already satisfied: imagehash in /usr/local/lib/python3.7/dist-packages (from visions[type_image_path]==0.7.4->pandas-profiling) (4.2.1)\n",
            "Requirement already satisfied: cycler>=0.10 in /usr/local/lib/python3.7/dist-packages (from matplotlib>=3.2.0->pandas-profiling) (0.11.0)\n",
            "Requirement already satisfied: pyparsing!=2.0.4,!=2.1.2,!=2.1.6,>=2.0.1 in /usr/local/lib/python3.7/dist-packages (from matplotlib>=3.2.0->pandas-profiling) (3.0.9)\n",
            "Requirement already satisfied: python-dateutil>=2.1 in /usr/local/lib/python3.7/dist-packages (from matplotlib>=3.2.0->pandas-profiling) (2.8.2)\n",
            "Requirement already satisfied: kiwisolver>=1.0.1 in /usr/local/lib/python3.7/dist-packages (from matplotlib>=3.2.0->pandas-profiling) (1.4.4)\n",
            "Requirement already satisfied: typing-extensions in /usr/local/lib/python3.7/dist-packages (from kiwisolver>=1.0.1->matplotlib>=3.2.0->pandas-profiling) (4.1.1)\n",
            "Requirement already satisfied: pytz>=2017.3 in /usr/local/lib/python3.7/dist-packages (from pandas!=1.0.0,!=1.0.1,!=1.0.2,!=1.1.0,>=0.25.3->pandas-profiling) (2022.1)\n",
            "Requirement already satisfied: six>=1.5 in /usr/local/lib/python3.7/dist-packages (from python-dateutil>=2.1->matplotlib>=3.2.0->pandas-profiling) (1.15.0)\n",
            "Requirement already satisfied: certifi>=2017.4.17 in /usr/local/lib/python3.7/dist-packages (from requests>=2.24.0->pandas-profiling) (2022.6.15)\n",
            "Requirement already satisfied: charset-normalizer<3,>=2 in /usr/local/lib/python3.7/dist-packages (from requests>=2.24.0->pandas-profiling) (2.1.0)\n",
            "Requirement already satisfied: urllib3<1.27,>=1.21.1 in /usr/local/lib/python3.7/dist-packages (from requests>=2.24.0->pandas-profiling) (1.24.3)\n",
            "Requirement already satisfied: idna<4,>=2.5 in /usr/local/lib/python3.7/dist-packages (from requests>=2.24.0->pandas-profiling) (2.10)\n",
            "Requirement already satisfied: PyWavelets in /usr/local/lib/python3.7/dist-packages (from imagehash->visions[type_image_path]==0.7.4->pandas-profiling) (1.3.0)\n",
            "Enabling notebook extension jupyter-js-widgets/extension...\n",
            "Paths used for configuration of notebook: \n",
            "    \t/root/.jupyter/nbconfig/notebook.json\n",
            "      - Validating: \u001b[32mOK\u001b[0m\n",
            "Paths used for configuration of notebook: \n",
            "    \t/root/.jupyter/nbconfig/notebook.json\n",
            "Looking in indexes: https://pypi.org/simple, https://us-python.pkg.dev/colab-wheels/public/simple/\n",
            "Requirement already satisfied: matplotlib in /usr/local/lib/python3.7/dist-packages (3.2.2)\n",
            "Requirement already satisfied: kiwisolver>=1.0.1 in /usr/local/lib/python3.7/dist-packages (from matplotlib) (1.4.4)\n",
            "Requirement already satisfied: numpy>=1.11 in /usr/local/lib/python3.7/dist-packages (from matplotlib) (1.21.6)\n",
            "Requirement already satisfied: python-dateutil>=2.1 in /usr/local/lib/python3.7/dist-packages (from matplotlib) (2.8.2)\n",
            "Requirement already satisfied: cycler>=0.10 in /usr/local/lib/python3.7/dist-packages (from matplotlib) (0.11.0)\n",
            "Requirement already satisfied: pyparsing!=2.0.4,!=2.1.2,!=2.1.6,>=2.0.1 in /usr/local/lib/python3.7/dist-packages (from matplotlib) (3.0.9)\n",
            "Requirement already satisfied: typing-extensions in /usr/local/lib/python3.7/dist-packages (from kiwisolver>=1.0.1->matplotlib) (4.1.1)\n",
            "Requirement already satisfied: six>=1.5 in /usr/local/lib/python3.7/dist-packages (from python-dateutil>=2.1->matplotlib) (1.15.0)\n",
            "Looking in indexes: https://pypi.org/simple, https://us-python.pkg.dev/colab-wheels/public/simple/\n",
            "Requirement already satisfied: graphviz in /usr/local/lib/python3.7/dist-packages (0.10.1)\n"
          ]
        }
      ]
    },
    {
      "cell_type": "code",
      "source": [
        "from google.colab import files\n",
        "uploaded = files.upload() #upload the file \"churn.arff\" from your computer here every time you re-run"
      ],
      "metadata": {
        "colab": {
          "resources": {
            "http://localhost:8080/nbextensions/google.colab/files.js": {
              "data": "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",
              "ok": true,
              "headers": [
                [
                  "content-type",
                  "application/javascript"
                ]
              ],
              "status": 200,
              "status_text": ""
            }
          },
          "base_uri": "https://localhost:8080/",
          "height": 73
        },
        "id": "_DozL0-eDp_M",
        "outputId": "636c5495-2ef7-4707-ac22-9c8fd65a1583"
      },
      "execution_count": 2,
      "outputs": [
        {
          "output_type": "display_data",
          "data": {
            "text/plain": [
              "<IPython.core.display.HTML object>"
            ],
            "text/html": [
              "\n",
              "     <input type=\"file\" id=\"files-bb48ecf8-85fb-4187-8786-3ddcf1db1268\" name=\"files[]\" multiple disabled\n",
              "        style=\"border:none\" />\n",
              "     <output id=\"result-bb48ecf8-85fb-4187-8786-3ddcf1db1268\">\n",
              "      Upload widget is only available when the cell has been executed in the\n",
              "      current browser session. Please rerun this cell to enable.\n",
              "      </output>\n",
              "      <script src=\"/nbextensions/google.colab/files.js\"></script> "
            ]
          },
          "metadata": {}
        },
        {
          "output_type": "stream",
          "name": "stdout",
          "text": [
            "Saving churn.arff to churn (6).arff\n"
          ]
        }
      ]
    },
    {
      "cell_type": "code",
      "execution_count": 3,
      "metadata": {
        "id": "9m_QDK_k4bGZ"
      },
      "outputs": [],
      "source": [
        "# for data manipulation\n",
        "import numpy as np\n",
        "import pandas as pd\n",
        "\n",
        "# for visualization\n",
        "import matplotlib.pyplot as plt\n",
        "import seaborn as sns\n",
        "%matplotlib inline\n",
        "\n",
        "# for handing imbalanced data\n",
        "from imblearn.over_sampling import SMOTE\n",
        "\n",
        "# for data splitting, transforming and model training\n",
        "from sklearn.model_selection import train_test_split\n",
        "from sklearn import preprocessing\n",
        "from sklearn import tree\n",
        "from sklearn.metrics import confusion_matrix\n",
        "from sklearn.model_selection import train_test_split\n",
        "from sklearn.metrics import classification_report\n",
        "from sklearn import metrics\n",
        "\n",
        "# for model evaluation\n",
        "from sklearn.metrics import classification_report, ConfusionMatrixDisplay"
      ]
    },
    {
      "cell_type": "code",
      "source": [
        "from scipy.io import arff\n",
        "data_file=\"churn.arff\"\n",
        "data=arff.loadarff(data_file)"
      ],
      "metadata": {
        "id": "7DipS1jdEz-0"
      },
      "execution_count": 4,
      "outputs": []
    },
    {
      "cell_type": "code",
      "execution_count": 5,
      "metadata": {
        "id": "1x7xyjkY4bGb"
      },
      "outputs": [],
      "source": [
        "df=pd.DataFrame(data[0])\n",
        "for col in df.columns:\n",
        "  if df[col].dtype=='object':\n",
        "    #making sure data is not read as bytes but as string values from a file\n",
        "    df[col] = df[col].str.decode('utf-8')"
      ]
    },
    {
      "cell_type": "code",
      "execution_count": 6,
      "metadata": {
        "colab": {
          "base_uri": "https://localhost:8080/",
          "height": 314
        },
        "id": "NTd9yfah4bGc",
        "outputId": "7a176972-a58c-45cf-f17b-f2e3a718c188"
      },
      "outputs": [
        {
          "output_type": "execute_result",
          "data": {
            "text/plain": [
              "  State  Account Length Area Code Phone Number Inter Plan VoiceMail Plan  \\\n",
              "0    OH           107.0      A415     371-7191         no            yes   \n",
              "1    NJ           137.0      A415     358-1921         no             no   \n",
              "2    OH            84.0      A408     375-9999        yes             no   \n",
              "3    OK            75.0      A415     330-6626        yes             no   \n",
              "4    AL           118.0      A510     391-8027        yes             no   \n",
              "\n",
              "   No of Vmail Mesgs  Total Day Min  Total Day calls  Total Day Charge  ...  \\\n",
              "0               26.0          161.6            123.0             27.47  ...   \n",
              "1                0.0          243.4            114.0             41.38  ...   \n",
              "2                0.0          299.4             71.0             50.90  ...   \n",
              "3                0.0          166.7            113.0             28.34  ...   \n",
              "4                0.0          223.4             98.0             37.98  ...   \n",
              "\n",
              "   Total Evening Calls  Total Evening Charge  Total Night Minutes  \\\n",
              "0                103.0                 16.62                254.4   \n",
              "1                110.0                 10.30                162.6   \n",
              "2                 88.0                  5.26                196.9   \n",
              "3                122.0                 12.61                186.9   \n",
              "4                101.0                 18.75                203.9   \n",
              "\n",
              "   Total Night Calls  Total Night Charge  Total Int Min  Total Int Calls  \\\n",
              "0              103.0               11.45           13.7              3.0   \n",
              "1              104.0                7.32           12.2              5.0   \n",
              "2               89.0                8.86            6.6              7.0   \n",
              "3              121.0                8.41           10.1              3.0   \n",
              "4              118.0                9.18            6.3              6.0   \n",
              "\n",
              "   Total Int Charge  No of Calls Customer Service  Churn  \n",
              "0              3.70                           1.0  FALSE  \n",
              "1              3.29                           0.0  FALSE  \n",
              "2              1.78                           2.0  FALSE  \n",
              "3              2.73                           3.0  FALSE  \n",
              "4              1.70                           0.0  FALSE  \n",
              "\n",
              "[5 rows x 21 columns]"
            ],
            "text/html": [
              "\n",
              "  <div id=\"df-804b53cb-cac7-4a14-866e-dd237692d79d\">\n",
              "    <div class=\"colab-df-container\">\n",
              "      <div>\n",
              "<style scoped>\n",
              "    .dataframe tbody tr th:only-of-type {\n",
              "        vertical-align: middle;\n",
              "    }\n",
              "\n",
              "    .dataframe tbody tr th {\n",
              "        vertical-align: top;\n",
              "    }\n",
              "\n",
              "    .dataframe thead th {\n",
              "        text-align: right;\n",
              "    }\n",
              "</style>\n",
              "<table border=\"1\" class=\"dataframe\">\n",
              "  <thead>\n",
              "    <tr style=\"text-align: right;\">\n",
              "      <th></th>\n",
              "      <th>State</th>\n",
              "      <th>Account Length</th>\n",
              "      <th>Area Code</th>\n",
              "      <th>Phone Number</th>\n",
              "      <th>Inter Plan</th>\n",
              "      <th>VoiceMail Plan</th>\n",
              "      <th>No of Vmail Mesgs</th>\n",
              "      <th>Total Day Min</th>\n",
              "      <th>Total Day calls</th>\n",
              "      <th>Total Day Charge</th>\n",
              "      <th>...</th>\n",
              "      <th>Total Evening Calls</th>\n",
              "      <th>Total Evening Charge</th>\n",
              "      <th>Total Night Minutes</th>\n",
              "      <th>Total Night Calls</th>\n",
              "      <th>Total Night Charge</th>\n",
              "      <th>Total Int Min</th>\n",
              "      <th>Total Int Calls</th>\n",
              "      <th>Total Int Charge</th>\n",
              "      <th>No of Calls Customer Service</th>\n",
              "      <th>Churn</th>\n",
              "    </tr>\n",
              "  </thead>\n",
              "  <tbody>\n",
              "    <tr>\n",
              "      <th>0</th>\n",
              "      <td>OH</td>\n",
              "      <td>107.0</td>\n",
              "      <td>A415</td>\n",
              "      <td>371-7191</td>\n",
              "      <td>no</td>\n",
              "      <td>yes</td>\n",
              "      <td>26.0</td>\n",
              "      <td>161.6</td>\n",
              "      <td>123.0</td>\n",
              "      <td>27.47</td>\n",
              "      <td>...</td>\n",
              "      <td>103.0</td>\n",
              "      <td>16.62</td>\n",
              "      <td>254.4</td>\n",
              "      <td>103.0</td>\n",
              "      <td>11.45</td>\n",
              "      <td>13.7</td>\n",
              "      <td>3.0</td>\n",
              "      <td>3.70</td>\n",
              "      <td>1.0</td>\n",
              "      <td>FALSE</td>\n",
              "    </tr>\n",
              "    <tr>\n",
              "      <th>1</th>\n",
              "      <td>NJ</td>\n",
              "      <td>137.0</td>\n",
              "      <td>A415</td>\n",
              "      <td>358-1921</td>\n",
              "      <td>no</td>\n",
              "      <td>no</td>\n",
              "      <td>0.0</td>\n",
              "      <td>243.4</td>\n",
              "      <td>114.0</td>\n",
              "      <td>41.38</td>\n",
              "      <td>...</td>\n",
              "      <td>110.0</td>\n",
              "      <td>10.30</td>\n",
              "      <td>162.6</td>\n",
              "      <td>104.0</td>\n",
              "      <td>7.32</td>\n",
              "      <td>12.2</td>\n",
              "      <td>5.0</td>\n",
              "      <td>3.29</td>\n",
              "      <td>0.0</td>\n",
              "      <td>FALSE</td>\n",
              "    </tr>\n",
              "    <tr>\n",
              "      <th>2</th>\n",
              "      <td>OH</td>\n",
              "      <td>84.0</td>\n",
              "      <td>A408</td>\n",
              "      <td>375-9999</td>\n",
              "      <td>yes</td>\n",
              "      <td>no</td>\n",
              "      <td>0.0</td>\n",
              "      <td>299.4</td>\n",
              "      <td>71.0</td>\n",
              "      <td>50.90</td>\n",
              "      <td>...</td>\n",
              "      <td>88.0</td>\n",
              "      <td>5.26</td>\n",
              "      <td>196.9</td>\n",
              "      <td>89.0</td>\n",
              "      <td>8.86</td>\n",
              "      <td>6.6</td>\n",
              "      <td>7.0</td>\n",
              "      <td>1.78</td>\n",
              "      <td>2.0</td>\n",
              "      <td>FALSE</td>\n",
              "    </tr>\n",
              "    <tr>\n",
              "      <th>3</th>\n",
              "      <td>OK</td>\n",
              "      <td>75.0</td>\n",
              "      <td>A415</td>\n",
              "      <td>330-6626</td>\n",
              "      <td>yes</td>\n",
              "      <td>no</td>\n",
              "      <td>0.0</td>\n",
              "      <td>166.7</td>\n",
              "      <td>113.0</td>\n",
              "      <td>28.34</td>\n",
              "      <td>...</td>\n",
              "      <td>122.0</td>\n",
              "      <td>12.61</td>\n",
              "      <td>186.9</td>\n",
              "      <td>121.0</td>\n",
              "      <td>8.41</td>\n",
              "      <td>10.1</td>\n",
              "      <td>3.0</td>\n",
              "      <td>2.73</td>\n",
              "      <td>3.0</td>\n",
              "      <td>FALSE</td>\n",
              "    </tr>\n",
              "    <tr>\n",
              "      <th>4</th>\n",
              "      <td>AL</td>\n",
              "      <td>118.0</td>\n",
              "      <td>A510</td>\n",
              "      <td>391-8027</td>\n",
              "      <td>yes</td>\n",
              "      <td>no</td>\n",
              "      <td>0.0</td>\n",
              "      <td>223.4</td>\n",
              "      <td>98.0</td>\n",
              "      <td>37.98</td>\n",
              "      <td>...</td>\n",
              "      <td>101.0</td>\n",
              "      <td>18.75</td>\n",
              "      <td>203.9</td>\n",
              "      <td>118.0</td>\n",
              "      <td>9.18</td>\n",
              "      <td>6.3</td>\n",
              "      <td>6.0</td>\n",
              "      <td>1.70</td>\n",
              "      <td>0.0</td>\n",
              "      <td>FALSE</td>\n",
              "    </tr>\n",
              "  </tbody>\n",
              "</table>\n",
              "<p>5 rows × 21 columns</p>\n",
              "</div>\n",
              "      <button class=\"colab-df-convert\" onclick=\"convertToInteractive('df-804b53cb-cac7-4a14-866e-dd237692d79d')\"\n",
              "              title=\"Convert this dataframe to an interactive table.\"\n",
              "              style=\"display:none;\">\n",
              "        \n",
              "  <svg xmlns=\"http://www.w3.org/2000/svg\" height=\"24px\"viewBox=\"0 0 24 24\"\n",
              "       width=\"24px\">\n",
              "    <path d=\"M0 0h24v24H0V0z\" fill=\"none\"/>\n",
              "    <path d=\"M18.56 5.44l.94 2.06.94-2.06 2.06-.94-2.06-.94-.94-2.06-.94 2.06-2.06.94zm-11 1L8.5 8.5l.94-2.06 2.06-.94-2.06-.94L8.5 2.5l-.94 2.06-2.06.94zm10 10l.94 2.06.94-2.06 2.06-.94-2.06-.94-.94-2.06-.94 2.06-2.06.94z\"/><path d=\"M17.41 7.96l-1.37-1.37c-.4-.4-.92-.59-1.43-.59-.52 0-1.04.2-1.43.59L10.3 9.45l-7.72 7.72c-.78.78-.78 2.05 0 2.83L4 21.41c.39.39.9.59 1.41.59.51 0 1.02-.2 1.41-.59l7.78-7.78 2.81-2.81c.8-.78.8-2.07 0-2.86zM5.41 20L4 18.59l7.72-7.72 1.47 1.35L5.41 20z\"/>\n",
              "  </svg>\n",
              "      </button>\n",
              "      \n",
              "  <style>\n",
              "    .colab-df-container {\n",
              "      display:flex;\n",
              "      flex-wrap:wrap;\n",
              "      gap: 12px;\n",
              "    }\n",
              "\n",
              "    .colab-df-convert {\n",
              "      background-color: #E8F0FE;\n",
              "      border: none;\n",
              "      border-radius: 50%;\n",
              "      cursor: pointer;\n",
              "      display: none;\n",
              "      fill: #1967D2;\n",
              "      height: 32px;\n",
              "      padding: 0 0 0 0;\n",
              "      width: 32px;\n",
              "    }\n",
              "\n",
              "    .colab-df-convert:hover {\n",
              "      background-color: #E2EBFA;\n",
              "      box-shadow: 0px 1px 2px rgba(60, 64, 67, 0.3), 0px 1px 3px 1px rgba(60, 64, 67, 0.15);\n",
              "      fill: #174EA6;\n",
              "    }\n",
              "\n",
              "    [theme=dark] .colab-df-convert {\n",
              "      background-color: #3B4455;\n",
              "      fill: #D2E3FC;\n",
              "    }\n",
              "\n",
              "    [theme=dark] .colab-df-convert:hover {\n",
              "      background-color: #434B5C;\n",
              "      box-shadow: 0px 1px 3px 1px rgba(0, 0, 0, 0.15);\n",
              "      filter: drop-shadow(0px 1px 2px rgba(0, 0, 0, 0.3));\n",
              "      fill: #FFFFFF;\n",
              "    }\n",
              "  </style>\n",
              "\n",
              "      <script>\n",
              "        const buttonEl =\n",
              "          document.querySelector('#df-804b53cb-cac7-4a14-866e-dd237692d79d button.colab-df-convert');\n",
              "        buttonEl.style.display =\n",
              "          google.colab.kernel.accessAllowed ? 'block' : 'none';\n",
              "\n",
              "        async function convertToInteractive(key) {\n",
              "          const element = document.querySelector('#df-804b53cb-cac7-4a14-866e-dd237692d79d');\n",
              "          const dataTable =\n",
              "            await google.colab.kernel.invokeFunction('convertToInteractive',\n",
              "                                                     [key], {});\n",
              "          if (!dataTable) return;\n",
              "\n",
              "          const docLinkHtml = 'Like what you see? Visit the ' +\n",
              "            '<a target=\"_blank\" href=https://colab.research.google.com/notebooks/data_table.ipynb>data table notebook</a>'\n",
              "            + ' to learn more about interactive tables.';\n",
              "          element.innerHTML = '';\n",
              "          dataTable['output_type'] = 'display_data';\n",
              "          await google.colab.output.renderOutput(dataTable, element);\n",
              "          const docLink = document.createElement('div');\n",
              "          docLink.innerHTML = docLinkHtml;\n",
              "          element.appendChild(docLink);\n",
              "        }\n",
              "      </script>\n",
              "    </div>\n",
              "  </div>\n",
              "  "
            ]
          },
          "metadata": {},
          "execution_count": 6
        }
      ],
      "source": [
        "df.head(5)"
      ]
    },
    {
      "cell_type": "code",
      "source": [
        "df.info()"
      ],
      "metadata": {
        "colab": {
          "base_uri": "https://localhost:8080/"
        },
        "id": "BoAnx8lFIgKF",
        "outputId": "e07fb87e-0cf2-4274-b2ea-3a249a22bef9"
      },
      "execution_count": 7,
      "outputs": [
        {
          "output_type": "stream",
          "name": "stdout",
          "text": [
            "<class 'pandas.core.frame.DataFrame'>\n",
            "RangeIndex: 3333 entries, 0 to 3332\n",
            "Data columns (total 21 columns):\n",
            " #   Column                        Non-Null Count  Dtype  \n",
            "---  ------                        --------------  -----  \n",
            " 0   State                         3333 non-null   object \n",
            " 1   Account Length                3333 non-null   float64\n",
            " 2   Area Code                     3333 non-null   object \n",
            " 3   Phone Number                  3333 non-null   object \n",
            " 4   Inter Plan                    3333 non-null   object \n",
            " 5   VoiceMail Plan                3333 non-null   object \n",
            " 6   No of Vmail Mesgs             3333 non-null   float64\n",
            " 7   Total Day Min                 3333 non-null   float64\n",
            " 8   Total Day calls               3333 non-null   float64\n",
            " 9   Total Day Charge              3333 non-null   float64\n",
            " 10  Total Evening Min             3333 non-null   float64\n",
            " 11  Total Evening Calls           3333 non-null   float64\n",
            " 12  Total Evening Charge          3333 non-null   float64\n",
            " 13  Total Night Minutes           3333 non-null   float64\n",
            " 14  Total Night Calls             3333 non-null   float64\n",
            " 15  Total Night Charge            3333 non-null   float64\n",
            " 16  Total Int Min                 3333 non-null   float64\n",
            " 17  Total Int Calls               3333 non-null   float64\n",
            " 18  Total Int Charge              3333 non-null   float64\n",
            " 19  No of Calls Customer Service  3333 non-null   float64\n",
            " 20  Churn                         3333 non-null   object \n",
            "dtypes: float64(15), object(6)\n",
            "memory usage: 546.9+ KB\n"
          ]
        }
      ]
    },
    {
      "cell_type": "code",
      "execution_count": 8,
      "metadata": {
        "colab": {
          "base_uri": "https://localhost:8080/",
          "height": 362
        },
        "id": "TDCj_jY94bGd",
        "outputId": "ddd3429c-2395-42b0-ce08-150cb00e2f05"
      },
      "outputs": [
        {
          "output_type": "execute_result",
          "data": {
            "text/plain": [
              "       Account Length  No of Vmail Mesgs  Total Day Min  Total Day calls  \\\n",
              "count     3333.000000        3333.000000    3333.000000      3333.000000   \n",
              "mean       101.064806           8.099010     179.775098       100.435644   \n",
              "std         39.822106          13.688365      54.467389        20.069084   \n",
              "min          1.000000           0.000000       0.000000         0.000000   \n",
              "25%         74.000000           0.000000     143.700000        87.000000   \n",
              "50%        101.000000           0.000000     179.400000       101.000000   \n",
              "75%        127.000000          20.000000     216.400000       114.000000   \n",
              "max        243.000000          51.000000     350.800000       165.000000   \n",
              "\n",
              "       Total Day Charge  Total Evening Min  Total Evening Calls  \\\n",
              "count       3333.000000        3333.000000          3333.000000   \n",
              "mean          30.562307         200.980348           100.114311   \n",
              "std            9.259435          50.713844            19.922625   \n",
              "min            0.000000           0.000000             0.000000   \n",
              "25%           24.430000         166.600000            87.000000   \n",
              "50%           30.500000         201.400000           100.000000   \n",
              "75%           36.790000         235.300000           114.000000   \n",
              "max           59.640000         363.700000           170.000000   \n",
              "\n",
              "       Total Evening Charge  Total Night Minutes  Total Night Calls  \\\n",
              "count           3333.000000          3333.000000        3333.000000   \n",
              "mean              17.083540           200.872037         100.107711   \n",
              "std                4.310668            50.573847          19.568609   \n",
              "min                0.000000            23.200000          33.000000   \n",
              "25%               14.160000           167.000000          87.000000   \n",
              "50%               17.120000           201.200000         100.000000   \n",
              "75%               20.000000           235.300000         113.000000   \n",
              "max               30.910000           395.000000         175.000000   \n",
              "\n",
              "       Total Night Charge  Total Int Min  Total Int Calls  Total Int Charge  \\\n",
              "count         3333.000000    3333.000000      3333.000000       3333.000000   \n",
              "mean             9.039325      10.237294         4.479448          2.764581   \n",
              "std              2.275873       2.791840         2.461214          0.753773   \n",
              "min              1.040000       0.000000         0.000000          0.000000   \n",
              "25%              7.520000       8.500000         3.000000          2.300000   \n",
              "50%              9.050000      10.300000         4.000000          2.780000   \n",
              "75%             10.590000      12.100000         6.000000          3.270000   \n",
              "max             17.770000      20.000000        20.000000          5.400000   \n",
              "\n",
              "       No of Calls Customer Service  \n",
              "count                   3333.000000  \n",
              "mean                       1.562856  \n",
              "std                        1.315491  \n",
              "min                        0.000000  \n",
              "25%                        1.000000  \n",
              "50%                        1.000000  \n",
              "75%                        2.000000  \n",
              "max                        9.000000  "
            ],
            "text/html": [
              "\n",
              "  <div id=\"df-3135d1bf-8147-4921-a3f4-63e08a0bbf6f\">\n",
              "    <div class=\"colab-df-container\">\n",
              "      <div>\n",
              "<style scoped>\n",
              "    .dataframe tbody tr th:only-of-type {\n",
              "        vertical-align: middle;\n",
              "    }\n",
              "\n",
              "    .dataframe tbody tr th {\n",
              "        vertical-align: top;\n",
              "    }\n",
              "\n",
              "    .dataframe thead th {\n",
              "        text-align: right;\n",
              "    }\n",
              "</style>\n",
              "<table border=\"1\" class=\"dataframe\">\n",
              "  <thead>\n",
              "    <tr style=\"text-align: right;\">\n",
              "      <th></th>\n",
              "      <th>Account Length</th>\n",
              "      <th>No of Vmail Mesgs</th>\n",
              "      <th>Total Day Min</th>\n",
              "      <th>Total Day calls</th>\n",
              "      <th>Total Day Charge</th>\n",
              "      <th>Total Evening Min</th>\n",
              "      <th>Total Evening Calls</th>\n",
              "      <th>Total Evening Charge</th>\n",
              "      <th>Total Night Minutes</th>\n",
              "      <th>Total Night Calls</th>\n",
              "      <th>Total Night Charge</th>\n",
              "      <th>Total Int Min</th>\n",
              "      <th>Total Int Calls</th>\n",
              "      <th>Total Int Charge</th>\n",
              "      <th>No of Calls Customer Service</th>\n",
              "    </tr>\n",
              "  </thead>\n",
              "  <tbody>\n",
              "    <tr>\n",
              "      <th>count</th>\n",
              "      <td>3333.000000</td>\n",
              "      <td>3333.000000</td>\n",
              "      <td>3333.000000</td>\n",
              "      <td>3333.000000</td>\n",
              "      <td>3333.000000</td>\n",
              "      <td>3333.000000</td>\n",
              "      <td>3333.000000</td>\n",
              "      <td>3333.000000</td>\n",
              "      <td>3333.000000</td>\n",
              "      <td>3333.000000</td>\n",
              "      <td>3333.000000</td>\n",
              "      <td>3333.000000</td>\n",
              "      <td>3333.000000</td>\n",
              "      <td>3333.000000</td>\n",
              "      <td>3333.000000</td>\n",
              "    </tr>\n",
              "    <tr>\n",
              "      <th>mean</th>\n",
              "      <td>101.064806</td>\n",
              "      <td>8.099010</td>\n",
              "      <td>179.775098</td>\n",
              "      <td>100.435644</td>\n",
              "      <td>30.562307</td>\n",
              "      <td>200.980348</td>\n",
              "      <td>100.114311</td>\n",
              "      <td>17.083540</td>\n",
              "      <td>200.872037</td>\n",
              "      <td>100.107711</td>\n",
              "      <td>9.039325</td>\n",
              "      <td>10.237294</td>\n",
              "      <td>4.479448</td>\n",
              "      <td>2.764581</td>\n",
              "      <td>1.562856</td>\n",
              "    </tr>\n",
              "    <tr>\n",
              "      <th>std</th>\n",
              "      <td>39.822106</td>\n",
              "      <td>13.688365</td>\n",
              "      <td>54.467389</td>\n",
              "      <td>20.069084</td>\n",
              "      <td>9.259435</td>\n",
              "      <td>50.713844</td>\n",
              "      <td>19.922625</td>\n",
              "      <td>4.310668</td>\n",
              "      <td>50.573847</td>\n",
              "      <td>19.568609</td>\n",
              "      <td>2.275873</td>\n",
              "      <td>2.791840</td>\n",
              "      <td>2.461214</td>\n",
              "      <td>0.753773</td>\n",
              "      <td>1.315491</td>\n",
              "    </tr>\n",
              "    <tr>\n",
              "      <th>min</th>\n",
              "      <td>1.000000</td>\n",
              "      <td>0.000000</td>\n",
              "      <td>0.000000</td>\n",
              "      <td>0.000000</td>\n",
              "      <td>0.000000</td>\n",
              "      <td>0.000000</td>\n",
              "      <td>0.000000</td>\n",
              "      <td>0.000000</td>\n",
              "      <td>23.200000</td>\n",
              "      <td>33.000000</td>\n",
              "      <td>1.040000</td>\n",
              "      <td>0.000000</td>\n",
              "      <td>0.000000</td>\n",
              "      <td>0.000000</td>\n",
              "      <td>0.000000</td>\n",
              "    </tr>\n",
              "    <tr>\n",
              "      <th>25%</th>\n",
              "      <td>74.000000</td>\n",
              "      <td>0.000000</td>\n",
              "      <td>143.700000</td>\n",
              "      <td>87.000000</td>\n",
              "      <td>24.430000</td>\n",
              "      <td>166.600000</td>\n",
              "      <td>87.000000</td>\n",
              "      <td>14.160000</td>\n",
              "      <td>167.000000</td>\n",
              "      <td>87.000000</td>\n",
              "      <td>7.520000</td>\n",
              "      <td>8.500000</td>\n",
              "      <td>3.000000</td>\n",
              "      <td>2.300000</td>\n",
              "      <td>1.000000</td>\n",
              "    </tr>\n",
              "    <tr>\n",
              "      <th>50%</th>\n",
              "      <td>101.000000</td>\n",
              "      <td>0.000000</td>\n",
              "      <td>179.400000</td>\n",
              "      <td>101.000000</td>\n",
              "      <td>30.500000</td>\n",
              "      <td>201.400000</td>\n",
              "      <td>100.000000</td>\n",
              "      <td>17.120000</td>\n",
              "      <td>201.200000</td>\n",
              "      <td>100.000000</td>\n",
              "      <td>9.050000</td>\n",
              "      <td>10.300000</td>\n",
              "      <td>4.000000</td>\n",
              "      <td>2.780000</td>\n",
              "      <td>1.000000</td>\n",
              "    </tr>\n",
              "    <tr>\n",
              "      <th>75%</th>\n",
              "      <td>127.000000</td>\n",
              "      <td>20.000000</td>\n",
              "      <td>216.400000</td>\n",
              "      <td>114.000000</td>\n",
              "      <td>36.790000</td>\n",
              "      <td>235.300000</td>\n",
              "      <td>114.000000</td>\n",
              "      <td>20.000000</td>\n",
              "      <td>235.300000</td>\n",
              "      <td>113.000000</td>\n",
              "      <td>10.590000</td>\n",
              "      <td>12.100000</td>\n",
              "      <td>6.000000</td>\n",
              "      <td>3.270000</td>\n",
              "      <td>2.000000</td>\n",
              "    </tr>\n",
              "    <tr>\n",
              "      <th>max</th>\n",
              "      <td>243.000000</td>\n",
              "      <td>51.000000</td>\n",
              "      <td>350.800000</td>\n",
              "      <td>165.000000</td>\n",
              "      <td>59.640000</td>\n",
              "      <td>363.700000</td>\n",
              "      <td>170.000000</td>\n",
              "      <td>30.910000</td>\n",
              "      <td>395.000000</td>\n",
              "      <td>175.000000</td>\n",
              "      <td>17.770000</td>\n",
              "      <td>20.000000</td>\n",
              "      <td>20.000000</td>\n",
              "      <td>5.400000</td>\n",
              "      <td>9.000000</td>\n",
              "    </tr>\n",
              "  </tbody>\n",
              "</table>\n",
              "</div>\n",
              "      <button class=\"colab-df-convert\" onclick=\"convertToInteractive('df-3135d1bf-8147-4921-a3f4-63e08a0bbf6f')\"\n",
              "              title=\"Convert this dataframe to an interactive table.\"\n",
              "              style=\"display:none;\">\n",
              "        \n",
              "  <svg xmlns=\"http://www.w3.org/2000/svg\" height=\"24px\"viewBox=\"0 0 24 24\"\n",
              "       width=\"24px\">\n",
              "    <path d=\"M0 0h24v24H0V0z\" fill=\"none\"/>\n",
              "    <path d=\"M18.56 5.44l.94 2.06.94-2.06 2.06-.94-2.06-.94-.94-2.06-.94 2.06-2.06.94zm-11 1L8.5 8.5l.94-2.06 2.06-.94-2.06-.94L8.5 2.5l-.94 2.06-2.06.94zm10 10l.94 2.06.94-2.06 2.06-.94-2.06-.94-.94-2.06-.94 2.06-2.06.94z\"/><path d=\"M17.41 7.96l-1.37-1.37c-.4-.4-.92-.59-1.43-.59-.52 0-1.04.2-1.43.59L10.3 9.45l-7.72 7.72c-.78.78-.78 2.05 0 2.83L4 21.41c.39.39.9.59 1.41.59.51 0 1.02-.2 1.41-.59l7.78-7.78 2.81-2.81c.8-.78.8-2.07 0-2.86zM5.41 20L4 18.59l7.72-7.72 1.47 1.35L5.41 20z\"/>\n",
              "  </svg>\n",
              "      </button>\n",
              "      \n",
              "  <style>\n",
              "    .colab-df-container {\n",
              "      display:flex;\n",
              "      flex-wrap:wrap;\n",
              "      gap: 12px;\n",
              "    }\n",
              "\n",
              "    .colab-df-convert {\n",
              "      background-color: #E8F0FE;\n",
              "      border: none;\n",
              "      border-radius: 50%;\n",
              "      cursor: pointer;\n",
              "      display: none;\n",
              "      fill: #1967D2;\n",
              "      height: 32px;\n",
              "      padding: 0 0 0 0;\n",
              "      width: 32px;\n",
              "    }\n",
              "\n",
              "    .colab-df-convert:hover {\n",
              "      background-color: #E2EBFA;\n",
              "      box-shadow: 0px 1px 2px rgba(60, 64, 67, 0.3), 0px 1px 3px 1px rgba(60, 64, 67, 0.15);\n",
              "      fill: #174EA6;\n",
              "    }\n",
              "\n",
              "    [theme=dark] .colab-df-convert {\n",
              "      background-color: #3B4455;\n",
              "      fill: #D2E3FC;\n",
              "    }\n",
              "\n",
              "    [theme=dark] .colab-df-convert:hover {\n",
              "      background-color: #434B5C;\n",
              "      box-shadow: 0px 1px 3px 1px rgba(0, 0, 0, 0.15);\n",
              "      filter: drop-shadow(0px 1px 2px rgba(0, 0, 0, 0.3));\n",
              "      fill: #FFFFFF;\n",
              "    }\n",
              "  </style>\n",
              "\n",
              "      <script>\n",
              "        const buttonEl =\n",
              "          document.querySelector('#df-3135d1bf-8147-4921-a3f4-63e08a0bbf6f button.colab-df-convert');\n",
              "        buttonEl.style.display =\n",
              "          google.colab.kernel.accessAllowed ? 'block' : 'none';\n",
              "\n",
              "        async function convertToInteractive(key) {\n",
              "          const element = document.querySelector('#df-3135d1bf-8147-4921-a3f4-63e08a0bbf6f');\n",
              "          const dataTable =\n",
              "            await google.colab.kernel.invokeFunction('convertToInteractive',\n",
              "                                                     [key], {});\n",
              "          if (!dataTable) return;\n",
              "\n",
              "          const docLinkHtml = 'Like what you see? Visit the ' +\n",
              "            '<a target=\"_blank\" href=https://colab.research.google.com/notebooks/data_table.ipynb>data table notebook</a>'\n",
              "            + ' to learn more about interactive tables.';\n",
              "          element.innerHTML = '';\n",
              "          dataTable['output_type'] = 'display_data';\n",
              "          await google.colab.output.renderOutput(dataTable, element);\n",
              "          const docLink = document.createElement('div');\n",
              "          docLink.innerHTML = docLinkHtml;\n",
              "          element.appendChild(docLink);\n",
              "        }\n",
              "      </script>\n",
              "    </div>\n",
              "  </div>\n",
              "  "
            ]
          },
          "metadata": {},
          "execution_count": 8
        }
      ],
      "source": [
        "df.describe()"
      ]
    },
    {
      "cell_type": "code",
      "execution_count": 9,
      "metadata": {
        "colab": {
          "base_uri": "https://localhost:8080/",
          "height": 520
        },
        "id": "oZ_h35Qm4bGd",
        "outputId": "5c2ae8f9-20c2-407a-91ec-59d460226162"
      },
      "outputs": [
        {
          "output_type": "execute_result",
          "data": {
            "text/plain": [
              "                               count        mean        std    min     25%  \\\n",
              "Account Length                3333.0  101.064806  39.822106   1.00   74.00   \n",
              "No of Vmail Mesgs             3333.0    8.099010  13.688365   0.00    0.00   \n",
              "Total Day Min                 3333.0  179.775098  54.467389   0.00  143.70   \n",
              "Total Day calls               3333.0  100.435644  20.069084   0.00   87.00   \n",
              "Total Day Charge              3333.0   30.562307   9.259435   0.00   24.43   \n",
              "Total Evening Min             3333.0  200.980348  50.713844   0.00  166.60   \n",
              "Total Evening Calls           3333.0  100.114311  19.922625   0.00   87.00   \n",
              "Total Evening Charge          3333.0   17.083540   4.310668   0.00   14.16   \n",
              "Total Night Minutes           3333.0  200.872037  50.573847  23.20  167.00   \n",
              "Total Night Calls             3333.0  100.107711  19.568609  33.00   87.00   \n",
              "Total Night Charge            3333.0    9.039325   2.275873   1.04    7.52   \n",
              "Total Int Min                 3333.0   10.237294   2.791840   0.00    8.50   \n",
              "Total Int Calls               3333.0    4.479448   2.461214   0.00    3.00   \n",
              "Total Int Charge              3333.0    2.764581   0.753773   0.00    2.30   \n",
              "No of Calls Customer Service  3333.0    1.562856   1.315491   0.00    1.00   \n",
              "\n",
              "                                 50%     75%     max  \n",
              "Account Length                101.00  127.00  243.00  \n",
              "No of Vmail Mesgs               0.00   20.00   51.00  \n",
              "Total Day Min                 179.40  216.40  350.80  \n",
              "Total Day calls               101.00  114.00  165.00  \n",
              "Total Day Charge               30.50   36.79   59.64  \n",
              "Total Evening Min             201.40  235.30  363.70  \n",
              "Total Evening Calls           100.00  114.00  170.00  \n",
              "Total Evening Charge           17.12   20.00   30.91  \n",
              "Total Night Minutes           201.20  235.30  395.00  \n",
              "Total Night Calls             100.00  113.00  175.00  \n",
              "Total Night Charge              9.05   10.59   17.77  \n",
              "Total Int Min                  10.30   12.10   20.00  \n",
              "Total Int Calls                 4.00    6.00   20.00  \n",
              "Total Int Charge                2.78    3.27    5.40  \n",
              "No of Calls Customer Service    1.00    2.00    9.00  "
            ],
            "text/html": [
              "\n",
              "  <div id=\"df-46ad832e-df02-4917-a73b-a4ac96548f73\">\n",
              "    <div class=\"colab-df-container\">\n",
              "      <div>\n",
              "<style scoped>\n",
              "    .dataframe tbody tr th:only-of-type {\n",
              "        vertical-align: middle;\n",
              "    }\n",
              "\n",
              "    .dataframe tbody tr th {\n",
              "        vertical-align: top;\n",
              "    }\n",
              "\n",
              "    .dataframe thead th {\n",
              "        text-align: right;\n",
              "    }\n",
              "</style>\n",
              "<table border=\"1\" class=\"dataframe\">\n",
              "  <thead>\n",
              "    <tr style=\"text-align: right;\">\n",
              "      <th></th>\n",
              "      <th>count</th>\n",
              "      <th>mean</th>\n",
              "      <th>std</th>\n",
              "      <th>min</th>\n",
              "      <th>25%</th>\n",
              "      <th>50%</th>\n",
              "      <th>75%</th>\n",
              "      <th>max</th>\n",
              "    </tr>\n",
              "  </thead>\n",
              "  <tbody>\n",
              "    <tr>\n",
              "      <th>Account Length</th>\n",
              "      <td>3333.0</td>\n",
              "      <td>101.064806</td>\n",
              "      <td>39.822106</td>\n",
              "      <td>1.00</td>\n",
              "      <td>74.00</td>\n",
              "      <td>101.00</td>\n",
              "      <td>127.00</td>\n",
              "      <td>243.00</td>\n",
              "    </tr>\n",
              "    <tr>\n",
              "      <th>No of Vmail Mesgs</th>\n",
              "      <td>3333.0</td>\n",
              "      <td>8.099010</td>\n",
              "      <td>13.688365</td>\n",
              "      <td>0.00</td>\n",
              "      <td>0.00</td>\n",
              "      <td>0.00</td>\n",
              "      <td>20.00</td>\n",
              "      <td>51.00</td>\n",
              "    </tr>\n",
              "    <tr>\n",
              "      <th>Total Day Min</th>\n",
              "      <td>3333.0</td>\n",
              "      <td>179.775098</td>\n",
              "      <td>54.467389</td>\n",
              "      <td>0.00</td>\n",
              "      <td>143.70</td>\n",
              "      <td>179.40</td>\n",
              "      <td>216.40</td>\n",
              "      <td>350.80</td>\n",
              "    </tr>\n",
              "    <tr>\n",
              "      <th>Total Day calls</th>\n",
              "      <td>3333.0</td>\n",
              "      <td>100.435644</td>\n",
              "      <td>20.069084</td>\n",
              "      <td>0.00</td>\n",
              "      <td>87.00</td>\n",
              "      <td>101.00</td>\n",
              "      <td>114.00</td>\n",
              "      <td>165.00</td>\n",
              "    </tr>\n",
              "    <tr>\n",
              "      <th>Total Day Charge</th>\n",
              "      <td>3333.0</td>\n",
              "      <td>30.562307</td>\n",
              "      <td>9.259435</td>\n",
              "      <td>0.00</td>\n",
              "      <td>24.43</td>\n",
              "      <td>30.50</td>\n",
              "      <td>36.79</td>\n",
              "      <td>59.64</td>\n",
              "    </tr>\n",
              "    <tr>\n",
              "      <th>Total Evening Min</th>\n",
              "      <td>3333.0</td>\n",
              "      <td>200.980348</td>\n",
              "      <td>50.713844</td>\n",
              "      <td>0.00</td>\n",
              "      <td>166.60</td>\n",
              "      <td>201.40</td>\n",
              "      <td>235.30</td>\n",
              "      <td>363.70</td>\n",
              "    </tr>\n",
              "    <tr>\n",
              "      <th>Total Evening Calls</th>\n",
              "      <td>3333.0</td>\n",
              "      <td>100.114311</td>\n",
              "      <td>19.922625</td>\n",
              "      <td>0.00</td>\n",
              "      <td>87.00</td>\n",
              "      <td>100.00</td>\n",
              "      <td>114.00</td>\n",
              "      <td>170.00</td>\n",
              "    </tr>\n",
              "    <tr>\n",
              "      <th>Total Evening Charge</th>\n",
              "      <td>3333.0</td>\n",
              "      <td>17.083540</td>\n",
              "      <td>4.310668</td>\n",
              "      <td>0.00</td>\n",
              "      <td>14.16</td>\n",
              "      <td>17.12</td>\n",
              "      <td>20.00</td>\n",
              "      <td>30.91</td>\n",
              "    </tr>\n",
              "    <tr>\n",
              "      <th>Total Night Minutes</th>\n",
              "      <td>3333.0</td>\n",
              "      <td>200.872037</td>\n",
              "      <td>50.573847</td>\n",
              "      <td>23.20</td>\n",
              "      <td>167.00</td>\n",
              "      <td>201.20</td>\n",
              "      <td>235.30</td>\n",
              "      <td>395.00</td>\n",
              "    </tr>\n",
              "    <tr>\n",
              "      <th>Total Night Calls</th>\n",
              "      <td>3333.0</td>\n",
              "      <td>100.107711</td>\n",
              "      <td>19.568609</td>\n",
              "      <td>33.00</td>\n",
              "      <td>87.00</td>\n",
              "      <td>100.00</td>\n",
              "      <td>113.00</td>\n",
              "      <td>175.00</td>\n",
              "    </tr>\n",
              "    <tr>\n",
              "      <th>Total Night Charge</th>\n",
              "      <td>3333.0</td>\n",
              "      <td>9.039325</td>\n",
              "      <td>2.275873</td>\n",
              "      <td>1.04</td>\n",
              "      <td>7.52</td>\n",
              "      <td>9.05</td>\n",
              "      <td>10.59</td>\n",
              "      <td>17.77</td>\n",
              "    </tr>\n",
              "    <tr>\n",
              "      <th>Total Int Min</th>\n",
              "      <td>3333.0</td>\n",
              "      <td>10.237294</td>\n",
              "      <td>2.791840</td>\n",
              "      <td>0.00</td>\n",
              "      <td>8.50</td>\n",
              "      <td>10.30</td>\n",
              "      <td>12.10</td>\n",
              "      <td>20.00</td>\n",
              "    </tr>\n",
              "    <tr>\n",
              "      <th>Total Int Calls</th>\n",
              "      <td>3333.0</td>\n",
              "      <td>4.479448</td>\n",
              "      <td>2.461214</td>\n",
              "      <td>0.00</td>\n",
              "      <td>3.00</td>\n",
              "      <td>4.00</td>\n",
              "      <td>6.00</td>\n",
              "      <td>20.00</td>\n",
              "    </tr>\n",
              "    <tr>\n",
              "      <th>Total Int Charge</th>\n",
              "      <td>3333.0</td>\n",
              "      <td>2.764581</td>\n",
              "      <td>0.753773</td>\n",
              "      <td>0.00</td>\n",
              "      <td>2.30</td>\n",
              "      <td>2.78</td>\n",
              "      <td>3.27</td>\n",
              "      <td>5.40</td>\n",
              "    </tr>\n",
              "    <tr>\n",
              "      <th>No of Calls Customer Service</th>\n",
              "      <td>3333.0</td>\n",
              "      <td>1.562856</td>\n",
              "      <td>1.315491</td>\n",
              "      <td>0.00</td>\n",
              "      <td>1.00</td>\n",
              "      <td>1.00</td>\n",
              "      <td>2.00</td>\n",
              "      <td>9.00</td>\n",
              "    </tr>\n",
              "  </tbody>\n",
              "</table>\n",
              "</div>\n",
              "      <button class=\"colab-df-convert\" onclick=\"convertToInteractive('df-46ad832e-df02-4917-a73b-a4ac96548f73')\"\n",
              "              title=\"Convert this dataframe to an interactive table.\"\n",
              "              style=\"display:none;\">\n",
              "        \n",
              "  <svg xmlns=\"http://www.w3.org/2000/svg\" height=\"24px\"viewBox=\"0 0 24 24\"\n",
              "       width=\"24px\">\n",
              "    <path d=\"M0 0h24v24H0V0z\" fill=\"none\"/>\n",
              "    <path d=\"M18.56 5.44l.94 2.06.94-2.06 2.06-.94-2.06-.94-.94-2.06-.94 2.06-2.06.94zm-11 1L8.5 8.5l.94-2.06 2.06-.94-2.06-.94L8.5 2.5l-.94 2.06-2.06.94zm10 10l.94 2.06.94-2.06 2.06-.94-2.06-.94-.94-2.06-.94 2.06-2.06.94z\"/><path d=\"M17.41 7.96l-1.37-1.37c-.4-.4-.92-.59-1.43-.59-.52 0-1.04.2-1.43.59L10.3 9.45l-7.72 7.72c-.78.78-.78 2.05 0 2.83L4 21.41c.39.39.9.59 1.41.59.51 0 1.02-.2 1.41-.59l7.78-7.78 2.81-2.81c.8-.78.8-2.07 0-2.86zM5.41 20L4 18.59l7.72-7.72 1.47 1.35L5.41 20z\"/>\n",
              "  </svg>\n",
              "      </button>\n",
              "      \n",
              "  <style>\n",
              "    .colab-df-container {\n",
              "      display:flex;\n",
              "      flex-wrap:wrap;\n",
              "      gap: 12px;\n",
              "    }\n",
              "\n",
              "    .colab-df-convert {\n",
              "      background-color: #E8F0FE;\n",
              "      border: none;\n",
              "      border-radius: 50%;\n",
              "      cursor: pointer;\n",
              "      display: none;\n",
              "      fill: #1967D2;\n",
              "      height: 32px;\n",
              "      padding: 0 0 0 0;\n",
              "      width: 32px;\n",
              "    }\n",
              "\n",
              "    .colab-df-convert:hover {\n",
              "      background-color: #E2EBFA;\n",
              "      box-shadow: 0px 1px 2px rgba(60, 64, 67, 0.3), 0px 1px 3px 1px rgba(60, 64, 67, 0.15);\n",
              "      fill: #174EA6;\n",
              "    }\n",
              "\n",
              "    [theme=dark] .colab-df-convert {\n",
              "      background-color: #3B4455;\n",
              "      fill: #D2E3FC;\n",
              "    }\n",
              "\n",
              "    [theme=dark] .colab-df-convert:hover {\n",
              "      background-color: #434B5C;\n",
              "      box-shadow: 0px 1px 3px 1px rgba(0, 0, 0, 0.15);\n",
              "      filter: drop-shadow(0px 1px 2px rgba(0, 0, 0, 0.3));\n",
              "      fill: #FFFFFF;\n",
              "    }\n",
              "  </style>\n",
              "\n",
              "      <script>\n",
              "        const buttonEl =\n",
              "          document.querySelector('#df-46ad832e-df02-4917-a73b-a4ac96548f73 button.colab-df-convert');\n",
              "        buttonEl.style.display =\n",
              "          google.colab.kernel.accessAllowed ? 'block' : 'none';\n",
              "\n",
              "        async function convertToInteractive(key) {\n",
              "          const element = document.querySelector('#df-46ad832e-df02-4917-a73b-a4ac96548f73');\n",
              "          const dataTable =\n",
              "            await google.colab.kernel.invokeFunction('convertToInteractive',\n",
              "                                                     [key], {});\n",
              "          if (!dataTable) return;\n",
              "\n",
              "          const docLinkHtml = 'Like what you see? Visit the ' +\n",
              "            '<a target=\"_blank\" href=https://colab.research.google.com/notebooks/data_table.ipynb>data table notebook</a>'\n",
              "            + ' to learn more about interactive tables.';\n",
              "          element.innerHTML = '';\n",
              "          dataTable['output_type'] = 'display_data';\n",
              "          await google.colab.output.renderOutput(dataTable, element);\n",
              "          const docLink = document.createElement('div');\n",
              "          docLink.innerHTML = docLinkHtml;\n",
              "          element.appendChild(docLink);\n",
              "        }\n",
              "      </script>\n",
              "    </div>\n",
              "  </div>\n",
              "  "
            ]
          },
          "metadata": {},
          "execution_count": 9
        }
      ],
      "source": [
        "df.describe().transpose()"
      ]
    },
    {
      "cell_type": "code",
      "execution_count": 10,
      "metadata": {
        "colab": {
          "base_uri": "https://localhost:8080/"
        },
        "id": "7DpKuBvT4bGd",
        "outputId": "bf755710-5be5-49ce-8b2d-22d6290d6981"
      },
      "outputs": [
        {
          "output_type": "execute_result",
          "data": {
            "text/plain": [
              "(3333, 21)"
            ]
          },
          "metadata": {},
          "execution_count": 10
        }
      ],
      "source": [
        "df.shape"
      ]
    },
    {
      "cell_type": "code",
      "source": [
        "df.isna().sum()"
      ],
      "metadata": {
        "colab": {
          "base_uri": "https://localhost:8080/"
        },
        "id": "QZVipmhZMHID",
        "outputId": "b12d0e00-bdf1-489f-ccc6-cc7ba9c66781"
      },
      "execution_count": 11,
      "outputs": [
        {
          "output_type": "execute_result",
          "data": {
            "text/plain": [
              "State                           0\n",
              "Account Length                  0\n",
              "Area Code                       0\n",
              "Phone Number                    0\n",
              "Inter Plan                      0\n",
              "VoiceMail Plan                  0\n",
              "No of Vmail Mesgs               0\n",
              "Total Day Min                   0\n",
              "Total Day calls                 0\n",
              "Total Day Charge                0\n",
              "Total Evening Min               0\n",
              "Total Evening Calls             0\n",
              "Total Evening Charge            0\n",
              "Total Night Minutes             0\n",
              "Total Night Calls               0\n",
              "Total Night Charge              0\n",
              "Total Int Min                   0\n",
              "Total Int Calls                 0\n",
              "Total Int Charge                0\n",
              "No of Calls Customer Service    0\n",
              "Churn                           0\n",
              "dtype: int64"
            ]
          },
          "metadata": {},
          "execution_count": 11
        }
      ]
    },
    {
      "cell_type": "code",
      "execution_count": 12,
      "metadata": {
        "colab": {
          "base_uri": "https://localhost:8080/"
        },
        "id": "JqO5tHFJ4bGf",
        "outputId": "8b572f17-0bfa-4645-80f9-41f0e77cf766"
      },
      "outputs": [
        {
          "output_type": "execute_result",
          "data": {
            "text/plain": [
              "False    3333\n",
              "dtype: int64"
            ]
          },
          "metadata": {},
          "execution_count": 12
        }
      ],
      "source": [
        "df.duplicated().value_counts()"
      ]
    },
    {
      "cell_type": "code",
      "source": [
        "# Boxplot to investigate outliers for numerical values\n",
        "def boxplot(column):\n",
        "    sns.boxplot(data=df,x=df[f\"{column}\"])\n",
        "    plt.title(f\"Boxplot of {column}\")\n",
        "    plt.show()\n",
        "\n",
        "boxplot('Account Length')\n",
        "boxplot('No of Vmail Mesgs')\n",
        "boxplot('Total Day Min')\n",
        "boxplot('Total Day calls')\n",
        "boxplot('Total Day Charge')\n",
        "boxplot('Total Evening Min')\n",
        "boxplot('Total Evening Calls')\n",
        "boxplot('Total Evening Charge')\n",
        "boxplot('Total Night Minutes')\n",
        "boxplot('Total Night Calls')\n",
        "boxplot('Total Night Charge')\n",
        "boxplot('Total Int Min')\n",
        "boxplot('Total Int Calls')\n",
        "boxplot('Total Int Charge')\n",
        "boxplot('No of Calls Customer Service')"
      ],
      "metadata": {
        "colab": {
          "base_uri": "https://localhost:8080/",
          "height": 1000
        },
        "id": "8G0cBIIQZQxc",
        "outputId": "d3cea9b9-0424-4318-f872-cdc11b4eec98"
      },
      "execution_count": 13,
      "outputs": [
        {
          "output_type": "display_data",
          "data": {
            "text/plain": [
              "<Figure size 432x288 with 1 Axes>"
            ],
            "image/png": "[encoded data removed]"
          },
          "metadata": {
            "needs_background": "light"
          }
        },
        {
          "output_type": "display_data",
          "data": {
            "text/plain": [
              "<Figure size 432x288 with 1 Axes>"
            ],
            "image/png": "[encoded data removed]"
          },
          "metadata": {
            "needs_background": "light"
          }
        },
        {
          "output_type": "display_data",
          "data": {
            "text/plain": [
              "<Figure size 432x288 with 1 Axes>"
            ],
            "image/png": "[encoded data removed]"
          },
          "metadata": {
            "needs_background": "light"
          }
        },
        {
          "output_type": "display_data",
          "data": {
            "text/plain": [
              "<Figure size 432x288 with 1 Axes>"
            ],
            "image/png": "[encoded data removed]"
          },
          "metadata": {
            "needs_background": "light"
          }
        },
        {
          "output_type": "display_data",
          "data": {
            "text/plain": [
              "<Figure size 432x288 with 1 Axes>"
            ],
            "image/png": "[encoded data removed]"
          },
          "metadata": {
            "needs_background": "light"
          }
        },
        {
          "output_type": "display_data",
          "data": {
            "text/plain": [
              "<Figure size 432x288 with 1 Axes>"
            ],
            "image/png": "[encoded data removed]"
          },
          "metadata": {
            "needs_background": "light"
          }
        },
        {
          "output_type": "display_data",
          "data": {
            "text/plain": [
              "<Figure size 432x288 with 1 Axes>"
            ],
            "image/png": "[encoded data removed]"
          },
          "metadata": {
            "needs_background": "light"
          }
        },
        {
          "output_type": "display_data",
          "data": {
            "text/plain": [
              "<Figure size 432x288 with 1 Axes>"
            ],
            "image/png": "[encoded data removed]"
          },
          "metadata": {
            "needs_background": "light"
          }
        },
        {
          "output_type": "display_data",
          "data": {
            "text/plain": [
              "<Figure size 432x288 with 1 Axes>"
            ],
            "image/png": "[encoded data removed]"
          },
          "metadata": {
            "needs_background": "light"
          }
        },
        {
          "output_type": "display_data",
          "data": {
            "text/plain": [
              "<Figure size 432x288 with 1 Axes>"
            ],
            "image/png": "[encoded data removed]"
          },
          "metadata": {
            "needs_background": "light"
          }
        },
        {
          "output_type": "display_data",
          "data": {
            "text/plain": [
              "<Figure size 432x288 with 1 Axes>"
            ],
            "image/png": "[encoded data removed]"
          },
          "metadata": {
            "needs_background": "light"
          }
        },
        {
          "output_type": "display_data",
          "data": {
            "text/plain": [
              "<Figure size 432x288 with 1 Axes>"
            ],
            "image/png": "[encoded data removed]"
          },
          "metadata": {
            "needs_background": "light"
          }
        },
        {
          "output_type": "display_data",
          "data": {
            "text/plain": [
              "<Figure size 432x288 with 1 Axes>"
            ],
            "image/png": "[encoded data removed]"
          },
          "metadata": {
            "needs_background": "light"
          }
        },
        {
          "output_type": "display_data",
          "data": {
            "text/plain": [
              "<Figure size 432x288 with 1 Axes>"
            ],
            "image/png": "[encoded data removed]"
          },
          "metadata": {
            "needs_background": "light"
          }
        },
        {
          "output_type": "display_data",
          "data": {
            "text/plain": [
              "<Figure size 432x288 with 1 Axes>"
            ],
            "image/png": "[encoded data removed]"
          },
          "metadata": {
            "needs_background": "light"
          }
        }
      ]
    },
    {
      "cell_type": "code",
      "source": [
        "# Plot histogram for numerical data \n",
        "df.hist(figsize=(15,15))\n",
        "plt.show()"
      ],
      "metadata": {
        "colab": {
          "base_uri": "https://localhost:8080/",
          "height": 879
        },
        "id": "KamiHbSCq-8c",
        "outputId": "67be77f3-d033-4bf9-a564-637f59597b1b"
      },
      "execution_count": 14,
      "outputs": [
        {
          "output_type": "display_data",
          "data": {
            "text/plain": [
              "<Figure size 1080x1080 with 16 Axes>"
            ],
            "image/png": "[encoded data removed]"
          },
          "metadata": {
            "needs_background": "light"
          }
        }
      ]
    },
    {
      "cell_type": "code",
      "source": [
        "# Plot the histogram of \"No of Vmail Mesgs\" again - without class separation\n",
        "df[\"No of Vmail Mesgs\"].hist()\n",
        "plt.title(\"Histogram of No of Vmail Mesgs\")\n",
        "plt.show()"
      ],
      "metadata": {
        "colab": {
          "base_uri": "https://localhost:8080/",
          "height": 281
        },
        "id": "oAV8OpHt9K0P",
        "outputId": "694b3feb-d797-46e3-9cfe-edf04184c388"
      },
      "execution_count": 15,
      "outputs": [
        {
          "output_type": "display_data",
          "data": {
            "text/plain": [
              "<Figure size 432x288 with 1 Axes>"
            ],
            "image/png": "[encoded data removed]"
          },
          "metadata": {
            "needs_background": "light"
          }
        }
      ]
    },
    {
      "cell_type": "code",
      "source": [
        "# Investigate \"No of Vmail Mesgs\" with impact on class attribute_TRUE:\n",
        "df.query('Churn == \"TRUE\" ')[\"No of Vmail Mesgs\"].hist()\n",
        "plt.title(\"Histogram of No of Vmail Mesgs_class_TRUE\")\n",
        "plt.show()"
      ],
      "metadata": {
        "colab": {
          "base_uri": "https://localhost:8080/",
          "height": 281
        },
        "id": "b92cvcja6gou",
        "outputId": "3c35f3dd-40c4-483a-f191-06a0f5f3cce3"
      },
      "execution_count": 16,
      "outputs": [
        {
          "output_type": "display_data",
          "data": {
            "text/plain": [
              "<Figure size 432x288 with 1 Axes>"
            ],
            "image/png": "[encoded data removed]"
          },
          "metadata": {
            "needs_background": "light"
          }
        }
      ]
    },
    {
      "cell_type": "code",
      "source": [
        "# Investigate \"No of Vmail Mesgs\" with impact on class attribute_FALSE:\n",
        "df.query('Churn == \"FALSE\" ')[\"No of Vmail Mesgs\"].hist()\n",
        "plt.title(\"Histogram of No of Vmail Mesgs_class_FALSE\")\n",
        "plt.show()"
      ],
      "metadata": {
        "colab": {
          "base_uri": "https://localhost:8080/",
          "height": 281
        },
        "id": "fc854QCW8i0x",
        "outputId": "6d2e2eca-fd49-412e-de5b-e592157c2d27"
      },
      "execution_count": 17,
      "outputs": [
        {
          "output_type": "display_data",
          "data": {
            "text/plain": [
              "<Figure size 432x288 with 1 Axes>"
            ],
            "image/png": "[encoded data removed]"
          },
          "metadata": {
            "needs_background": "light"
          }
        }
      ]
    },
    {
      "cell_type": "code",
      "source": [
        "# Plot the histogram of \"Total Int Calls\" again - without class separation\n",
        "df[\"Total Int Calls\"].hist()\n",
        "plt.title(\"Histogram of Total Int Calls\")\n",
        "plt.show()"
      ],
      "metadata": {
        "colab": {
          "base_uri": "https://localhost:8080/",
          "height": 281
        },
        "id": "cXcHQRGSDUao",
        "outputId": "642079b8-d47d-4bd5-e17f-e71d9640bcbe"
      },
      "execution_count": 18,
      "outputs": [
        {
          "output_type": "display_data",
          "data": {
            "text/plain": [
              "<Figure size 432x288 with 1 Axes>"
            ],
            "image/png": "[encoded data removed]"
          },
          "metadata": {
            "needs_background": "light"
          }
        }
      ]
    },
    {
      "cell_type": "code",
      "source": [
        "# Investigate \"Total Int Calls\" with impact on class attribute_TRUE:\n",
        "df.query('Churn == \"TRUE\" ')[\"Total Int Calls\"].hist()\n",
        "plt.title(\"Histogram of Total Int Calls_class_TRUE\")\n",
        "plt.show()"
      ],
      "metadata": {
        "colab": {
          "base_uri": "https://localhost:8080/",
          "height": 281
        },
        "id": "82N8VmMkDe1Y",
        "outputId": "b3326f4e-300c-4bb2-da86-d7b306bb5a0f"
      },
      "execution_count": 19,
      "outputs": [
        {
          "output_type": "display_data",
          "data": {
            "text/plain": [
              "<Figure size 432x288 with 1 Axes>"
            ],
            "image/png": "[encoded data removed]"
          },
          "metadata": {
            "needs_background": "light"
          }
        }
      ]
    },
    {
      "cell_type": "code",
      "source": [
        "# Investigate \"Total Int Calls\" with impact on class attribute_FALSE:\n",
        "df.query('Churn == \"FALSE\" ')[\"Total Int Calls\"].hist()\n",
        "plt.title(\"Histogram of Total Int Calls_class_FALSE\")\n",
        "plt.show()"
      ],
      "metadata": {
        "colab": {
          "base_uri": "https://localhost:8080/",
          "height": 281
        },
        "id": "Fg_RMEOoDr_c",
        "outputId": "2f35e0e8-fdb7-48bc-b319-6d41ee8c6bb9"
      },
      "execution_count": 20,
      "outputs": [
        {
          "output_type": "display_data",
          "data": {
            "text/plain": [
              "<Figure size 432x288 with 1 Axes>"
            ],
            "image/png": "[encoded data removed]"
          },
          "metadata": {
            "needs_background": "light"
          }
        }
      ]
    },
    {
      "cell_type": "code",
      "source": [
        "# Plot the histogram of \"No of Calls Customer Service\" again - without class separation\n",
        "df[\"No of Calls Customer Service\"].hist()\n",
        "plt.title(\"Histogram of No of Calls Customer Service\")\n",
        "plt.show()"
      ],
      "metadata": {
        "colab": {
          "base_uri": "https://localhost:8080/",
          "height": 281
        },
        "id": "sLy_3ZzTECAH",
        "outputId": "b9466609-3582-441b-fb58-9fdd9312daf9"
      },
      "execution_count": 21,
      "outputs": [
        {
          "output_type": "display_data",
          "data": {
            "text/plain": [
              "<Figure size 432x288 with 1 Axes>"
            ],
            "image/png": "[encoded data removed]"
          },
          "metadata": {
            "needs_background": "light"
          }
        }
      ]
    },
    {
      "cell_type": "code",
      "source": [
        "# Investigate \"No of Calls Customer Service\" with impact on class attribute_TRUE:\n",
        "df.query('Churn == \"TRUE\" ')[\"No of Calls Customer Service\"].hist()\n",
        "plt.title(\"Histogram of No of Calls Customer Service_class_TRUE\")\n",
        "plt.show()"
      ],
      "metadata": {
        "colab": {
          "base_uri": "https://localhost:8080/",
          "height": 281
        },
        "id": "fITl2uzmDzdt",
        "outputId": "43e6615a-2f6e-49fc-a59b-0ec5128fa7d2"
      },
      "execution_count": 22,
      "outputs": [
        {
          "output_type": "display_data",
          "data": {
            "text/plain": [
              "<Figure size 432x288 with 1 Axes>"
            ],
            "image/png": "[encoded data removed]"
          },
          "metadata": {
            "needs_background": "light"
          }
        }
      ]
    },
    {
      "cell_type": "code",
      "source": [
        "# Investigate \"No of Calls Customer Service\" with impact on class attribute_FALSE:\n",
        "df.query('Churn == \"FALSE\" ')[\"No of Calls Customer Service\"].hist()\n",
        "plt.title(\"Histogram of No of Calls Customer Service_class_FALSE\")\n",
        "plt.show()"
      ],
      "metadata": {
        "colab": {
          "base_uri": "https://localhost:8080/",
          "height": 281
        },
        "id": "hlhK87qiESmX",
        "outputId": "204c29ce-ba9b-4a2a-8103-befdd6a05080"
      },
      "execution_count": 23,
      "outputs": [
        {
          "output_type": "display_data",
          "data": {
            "text/plain": [
              "<Figure size 432x288 with 1 Axes>"
            ],
            "image/png": "[encoded data removed]"
          },
          "metadata": {
            "needs_background": "light"
          }
        }
      ]
    },
    {
      "cell_type": "code",
      "source": [
        "# Imbalance class test - churned or not churned\n",
        "churned = df[df['Churn']=='TRUE']\n",
        "not_churned = df[df['Churn']=='FALSE']\n",
        "\n",
        "print('Percentage of churned customer: {}'.format(churned.shape[0]/df.shape[0]))\n",
        "print('Percentage of not-churned customer: {}'.format(not_churned.shape[0]/df.shape[0]))"
      ],
      "metadata": {
        "colab": {
          "base_uri": "https://localhost:8080/"
        },
        "id": "6rvvBsxvErmB",
        "outputId": "fcdd27ff-1547-4078-b91c-0a00a0e0f3d9"
      },
      "execution_count": 24,
      "outputs": [
        {
          "output_type": "stream",
          "name": "stdout",
          "text": [
            "Percentage of churned customer: 0.14491449144914492\n",
            "Percentage of not-churned customer: 0.8550855085508551\n"
          ]
        }
      ]
    },
    {
      "cell_type": "code",
      "source": [
        "churn_col = df['Churn'].value_counts()\n",
        "print(churn_col)\n",
        "sns.barplot(churn_col.index, churn_col.values)\n",
        "plt.title(\"Barplot of Class Attribute - Churn\")\n",
        "plt.show()"
      ],
      "metadata": {
        "colab": {
          "base_uri": "https://localhost:8080/",
          "height": 388
        },
        "id": "VvG_m2bGTb4K",
        "outputId": "ba383c3b-d4f6-4e50-febf-59592b12bcdd"
      },
      "execution_count": 25,
      "outputs": [
        {
          "output_type": "stream",
          "name": "stdout",
          "text": [
            "FALSE    2850\n",
            "TRUE      483\n",
            "Name: Churn, dtype: int64\n"
          ]
        },
        {
          "output_type": "stream",
          "name": "stderr",
          "text": [
            "/usr/local/lib/python3.7/dist-packages/seaborn/_decorators.py:43: FutureWarning: Pass the following variables as keyword args: x, y. From version 0.12, the only valid positional argument will be `data`, and passing other arguments without an explicit keyword will result in an error or misinterpretation.\n",
            "  FutureWarning\n"
          ]
        },
        {
          "output_type": "display_data",
          "data": {
            "text/plain": [
              "<Figure size 432x288 with 1 Axes>"
            ],
            "image/png": "[encoded data removed]"
          },
          "metadata": {
            "needs_background": "light"
          }
        }
      ]
    },
    {
      "cell_type": "code",
      "source": [
        "# Calculate churn rate\n",
        "churn_rate = (churn_col[1] / df.shape[0])\n",
        "print('Churn Rate:', churn_rate)"
      ],
      "metadata": {
        "colab": {
          "base_uri": "https://localhost:8080/"
        },
        "id": "ijq0Ab_kXL_R",
        "outputId": "8ca72e29-c153-491c-8537-24800e0efc01"
      },
      "execution_count": 26,
      "outputs": [
        {
          "output_type": "stream",
          "name": "stdout",
          "text": [
            "Churn Rate: 0.14491449144914492\n"
          ]
        }
      ]
    },
    {
      "cell_type": "code",
      "source": [
        "# Correlation heatmap\n",
        "plt.figure(figsize=(15,8))\n",
        "corr = df.corr()\n",
        "mask = np.triu(np.ones_like(corr, dtype=bool))\n",
        "sns.heatmap(corr, annot=True, mask=mask, cmap='viridis')\n",
        "plt.title(\"Correlation heatmap for the customer churn dataset\")\n",
        "plt.show()"
      ],
      "metadata": {
        "colab": {
          "base_uri": "https://localhost:8080/",
          "height": 634
        },
        "id": "FSiP2y7_bUya",
        "outputId": "fa5cd1f9-bc9a-424b-f051-0d11d40c78af"
      },
      "execution_count": 27,
      "outputs": [
        {
          "output_type": "display_data",
          "data": {
            "text/plain": [
              "<Figure size 1080x576 with 2 Axes>"
            ],
            "image/png": "[encoded data removed]"
          },
          "metadata": {
            "needs_background": "light"
          }
        }
      ]
    },
    {
      "cell_type": "code",
      "source": [
        "# Check the 'Phone Number' column's values before droppping:\n",
        "df['Phone Number'].value_counts()"
      ],
      "metadata": {
        "colab": {
          "base_uri": "https://localhost:8080/"
        },
        "id": "OtPyeWrmPuFF",
        "outputId": "e8b3d125-9f96-47b8-a2cd-a37021f238fe"
      },
      "execution_count": 28,
      "outputs": [
        {
          "output_type": "execute_result",
          "data": {
            "text/plain": [
              "371-7191    1\n",
              "404-2942    1\n",
              "415-3689    1\n",
              "379-2503    1\n",
              "396-1106    1\n",
              "           ..\n",
              "368-1288    1\n",
              "403-5279    1\n",
              "397-9333    1\n",
              "411-7353    1\n",
              "382-4657    1\n",
              "Name: Phone Number, Length: 3333, dtype: int64"
            ]
          },
          "metadata": {},
          "execution_count": 28
        }
      ]
    },
    {
      "cell_type": "code",
      "execution_count": 29,
      "metadata": {
        "id": "NuBUdW4F4bGf"
      },
      "outputs": [],
      "source": [
        "#since Phone number doesn't give us any info to that can help us in our analysis.\n",
        "df = df.drop(['Phone Number'], axis = 1)"
      ]
    },
    {
      "cell_type": "code",
      "source": [
        "pip install markupsafe==2.0.1"
      ],
      "metadata": {
        "id": "o2Yya_tqG3ik"
      },
      "execution_count": 30,
      "outputs": []
    },
    {
      "cell_type": "code",
      "execution_count": 31,
      "metadata": {
        "id": "GhqpCUVb4bGf"
      },
      "outputs": [],
      "source": [
        "from pandas_profiling import ProfileReport\n",
        "profile = ProfileReport(df)"
      ]
    },
    {
      "cell_type": "code",
      "execution_count": 32,
      "metadata": {
        "id": "vgsxtN4o4bGg"
      },
      "outputs": [],
      "source": [
        "profile.to_notebook_iframe()"
      ]
    },
    {
      "cell_type": "code",
      "source": [
        "# One-hot encoding from categorical to numerical data\n",
        "# Let's create a list for our categorical columns for our customer churn dataset\n",
        "cat_cols=[\"State\",\"Area Code\", \"Inter Plan\", \"VoiceMail Plan\"]"
      ],
      "metadata": {
        "id": "ftSpc3IAZK6p"
      },
      "execution_count": 33,
      "outputs": []
    },
    {
      "cell_type": "code",
      "source": [
        "# Create a copy of the data frame in memory with a different name\n",
        "df_onehot=df.copy()\n",
        "df_onehot"
      ],
      "metadata": {
        "colab": {
          "base_uri": "https://localhost:8080/",
          "height": 502
        },
        "id": "oxgMO46CZ1De",
        "outputId": "5dcc9aa8-94fe-45da-f56e-607aaf67dcaf"
      },
      "execution_count": 34,
      "outputs": [
        {
          "output_type": "execute_result",
          "data": {
            "text/plain": [
              "     State  Account Length Area Code Inter Plan VoiceMail Plan  \\\n",
              "0       OH           107.0      A415         no            yes   \n",
              "1       NJ           137.0      A415         no             no   \n",
              "2       OH            84.0      A408        yes             no   \n",
              "3       OK            75.0      A415        yes             no   \n",
              "4       AL           118.0      A510        yes             no   \n",
              "...    ...             ...       ...        ...            ...   \n",
              "3328    WV            68.0      A415         no             no   \n",
              "3329    RI            28.0      A510         no             no   \n",
              "3330    CT           184.0      A510        yes             no   \n",
              "3331    TN            74.0      A415         no            yes   \n",
              "3332    KS           128.0      A415         no            yes   \n",
              "\n",
              "      No of Vmail Mesgs  Total Day Min  Total Day calls  Total Day Charge  \\\n",
              "0                  26.0          161.6            123.0             27.47   \n",
              "1                   0.0          243.4            114.0             41.38   \n",
              "2                   0.0          299.4             71.0             50.90   \n",
              "3                   0.0          166.7            113.0             28.34   \n",
              "4                   0.0          223.4             98.0             37.98   \n",
              "...                 ...            ...              ...               ...   \n",
              "3328                0.0          231.1             57.0             39.29   \n",
              "3329                0.0          180.8            109.0             30.74   \n",
              "3330                0.0          213.8            105.0             36.35   \n",
              "3331               25.0          234.4            113.0             39.85   \n",
              "3332               25.0          265.1            110.0             45.07   \n",
              "\n",
              "      Total Evening Min  Total Evening Calls  Total Evening Charge  \\\n",
              "0                 195.5                103.0                 16.62   \n",
              "1                 121.2                110.0                 10.30   \n",
              "2                  61.9                 88.0                  5.26   \n",
              "3                 148.3                122.0                 12.61   \n",
              "4                 220.6                101.0                 18.75   \n",
              "...                 ...                  ...                   ...   \n",
              "3328              153.4                 55.0                 13.04   \n",
              "3329              288.8                 58.0                 24.55   \n",
              "3330              159.6                 84.0                 13.57   \n",
              "3331              265.9                 82.0                 22.60   \n",
              "3332              197.4                 99.0                 16.78   \n",
              "\n",
              "      Total Night Minutes  Total Night Calls  Total Night Charge  \\\n",
              "0                   254.4              103.0               11.45   \n",
              "1                   162.6              104.0                7.32   \n",
              "2                   196.9               89.0                8.86   \n",
              "3                   186.9              121.0                8.41   \n",
              "4                   203.9              118.0                9.18   \n",
              "...                   ...                ...                 ...   \n",
              "3328                191.3              123.0                8.61   \n",
              "3329                191.9               91.0                8.64   \n",
              "3330                139.2              137.0                6.26   \n",
              "3331                241.4               77.0               10.86   \n",
              "3332                244.7               91.0               11.01   \n",
              "\n",
              "      Total Int Min  Total Int Calls  Total Int Charge  \\\n",
              "0              13.7              3.0              3.70   \n",
              "1              12.2              5.0              3.29   \n",
              "2               6.6              7.0              1.78   \n",
              "3              10.1              3.0              2.73   \n",
              "4               6.3              6.0              1.70   \n",
              "...             ...              ...               ...   \n",
              "3328            9.6              4.0              2.59   \n",
              "3329           14.1              6.0              3.81   \n",
              "3330            5.0             10.0              1.35   \n",
              "3331           13.7              4.0              3.70   \n",
              "3332           10.0              3.0              2.70   \n",
              "\n",
              "      No of Calls Customer Service  Churn  \n",
              "0                              1.0  FALSE  \n",
              "1                              0.0  FALSE  \n",
              "2                              2.0  FALSE  \n",
              "3                              3.0  FALSE  \n",
              "4                              0.0  FALSE  \n",
              "...                            ...    ...  \n",
              "3328                           3.0  FALSE  \n",
              "3329                           2.0  FALSE  \n",
              "3330                           2.0  FALSE  \n",
              "3331                           0.0  FALSE  \n",
              "3332                           1.0  FALSE  \n",
              "\n",
              "[3333 rows x 20 columns]"
            ],
            "text/html": [
              "\n",
              "  <div id=\"df-d6d26f4d-2400-41c9-835c-99fae13a7b6e\">\n",
              "    <div class=\"colab-df-container\">\n",
              "      <div>\n",
              "<style scoped>\n",
              "    .dataframe tbody tr th:only-of-type {\n",
              "        vertical-align: middle;\n",
              "    }\n",
              "\n",
              "    .dataframe tbody tr th {\n",
              "        vertical-align: top;\n",
              "    }\n",
              "\n",
              "    .dataframe thead th {\n",
              "        text-align: right;\n",
              "    }\n",
              "</style>\n",
              "<table border=\"1\" class=\"dataframe\">\n",
              "  <thead>\n",
              "    <tr style=\"text-align: right;\">\n",
              "      <th></th>\n",
              "      <th>State</th>\n",
              "      <th>Account Length</th>\n",
              "      <th>Area Code</th>\n",
              "      <th>Inter Plan</th>\n",
              "      <th>VoiceMail Plan</th>\n",
              "      <th>No of Vmail Mesgs</th>\n",
              "      <th>Total Day Min</th>\n",
              "      <th>Total Day calls</th>\n",
              "      <th>Total Day Charge</th>\n",
              "      <th>Total Evening Min</th>\n",
              "      <th>Total Evening Calls</th>\n",
              "      <th>Total Evening Charge</th>\n",
              "      <th>Total Night Minutes</th>\n",
              "      <th>Total Night Calls</th>\n",
              "      <th>Total Night Charge</th>\n",
              "      <th>Total Int Min</th>\n",
              "      <th>Total Int Calls</th>\n",
              "      <th>Total Int Charge</th>\n",
              "      <th>No of Calls Customer Service</th>\n",
              "      <th>Churn</th>\n",
              "    </tr>\n",
              "  </thead>\n",
              "  <tbody>\n",
              "    <tr>\n",
              "      <th>0</th>\n",
              "      <td>OH</td>\n",
              "      <td>107.0</td>\n",
              "      <td>A415</td>\n",
              "      <td>no</td>\n",
              "      <td>yes</td>\n",
              "      <td>26.0</td>\n",
              "      <td>161.6</td>\n",
              "      <td>123.0</td>\n",
              "      <td>27.47</td>\n",
              "      <td>195.5</td>\n",
              "      <td>103.0</td>\n",
              "      <td>16.62</td>\n",
              "      <td>254.4</td>\n",
              "      <td>103.0</td>\n",
              "      <td>11.45</td>\n",
              "      <td>13.7</td>\n",
              "      <td>3.0</td>\n",
              "      <td>3.70</td>\n",
              "      <td>1.0</td>\n",
              "      <td>FALSE</td>\n",
              "    </tr>\n",
              "    <tr>\n",
              "      <th>1</th>\n",
              "      <td>NJ</td>\n",
              "      <td>137.0</td>\n",
              "      <td>A415</td>\n",
              "      <td>no</td>\n",
              "      <td>no</td>\n",
              "      <td>0.0</td>\n",
              "      <td>243.4</td>\n",
              "      <td>114.0</td>\n",
              "      <td>41.38</td>\n",
              "      <td>121.2</td>\n",
              "      <td>110.0</td>\n",
              "      <td>10.30</td>\n",
              "      <td>162.6</td>\n",
              "      <td>104.0</td>\n",
              "      <td>7.32</td>\n",
              "      <td>12.2</td>\n",
              "      <td>5.0</td>\n",
              "      <td>3.29</td>\n",
              "      <td>0.0</td>\n",
              "      <td>FALSE</td>\n",
              "    </tr>\n",
              "    <tr>\n",
              "      <th>2</th>\n",
              "      <td>OH</td>\n",
              "      <td>84.0</td>\n",
              "      <td>A408</td>\n",
              "      <td>yes</td>\n",
              "      <td>no</td>\n",
              "      <td>0.0</td>\n",
              "      <td>299.4</td>\n",
              "      <td>71.0</td>\n",
              "      <td>50.90</td>\n",
              "      <td>61.9</td>\n",
              "      <td>88.0</td>\n",
              "      <td>5.26</td>\n",
              "      <td>196.9</td>\n",
              "      <td>89.0</td>\n",
              "      <td>8.86</td>\n",
              "      <td>6.6</td>\n",
              "      <td>7.0</td>\n",
              "      <td>1.78</td>\n",
              "      <td>2.0</td>\n",
              "      <td>FALSE</td>\n",
              "    </tr>\n",
              "    <tr>\n",
              "      <th>3</th>\n",
              "      <td>OK</td>\n",
              "      <td>75.0</td>\n",
              "      <td>A415</td>\n",
              "      <td>yes</td>\n",
              "      <td>no</td>\n",
              "      <td>0.0</td>\n",
              "      <td>166.7</td>\n",
              "      <td>113.0</td>\n",
              "      <td>28.34</td>\n",
              "      <td>148.3</td>\n",
              "      <td>122.0</td>\n",
              "      <td>12.61</td>\n",
              "      <td>186.9</td>\n",
              "      <td>121.0</td>\n",
              "      <td>8.41</td>\n",
              "      <td>10.1</td>\n",
              "      <td>3.0</td>\n",
              "      <td>2.73</td>\n",
              "      <td>3.0</td>\n",
              "      <td>FALSE</td>\n",
              "    </tr>\n",
              "    <tr>\n",
              "      <th>4</th>\n",
              "      <td>AL</td>\n",
              "      <td>118.0</td>\n",
              "      <td>A510</td>\n",
              "      <td>yes</td>\n",
              "      <td>no</td>\n",
              "      <td>0.0</td>\n",
              "      <td>223.4</td>\n",
              "      <td>98.0</td>\n",
              "      <td>37.98</td>\n",
              "      <td>220.6</td>\n",
              "      <td>101.0</td>\n",
              "      <td>18.75</td>\n",
              "      <td>203.9</td>\n",
              "      <td>118.0</td>\n",
              "      <td>9.18</td>\n",
              "      <td>6.3</td>\n",
              "      <td>6.0</td>\n",
              "      <td>1.70</td>\n",
              "      <td>0.0</td>\n",
              "      <td>FALSE</td>\n",
              "    </tr>\n",
              "    <tr>\n",
              "      <th>...</th>\n",
              "      <td>...</td>\n",
              "      <td>...</td>\n",
              "      <td>...</td>\n",
              "      <td>...</td>\n",
              "      <td>...</td>\n",
              "      <td>...</td>\n",
              "      <td>...</td>\n",
              "      <td>...</td>\n",
              "      <td>...</td>\n",
              "      <td>...</td>\n",
              "      <td>...</td>\n",
              "      <td>...</td>\n",
              "      <td>...</td>\n",
              "      <td>...</td>\n",
              "      <td>...</td>\n",
              "      <td>...</td>\n",
              "      <td>...</td>\n",
              "      <td>...</td>\n",
              "      <td>...</td>\n",
              "      <td>...</td>\n",
              "    </tr>\n",
              "    <tr>\n",
              "      <th>3328</th>\n",
              "      <td>WV</td>\n",
              "      <td>68.0</td>\n",
              "      <td>A415</td>\n",
              "      <td>no</td>\n",
              "      <td>no</td>\n",
              "      <td>0.0</td>\n",
              "      <td>231.1</td>\n",
              "      <td>57.0</td>\n",
              "      <td>39.29</td>\n",
              "      <td>153.4</td>\n",
              "      <td>55.0</td>\n",
              "      <td>13.04</td>\n",
              "      <td>191.3</td>\n",
              "      <td>123.0</td>\n",
              "      <td>8.61</td>\n",
              "      <td>9.6</td>\n",
              "      <td>4.0</td>\n",
              "      <td>2.59</td>\n",
              "      <td>3.0</td>\n",
              "      <td>FALSE</td>\n",
              "    </tr>\n",
              "    <tr>\n",
              "      <th>3329</th>\n",
              "      <td>RI</td>\n",
              "      <td>28.0</td>\n",
              "      <td>A510</td>\n",
              "      <td>no</td>\n",
              "      <td>no</td>\n",
              "      <td>0.0</td>\n",
              "      <td>180.8</td>\n",
              "      <td>109.0</td>\n",
              "      <td>30.74</td>\n",
              "      <td>288.8</td>\n",
              "      <td>58.0</td>\n",
              "      <td>24.55</td>\n",
              "      <td>191.9</td>\n",
              "      <td>91.0</td>\n",
              "      <td>8.64</td>\n",
              "      <td>14.1</td>\n",
              "      <td>6.0</td>\n",
              "      <td>3.81</td>\n",
              "      <td>2.0</td>\n",
              "      <td>FALSE</td>\n",
              "    </tr>\n",
              "    <tr>\n",
              "      <th>3330</th>\n",
              "      <td>CT</td>\n",
              "      <td>184.0</td>\n",
              "      <td>A510</td>\n",
              "      <td>yes</td>\n",
              "      <td>no</td>\n",
              "      <td>0.0</td>\n",
              "      <td>213.8</td>\n",
              "      <td>105.0</td>\n",
              "      <td>36.35</td>\n",
              "      <td>159.6</td>\n",
              "      <td>84.0</td>\n",
              "      <td>13.57</td>\n",
              "      <td>139.2</td>\n",
              "      <td>137.0</td>\n",
              "      <td>6.26</td>\n",
              "      <td>5.0</td>\n",
              "      <td>10.0</td>\n",
              "      <td>1.35</td>\n",
              "      <td>2.0</td>\n",
              "      <td>FALSE</td>\n",
              "    </tr>\n",
              "    <tr>\n",
              "      <th>3331</th>\n",
              "      <td>TN</td>\n",
              "      <td>74.0</td>\n",
              "      <td>A415</td>\n",
              "      <td>no</td>\n",
              "      <td>yes</td>\n",
              "      <td>25.0</td>\n",
              "      <td>234.4</td>\n",
              "      <td>113.0</td>\n",
              "      <td>39.85</td>\n",
              "      <td>265.9</td>\n",
              "      <td>82.0</td>\n",
              "      <td>22.60</td>\n",
              "      <td>241.4</td>\n",
              "      <td>77.0</td>\n",
              "      <td>10.86</td>\n",
              "      <td>13.7</td>\n",
              "      <td>4.0</td>\n",
              "      <td>3.70</td>\n",
              "      <td>0.0</td>\n",
              "      <td>FALSE</td>\n",
              "    </tr>\n",
              "    <tr>\n",
              "      <th>3332</th>\n",
              "      <td>KS</td>\n",
              "      <td>128.0</td>\n",
              "      <td>A415</td>\n",
              "      <td>no</td>\n",
              "      <td>yes</td>\n",
              "      <td>25.0</td>\n",
              "      <td>265.1</td>\n",
              "      <td>110.0</td>\n",
              "      <td>45.07</td>\n",
              "      <td>197.4</td>\n",
              "      <td>99.0</td>\n",
              "      <td>16.78</td>\n",
              "      <td>244.7</td>\n",
              "      <td>91.0</td>\n",
              "      <td>11.01</td>\n",
              "      <td>10.0</td>\n",
              "      <td>3.0</td>\n",
              "      <td>2.70</td>\n",
              "      <td>1.0</td>\n",
              "      <td>FALSE</td>\n",
              "    </tr>\n",
              "  </tbody>\n",
              "</table>\n",
              "<p>3333 rows × 20 columns</p>\n",
              "</div>\n",
              "      <button class=\"colab-df-convert\" onclick=\"convertToInteractive('df-d6d26f4d-2400-41c9-835c-99fae13a7b6e')\"\n",
              "              title=\"Convert this dataframe to an interactive table.\"\n",
              "              style=\"display:none;\">\n",
              "        \n",
              "  <svg xmlns=\"http://www.w3.org/2000/svg\" height=\"24px\"viewBox=\"0 0 24 24\"\n",
              "       width=\"24px\">\n",
              "    <path d=\"M0 0h24v24H0V0z\" fill=\"none\"/>\n",
              "    <path d=\"M18.56 5.44l.94 2.06.94-2.06 2.06-.94-2.06-.94-.94-2.06-.94 2.06-2.06.94zm-11 1L8.5 8.5l.94-2.06 2.06-.94-2.06-.94L8.5 2.5l-.94 2.06-2.06.94zm10 10l.94 2.06.94-2.06 2.06-.94-2.06-.94-.94-2.06-.94 2.06-2.06.94z\"/><path d=\"M17.41 7.96l-1.37-1.37c-.4-.4-.92-.59-1.43-.59-.52 0-1.04.2-1.43.59L10.3 9.45l-7.72 7.72c-.78.78-.78 2.05 0 2.83L4 21.41c.39.39.9.59 1.41.59.51 0 1.02-.2 1.41-.59l7.78-7.78 2.81-2.81c.8-.78.8-2.07 0-2.86zM5.41 20L4 18.59l7.72-7.72 1.47 1.35L5.41 20z\"/>\n",
              "  </svg>\n",
              "      </button>\n",
              "      \n",
              "  <style>\n",
              "    .colab-df-container {\n",
              "      display:flex;\n",
              "      flex-wrap:wrap;\n",
              "      gap: 12px;\n",
              "    }\n",
              "\n",
              "    .colab-df-convert {\n",
              "      background-color: #E8F0FE;\n",
              "      border: none;\n",
              "      border-radius: 50%;\n",
              "      cursor: pointer;\n",
              "      display: none;\n",
              "      fill: #1967D2;\n",
              "      height: 32px;\n",
              "      padding: 0 0 0 0;\n",
              "      width: 32px;\n",
              "    }\n",
              "\n",
              "    .colab-df-convert:hover {\n",
              "      background-color: #E2EBFA;\n",
              "      box-shadow: 0px 1px 2px rgba(60, 64, 67, 0.3), 0px 1px 3px 1px rgba(60, 64, 67, 0.15);\n",
              "      fill: #174EA6;\n",
              "    }\n",
              "\n",
              "    [theme=dark] .colab-df-convert {\n",
              "      background-color: #3B4455;\n",
              "      fill: #D2E3FC;\n",
              "    }\n",
              "\n",
              "    [theme=dark] .colab-df-convert:hover {\n",
              "      background-color: #434B5C;\n",
              "      box-shadow: 0px 1px 3px 1px rgba(0, 0, 0, 0.15);\n",
              "      filter: drop-shadow(0px 1px 2px rgba(0, 0, 0, 0.3));\n",
              "      fill: #FFFFFF;\n",
              "    }\n",
              "  </style>\n",
              "\n",
              "      <script>\n",
              "        const buttonEl =\n",
              "          document.querySelector('#df-d6d26f4d-2400-41c9-835c-99fae13a7b6e button.colab-df-convert');\n",
              "        buttonEl.style.display =\n",
              "          google.colab.kernel.accessAllowed ? 'block' : 'none';\n",
              "\n",
              "        async function convertToInteractive(key) {\n",
              "          const element = document.querySelector('#df-d6d26f4d-2400-41c9-835c-99fae13a7b6e');\n",
              "          const dataTable =\n",
              "            await google.colab.kernel.invokeFunction('convertToInteractive',\n",
              "                                                     [key], {});\n",
              "          if (!dataTable) return;\n",
              "\n",
              "          const docLinkHtml = 'Like what you see? Visit the ' +\n",
              "            '<a target=\"_blank\" href=https://colab.research.google.com/notebooks/data_table.ipynb>data table notebook</a>'\n",
              "            + ' to learn more about interactive tables.';\n",
              "          element.innerHTML = '';\n",
              "          dataTable['output_type'] = 'display_data';\n",
              "          await google.colab.output.renderOutput(dataTable, element);\n",
              "          const docLink = document.createElement('div');\n",
              "          docLink.innerHTML = docLinkHtml;\n",
              "          element.appendChild(docLink);\n",
              "        }\n",
              "      </script>\n",
              "    </div>\n",
              "  </div>\n",
              "  "
            ]
          },
          "metadata": {},
          "execution_count": 34
        }
      ]
    },
    {
      "cell_type": "code",
      "source": [
        "#convert only categorical variables/features to dummy/one-hot features\n",
        "df_onehot = pd.get_dummies(df, columns=cat_cols, prefix = cat_cols)\n",
        "\n",
        "#print the dataset\n",
        "df_onehot"
      ],
      "metadata": {
        "colab": {
          "base_uri": "https://localhost:8080/",
          "height": 502
        },
        "id": "RsrXitVin66W",
        "outputId": "7c6e4b03-1cdb-42da-b693-dae7d5ae664d"
      },
      "execution_count": 35,
      "outputs": [
        {
          "output_type": "execute_result",
          "data": {
            "text/plain": [
              "      Account Length  No of Vmail Mesgs  Total Day Min  Total Day calls  \\\n",
              "0              107.0               26.0          161.6            123.0   \n",
              "1              137.0                0.0          243.4            114.0   \n",
              "2               84.0                0.0          299.4             71.0   \n",
              "3               75.0                0.0          166.7            113.0   \n",
              "4              118.0                0.0          223.4             98.0   \n",
              "...              ...                ...            ...              ...   \n",
              "3328            68.0                0.0          231.1             57.0   \n",
              "3329            28.0                0.0          180.8            109.0   \n",
              "3330           184.0                0.0          213.8            105.0   \n",
              "3331            74.0               25.0          234.4            113.0   \n",
              "3332           128.0               25.0          265.1            110.0   \n",
              "\n",
              "      Total Day Charge  Total Evening Min  Total Evening Calls  \\\n",
              "0                27.47              195.5                103.0   \n",
              "1                41.38              121.2                110.0   \n",
              "2                50.90               61.9                 88.0   \n",
              "3                28.34              148.3                122.0   \n",
              "4                37.98              220.6                101.0   \n",
              "...                ...                ...                  ...   \n",
              "3328             39.29              153.4                 55.0   \n",
              "3329             30.74              288.8                 58.0   \n",
              "3330             36.35              159.6                 84.0   \n",
              "3331             39.85              265.9                 82.0   \n",
              "3332             45.07              197.4                 99.0   \n",
              "\n",
              "      Total Evening Charge  Total Night Minutes  Total Night Calls  ...  \\\n",
              "0                    16.62                254.4              103.0  ...   \n",
              "1                    10.30                162.6              104.0  ...   \n",
              "2                     5.26                196.9               89.0  ...   \n",
              "3                    12.61                186.9              121.0  ...   \n",
              "4                    18.75                203.9              118.0  ...   \n",
              "...                    ...                  ...                ...  ...   \n",
              "3328                 13.04                191.3              123.0  ...   \n",
              "3329                 24.55                191.9               91.0  ...   \n",
              "3330                 13.57                139.2              137.0  ...   \n",
              "3331                 22.60                241.4               77.0  ...   \n",
              "3332                 16.78                244.7               91.0  ...   \n",
              "\n",
              "      State_WI  State_WV  State_WY  Area Code_A408  Area Code_A415  \\\n",
              "0            0         0         0               0               1   \n",
              "1            0         0         0               0               1   \n",
              "2            0         0         0               1               0   \n",
              "3            0         0         0               0               1   \n",
              "4            0         0         0               0               0   \n",
              "...        ...       ...       ...             ...             ...   \n",
              "3328         0         1         0               0               1   \n",
              "3329         0         0         0               0               0   \n",
              "3330         0         0         0               0               0   \n",
              "3331         0         0         0               0               1   \n",
              "3332         0         0         0               0               1   \n",
              "\n",
              "     Area Code_A510  Inter Plan_no  Inter Plan_yes  VoiceMail Plan_no  \\\n",
              "0                 0              1               0                  0   \n",
              "1                 0              1               0                  1   \n",
              "2                 0              0               1                  1   \n",
              "3                 0              0               1                  1   \n",
              "4                 1              0               1                  1   \n",
              "...             ...            ...             ...                ...   \n",
              "3328              0              1               0                  1   \n",
              "3329              1              1               0                  1   \n",
              "3330              1              0               1                  1   \n",
              "3331              0              1               0                  0   \n",
              "3332              0              1               0                  0   \n",
              "\n",
              "      VoiceMail Plan_yes  \n",
              "0                      1  \n",
              "1                      0  \n",
              "2                      0  \n",
              "3                      0  \n",
              "4                      0  \n",
              "...                  ...  \n",
              "3328                   0  \n",
              "3329                   0  \n",
              "3330                   0  \n",
              "3331                   1  \n",
              "3332                   1  \n",
              "\n",
              "[3333 rows x 74 columns]"
            ],
            "text/html": [
              "\n",
              "  <div id=\"df-487921aa-735a-41c0-b201-6b600a98d090\">\n",
              "    <div class=\"colab-df-container\">\n",
              "      <div>\n",
              "<style scoped>\n",
              "    .dataframe tbody tr th:only-of-type {\n",
              "        vertical-align: middle;\n",
              "    }\n",
              "\n",
              "    .dataframe tbody tr th {\n",
              "        vertical-align: top;\n",
              "    }\n",
              "\n",
              "    .dataframe thead th {\n",
              "        text-align: right;\n",
              "    }\n",
              "</style>\n",
              "<table border=\"1\" class=\"dataframe\">\n",
              "  <thead>\n",
              "    <tr style=\"text-align: right;\">\n",
              "      <th></th>\n",
              "      <th>Account Length</th>\n",
              "      <th>No of Vmail Mesgs</th>\n",
              "      <th>Total Day Min</th>\n",
              "      <th>Total Day calls</th>\n",
              "      <th>Total Day Charge</th>\n",
              "      <th>Total Evening Min</th>\n",
              "      <th>Total Evening Calls</th>\n",
              "      <th>Total Evening Charge</th>\n",
              "      <th>Total Night Minutes</th>\n",
              "      <th>Total Night Calls</th>\n",
              "      <th>...</th>\n",
              "      <th>State_WI</th>\n",
              "      <th>State_WV</th>\n",
              "      <th>State_WY</th>\n",
              "      <th>Area Code_A408</th>\n",
              "      <th>Area Code_A415</th>\n",
              "      <th>Area Code_A510</th>\n",
              "      <th>Inter Plan_no</th>\n",
              "      <th>Inter Plan_yes</th>\n",
              "      <th>VoiceMail Plan_no</th>\n",
              "      <th>VoiceMail Plan_yes</th>\n",
              "    </tr>\n",
              "  </thead>\n",
              "  <tbody>\n",
              "    <tr>\n",
              "      <th>0</th>\n",
              "      <td>107.0</td>\n",
              "      <td>26.0</td>\n",
              "      <td>161.6</td>\n",
              "      <td>123.0</td>\n",
              "      <td>27.47</td>\n",
              "      <td>195.5</td>\n",
              "      <td>103.0</td>\n",
              "      <td>16.62</td>\n",
              "      <td>254.4</td>\n",
              "      <td>103.0</td>\n",
              "      <td>...</td>\n",
              "      <td>0</td>\n",
              "      <td>0</td>\n",
              "      <td>0</td>\n",
              "      <td>0</td>\n",
              "      <td>1</td>\n",
              "      <td>0</td>\n",
              "      <td>1</td>\n",
              "      <td>0</td>\n",
              "      <td>0</td>\n",
              "      <td>1</td>\n",
              "    </tr>\n",
              "    <tr>\n",
              "      <th>1</th>\n",
              "      <td>137.0</td>\n",
              "      <td>0.0</td>\n",
              "      <td>243.4</td>\n",
              "      <td>114.0</td>\n",
              "      <td>41.38</td>\n",
              "      <td>121.2</td>\n",
              "      <td>110.0</td>\n",
              "      <td>10.30</td>\n",
              "      <td>162.6</td>\n",
              "      <td>104.0</td>\n",
              "      <td>...</td>\n",
              "      <td>0</td>\n",
              "      <td>0</td>\n",
              "      <td>0</td>\n",
              "      <td>0</td>\n",
              "      <td>1</td>\n",
              "      <td>0</td>\n",
              "      <td>1</td>\n",
              "      <td>0</td>\n",
              "      <td>1</td>\n",
              "      <td>0</td>\n",
              "    </tr>\n",
              "    <tr>\n",
              "      <th>2</th>\n",
              "      <td>84.0</td>\n",
              "      <td>0.0</td>\n",
              "      <td>299.4</td>\n",
              "      <td>71.0</td>\n",
              "      <td>50.90</td>\n",
              "      <td>61.9</td>\n",
              "      <td>88.0</td>\n",
              "      <td>5.26</td>\n",
              "      <td>196.9</td>\n",
              "      <td>89.0</td>\n",
              "      <td>...</td>\n",
              "      <td>0</td>\n",
              "      <td>0</td>\n",
              "      <td>0</td>\n",
              "      <td>1</td>\n",
              "      <td>0</td>\n",
              "      <td>0</td>\n",
              "      <td>0</td>\n",
              "      <td>1</td>\n",
              "      <td>1</td>\n",
              "      <td>0</td>\n",
              "    </tr>\n",
              "    <tr>\n",
              "      <th>3</th>\n",
              "      <td>75.0</td>\n",
              "      <td>0.0</td>\n",
              "      <td>166.7</td>\n",
              "      <td>113.0</td>\n",
              "      <td>28.34</td>\n",
              "      <td>148.3</td>\n",
              "      <td>122.0</td>\n",
              "      <td>12.61</td>\n",
              "      <td>186.9</td>\n",
              "      <td>121.0</td>\n",
              "      <td>...</td>\n",
              "      <td>0</td>\n",
              "      <td>0</td>\n",
              "      <td>0</td>\n",
              "      <td>0</td>\n",
              "      <td>1</td>\n",
              "      <td>0</td>\n",
              "      <td>0</td>\n",
              "      <td>1</td>\n",
              "      <td>1</td>\n",
              "      <td>0</td>\n",
              "    </tr>\n",
              "    <tr>\n",
              "      <th>4</th>\n",
              "      <td>118.0</td>\n",
              "      <td>0.0</td>\n",
              "      <td>223.4</td>\n",
              "      <td>98.0</td>\n",
              "      <td>37.98</td>\n",
              "      <td>220.6</td>\n",
              "      <td>101.0</td>\n",
              "      <td>18.75</td>\n",
              "      <td>203.9</td>\n",
              "      <td>118.0</td>\n",
              "      <td>...</td>\n",
              "      <td>0</td>\n",
              "      <td>0</td>\n",
              "      <td>0</td>\n",
              "      <td>0</td>\n",
              "      <td>0</td>\n",
              "      <td>1</td>\n",
              "      <td>0</td>\n",
              "      <td>1</td>\n",
              "      <td>1</td>\n",
              "      <td>0</td>\n",
              "    </tr>\n",
              "    <tr>\n",
              "      <th>...</th>\n",
              "      <td>...</td>\n",
              "      <td>...</td>\n",
              "      <td>...</td>\n",
              "      <td>...</td>\n",
              "      <td>...</td>\n",
              "      <td>...</td>\n",
              "      <td>...</td>\n",
              "      <td>...</td>\n",
              "      <td>...</td>\n",
              "      <td>...</td>\n",
              "      <td>...</td>\n",
              "      <td>...</td>\n",
              "      <td>...</td>\n",
              "      <td>...</td>\n",
              "      <td>...</td>\n",
              "      <td>...</td>\n",
              "      <td>...</td>\n",
              "      <td>...</td>\n",
              "      <td>...</td>\n",
              "      <td>...</td>\n",
              "      <td>...</td>\n",
              "    </tr>\n",
              "    <tr>\n",
              "      <th>3328</th>\n",
              "      <td>68.0</td>\n",
              "      <td>0.0</td>\n",
              "      <td>231.1</td>\n",
              "      <td>57.0</td>\n",
              "      <td>39.29</td>\n",
              "      <td>153.4</td>\n",
              "      <td>55.0</td>\n",
              "      <td>13.04</td>\n",
              "      <td>191.3</td>\n",
              "      <td>123.0</td>\n",
              "      <td>...</td>\n",
              "      <td>0</td>\n",
              "      <td>1</td>\n",
              "      <td>0</td>\n",
              "      <td>0</td>\n",
              "      <td>1</td>\n",
              "      <td>0</td>\n",
              "      <td>1</td>\n",
              "      <td>0</td>\n",
              "      <td>1</td>\n",
              "      <td>0</td>\n",
              "    </tr>\n",
              "    <tr>\n",
              "      <th>3329</th>\n",
              "      <td>28.0</td>\n",
              "      <td>0.0</td>\n",
              "      <td>180.8</td>\n",
              "      <td>109.0</td>\n",
              "      <td>30.74</td>\n",
              "      <td>288.8</td>\n",
              "      <td>58.0</td>\n",
              "      <td>24.55</td>\n",
              "      <td>191.9</td>\n",
              "      <td>91.0</td>\n",
              "      <td>...</td>\n",
              "      <td>0</td>\n",
              "      <td>0</td>\n",
              "      <td>0</td>\n",
              "      <td>0</td>\n",
              "      <td>0</td>\n",
              "      <td>1</td>\n",
              "      <td>1</td>\n",
              "      <td>0</td>\n",
              "      <td>1</td>\n",
              "      <td>0</td>\n",
              "    </tr>\n",
              "    <tr>\n",
              "      <th>3330</th>\n",
              "      <td>184.0</td>\n",
              "      <td>0.0</td>\n",
              "      <td>213.8</td>\n",
              "      <td>105.0</td>\n",
              "      <td>36.35</td>\n",
              "      <td>159.6</td>\n",
              "      <td>84.0</td>\n",
              "      <td>13.57</td>\n",
              "      <td>139.2</td>\n",
              "      <td>137.0</td>\n",
              "      <td>...</td>\n",
              "      <td>0</td>\n",
              "      <td>0</td>\n",
              "      <td>0</td>\n",
              "      <td>0</td>\n",
              "      <td>0</td>\n",
              "      <td>1</td>\n",
              "      <td>0</td>\n",
              "      <td>1</td>\n",
              "      <td>1</td>\n",
              "      <td>0</td>\n",
              "    </tr>\n",
              "    <tr>\n",
              "      <th>3331</th>\n",
              "      <td>74.0</td>\n",
              "      <td>25.0</td>\n",
              "      <td>234.4</td>\n",
              "      <td>113.0</td>\n",
              "      <td>39.85</td>\n",
              "      <td>265.9</td>\n",
              "      <td>82.0</td>\n",
              "      <td>22.60</td>\n",
              "      <td>241.4</td>\n",
              "      <td>77.0</td>\n",
              "      <td>...</td>\n",
              "      <td>0</td>\n",
              "      <td>0</td>\n",
              "      <td>0</td>\n",
              "      <td>0</td>\n",
              "      <td>1</td>\n",
              "      <td>0</td>\n",
              "      <td>1</td>\n",
              "      <td>0</td>\n",
              "      <td>0</td>\n",
              "      <td>1</td>\n",
              "    </tr>\n",
              "    <tr>\n",
              "      <th>3332</th>\n",
              "      <td>128.0</td>\n",
              "      <td>25.0</td>\n",
              "      <td>265.1</td>\n",
              "      <td>110.0</td>\n",
              "      <td>45.07</td>\n",
              "      <td>197.4</td>\n",
              "      <td>99.0</td>\n",
              "      <td>16.78</td>\n",
              "      <td>244.7</td>\n",
              "      <td>91.0</td>\n",
              "      <td>...</td>\n",
              "      <td>0</td>\n",
              "      <td>0</td>\n",
              "      <td>0</td>\n",
              "      <td>0</td>\n",
              "      <td>1</td>\n",
              "      <td>0</td>\n",
              "      <td>1</td>\n",
              "      <td>0</td>\n",
              "      <td>0</td>\n",
              "      <td>1</td>\n",
              "    </tr>\n",
              "  </tbody>\n",
              "</table>\n",
              "<p>3333 rows × 74 columns</p>\n",
              "</div>\n",
              "      <button class=\"colab-df-convert\" onclick=\"convertToInteractive('df-487921aa-735a-41c0-b201-6b600a98d090')\"\n",
              "              title=\"Convert this dataframe to an interactive table.\"\n",
              "              style=\"display:none;\">\n",
              "        \n",
              "  <svg xmlns=\"http://www.w3.org/2000/svg\" height=\"24px\"viewBox=\"0 0 24 24\"\n",
              "       width=\"24px\">\n",
              "    <path d=\"M0 0h24v24H0V0z\" fill=\"none\"/>\n",
              "    <path d=\"M18.56 5.44l.94 2.06.94-2.06 2.06-.94-2.06-.94-.94-2.06-.94 2.06-2.06.94zm-11 1L8.5 8.5l.94-2.06 2.06-.94-2.06-.94L8.5 2.5l-.94 2.06-2.06.94zm10 10l.94 2.06.94-2.06 2.06-.94-2.06-.94-.94-2.06-.94 2.06-2.06.94z\"/><path d=\"M17.41 7.96l-1.37-1.37c-.4-.4-.92-.59-1.43-.59-.52 0-1.04.2-1.43.59L10.3 9.45l-7.72 7.72c-.78.78-.78 2.05 0 2.83L4 21.41c.39.39.9.59 1.41.59.51 0 1.02-.2 1.41-.59l7.78-7.78 2.81-2.81c.8-.78.8-2.07 0-2.86zM5.41 20L4 18.59l7.72-7.72 1.47 1.35L5.41 20z\"/>\n",
              "  </svg>\n",
              "      </button>\n",
              "      \n",
              "  <style>\n",
              "    .colab-df-container {\n",
              "      display:flex;\n",
              "      flex-wrap:wrap;\n",
              "      gap: 12px;\n",
              "    }\n",
              "\n",
              "    .colab-df-convert {\n",
              "      background-color: #E8F0FE;\n",
              "      border: none;\n",
              "      border-radius: 50%;\n",
              "      cursor: pointer;\n",
              "      display: none;\n",
              "      fill: #1967D2;\n",
              "      height: 32px;\n",
              "      padding: 0 0 0 0;\n",
              "      width: 32px;\n",
              "    }\n",
              "\n",
              "    .colab-df-convert:hover {\n",
              "      background-color: #E2EBFA;\n",
              "      box-shadow: 0px 1px 2px rgba(60, 64, 67, 0.3), 0px 1px 3px 1px rgba(60, 64, 67, 0.15);\n",
              "      fill: #174EA6;\n",
              "    }\n",
              "\n",
              "    [theme=dark] .colab-df-convert {\n",
              "      background-color: #3B4455;\n",
              "      fill: #D2E3FC;\n",
              "    }\n",
              "\n",
              "    [theme=dark] .colab-df-convert:hover {\n",
              "      background-color: #434B5C;\n",
              "      box-shadow: 0px 1px 3px 1px rgba(0, 0, 0, 0.15);\n",
              "      filter: drop-shadow(0px 1px 2px rgba(0, 0, 0, 0.3));\n",
              "      fill: #FFFFFF;\n",
              "    }\n",
              "  </style>\n",
              "\n",
              "      <script>\n",
              "        const buttonEl =\n",
              "          document.querySelector('#df-487921aa-735a-41c0-b201-6b600a98d090 button.colab-df-convert');\n",
              "        buttonEl.style.display =\n",
              "          google.colab.kernel.accessAllowed ? 'block' : 'none';\n",
              "\n",
              "        async function convertToInteractive(key) {\n",
              "          const element = document.querySelector('#df-487921aa-735a-41c0-b201-6b600a98d090');\n",
              "          const dataTable =\n",
              "            await google.colab.kernel.invokeFunction('convertToInteractive',\n",
              "                                                     [key], {});\n",
              "          if (!dataTable) return;\n",
              "\n",
              "          const docLinkHtml = 'Like what you see? Visit the ' +\n",
              "            '<a target=\"_blank\" href=https://colab.research.google.com/notebooks/data_table.ipynb>data table notebook</a>'\n",
              "            + ' to learn more about interactive tables.';\n",
              "          element.innerHTML = '';\n",
              "          dataTable['output_type'] = 'display_data';\n",
              "          await google.colab.output.renderOutput(dataTable, element);\n",
              "          const docLink = document.createElement('div');\n",
              "          docLink.innerHTML = docLinkHtml;\n",
              "          element.appendChild(docLink);\n",
              "        }\n",
              "      </script>\n",
              "    </div>\n",
              "  </div>\n",
              "  "
            ]
          },
          "metadata": {},
          "execution_count": 35
        }
      ]
    },
    {
      "cell_type": "code",
      "source": [
        "df_onehot.info()"
      ],
      "metadata": {
        "colab": {
          "base_uri": "https://localhost:8080/"
        },
        "id": "mJOUCVIA1Lsn",
        "outputId": "f9c66857-f9f6-4fb3-ca3c-ff6bbdf4a51e"
      },
      "execution_count": 36,
      "outputs": [
        {
          "output_type": "stream",
          "name": "stdout",
          "text": [
            "<class 'pandas.core.frame.DataFrame'>\n",
            "RangeIndex: 3333 entries, 0 to 3332\n",
            "Data columns (total 74 columns):\n",
            " #   Column                        Non-Null Count  Dtype  \n",
            "---  ------                        --------------  -----  \n",
            " 0   Account Length                3333 non-null   float64\n",
            " 1   No of Vmail Mesgs             3333 non-null   float64\n",
            " 2   Total Day Min                 3333 non-null   float64\n",
            " 3   Total Day calls               3333 non-null   float64\n",
            " 4   Total Day Charge              3333 non-null   float64\n",
            " 5   Total Evening Min             3333 non-null   float64\n",
            " 6   Total Evening Calls           3333 non-null   float64\n",
            " 7   Total Evening Charge          3333 non-null   float64\n",
            " 8   Total Night Minutes           3333 non-null   float64\n",
            " 9   Total Night Calls             3333 non-null   float64\n",
            " 10  Total Night Charge            3333 non-null   float64\n",
            " 11  Total Int Min                 3333 non-null   float64\n",
            " 12  Total Int Calls               3333 non-null   float64\n",
            " 13  Total Int Charge              3333 non-null   float64\n",
            " 14  No of Calls Customer Service  3333 non-null   float64\n",
            " 15  Churn                         3333 non-null   object \n",
            " 16  State_AK                      3333 non-null   uint8  \n",
            " 17  State_AL                      3333 non-null   uint8  \n",
            " 18  State_AR                      3333 non-null   uint8  \n",
            " 19  State_AZ                      3333 non-null   uint8  \n",
            " 20  State_CA                      3333 non-null   uint8  \n",
            " 21  State_CO                      3333 non-null   uint8  \n",
            " 22  State_CT                      3333 non-null   uint8  \n",
            " 23  State_DC                      3333 non-null   uint8  \n",
            " 24  State_DE                      3333 non-null   uint8  \n",
            " 25  State_FL                      3333 non-null   uint8  \n",
            " 26  State_GA                      3333 non-null   uint8  \n",
            " 27  State_HI                      3333 non-null   uint8  \n",
            " 28  State_IA                      3333 non-null   uint8  \n",
            " 29  State_ID                      3333 non-null   uint8  \n",
            " 30  State_IL                      3333 non-null   uint8  \n",
            " 31  State_IN                      3333 non-null   uint8  \n",
            " 32  State_KS                      3333 non-null   uint8  \n",
            " 33  State_KY                      3333 non-null   uint8  \n",
            " 34  State_LA                      3333 non-null   uint8  \n",
            " 35  State_MA                      3333 non-null   uint8  \n",
            " 36  State_MD                      3333 non-null   uint8  \n",
            " 37  State_ME                      3333 non-null   uint8  \n",
            " 38  State_MI                      3333 non-null   uint8  \n",
            " 39  State_MN                      3333 non-null   uint8  \n",
            " 40  State_MO                      3333 non-null   uint8  \n",
            " 41  State_MS                      3333 non-null   uint8  \n",
            " 42  State_MT                      3333 non-null   uint8  \n",
            " 43  State_NC                      3333 non-null   uint8  \n",
            " 44  State_ND                      3333 non-null   uint8  \n",
            " 45  State_NE                      3333 non-null   uint8  \n",
            " 46  State_NH                      3333 non-null   uint8  \n",
            " 47  State_NJ                      3333 non-null   uint8  \n",
            " 48  State_NM                      3333 non-null   uint8  \n",
            " 49  State_NV                      3333 non-null   uint8  \n",
            " 50  State_NY                      3333 non-null   uint8  \n",
            " 51  State_OH                      3333 non-null   uint8  \n",
            " 52  State_OK                      3333 non-null   uint8  \n",
            " 53  State_OR                      3333 non-null   uint8  \n",
            " 54  State_PA                      3333 non-null   uint8  \n",
            " 55  State_RI                      3333 non-null   uint8  \n",
            " 56  State_SC                      3333 non-null   uint8  \n",
            " 57  State_SD                      3333 non-null   uint8  \n",
            " 58  State_TN                      3333 non-null   uint8  \n",
            " 59  State_TX                      3333 non-null   uint8  \n",
            " 60  State_UT                      3333 non-null   uint8  \n",
            " 61  State_VA                      3333 non-null   uint8  \n",
            " 62  State_VT                      3333 non-null   uint8  \n",
            " 63  State_WA                      3333 non-null   uint8  \n",
            " 64  State_WI                      3333 non-null   uint8  \n",
            " 65  State_WV                      3333 non-null   uint8  \n",
            " 66  State_WY                      3333 non-null   uint8  \n",
            " 67  Area Code_A408                3333 non-null   uint8  \n",
            " 68  Area Code_A415                3333 non-null   uint8  \n",
            " 69  Area Code_A510                3333 non-null   uint8  \n",
            " 70  Inter Plan_no                 3333 non-null   uint8  \n",
            " 71  Inter Plan_yes                3333 non-null   uint8  \n",
            " 72  VoiceMail Plan_no             3333 non-null   uint8  \n",
            " 73  VoiceMail Plan_yes            3333 non-null   uint8  \n",
            "dtypes: float64(15), object(1), uint8(58)\n",
            "memory usage: 605.5+ KB\n"
          ]
        }
      ]
    },
    {
      "cell_type": "code",
      "source": [
        "from collections import Counter\n",
        "\n",
        "# First split the data into train and test set\n",
        "from sklearn.model_selection import train_test_split\n",
        "\n",
        "# Split dataset into training set and test set\n",
        "# Our class column is \"Churn\" here and everything else will be used as features \n",
        "class_col_name='Churn'\n",
        "\n",
        "feature_names=df_onehot.columns[df_onehot.columns != class_col_name]\n",
        "\n",
        "# Making a SMOTE object\n",
        "resampler = SMOTE(random_state=5)\n",
        "\n",
        "# 70% training and 30% test\n",
        "X_train, X_test, y_train, y_test = train_test_split(df_onehot.loc[:, feature_names], df_onehot[class_col_name], test_size=0.3,random_state=109)\n",
        "\n",
        "# Resampling the data\n",
        "X_resampled, y_resampled = resampler.fit_resample(X_train, y_train)\n",
        "\n",
        "# Verifying the resampled data\n",
        "print('Resampled dataset shape %s' % Counter(y_resampled))"
      ],
      "metadata": {
        "colab": {
          "base_uri": "https://localhost:8080/"
        },
        "id": "o-hbMyF4yZdG",
        "outputId": "d1cafe95-57ac-4fc8-b1df-5a3f097461b3"
      },
      "execution_count": 37,
      "outputs": [
        {
          "output_type": "stream",
          "name": "stdout",
          "text": [
            "Resampled dataset shape Counter({'FALSE': 2000, 'TRUE': 2000})\n"
          ]
        }
      ]
    },
    {
      "cell_type": "code",
      "source": [
        "# Run a decision tree in one-hot coded, resampled data\n",
        "from sklearn import tree\n",
        "clf = tree.DecisionTreeClassifier(max_depth=5)\n",
        "clf = clf.fit(X_resampled, y_resampled)\n",
        "\n",
        "import graphviz\n",
        "\n",
        "#Get unique class values to display on the tree\n",
        "class_values=df_onehot[class_col_name].unique()\n",
        "print (\"class Names\",class_values)\n",
        "\n",
        "dot_data_baseline = tree.export_graphviz(clf, out_file=None, \n",
        "                                feature_names=feature_names,  \n",
        "                                class_names=class_values,\n",
        "                                filled=True)\n",
        "\n",
        "# Draw graph\n",
        "fie_ext = 'png'\n",
        "temp_img = 'decision_tree_baseline'\n",
        "decision_tree_baseline = graphviz.Source(dot_data_baseline, format=\"png\")\n",
        "decision_tree_baseline.render(temp_img,format=fie_ext, view=False)\n",
        "decision_tree_baseline"
      ],
      "metadata": {
        "colab": {
          "base_uri": "https://localhost:8080/",
          "height": 953
        },
        "id": "qyu2j7HwzViA",
        "outputId": "899293e0-042f-4b59-9af3-6c02fcd0e2b9"
      },
      "execution_count": 38,
      "outputs": [
        {
          "output_type": "stream",
          "name": "stdout",
          "text": [
            "class Names ['FALSE' 'TRUE']\n"
          ]
        },
        {
          "output_type": "execute_result",
          "data": {
            "text/plain": [
              "<graphviz.files.Source at 0x7f2272221190>"
            ],
            "image/svg+xml": "<?xml version=\"1.0\" encoding=\"UTF-8\" standalone=\"no\"?>\n<!DOCTYPE svg PUBLIC \"-//W3C//DTD SVG 1.1//EN\"\n \"http://www.w3.org/Graphics/SVG/1.1/DTD/svg11.dtd\">\n<!-- Generated by graphviz version 2.40.1 (20161225.0304)\n -->\n<!-- Title: Tree Pages: 1 -->\n<svg width=\"2204pt\" height=\"671pt\"\n viewBox=\"0.00 0.00 2203.50 671.00\" xmlns=\"http://www.w3.org/2000/svg\" xmlns:xlink=\"http://www.w3.org/1999/xlink\">\n<g id=\"graph0\" class=\"graph\" transform=\"scale(1 1) rotate(0) translate(4 667)\">\n<title>Tree</title>\n<polygon fill=\"#ffffff\" stroke=\"transparent\" points=\"-4,4 -4,-667 2199.5,-667 2199.5,4 -4,4\"/>\n<!-- 0 -->\n<g id=\"node1\" class=\"node\">\n<title>0</title>\n<polygon fill=\"#ffffff\" stroke=\"#000000\" points=\"647,-663 498,-663 498,-580 647,-580 647,-663\"/>\n<text text-anchor=\"middle\" x=\"572.5\" y=\"-647.8\" font-family=\"Helvetica,sans-Serif\" font-size=\"14.00\" fill=\"#000000\">Inter Plan_no &lt;= 0.5</text>\n<text text-anchor=\"middle\" x=\"572.5\" y=\"-632.8\" font-family=\"Helvetica,sans-Serif\" font-size=\"14.00\" fill=\"#000000\">gini = 0.5</text>\n<text text-anchor=\"middle\" x=\"572.5\" y=\"-617.8\" font-family=\"Helvetica,sans-Serif\" font-size=\"14.00\" fill=\"#000000\">samples = 4000</text>\n<text text-anchor=\"middle\" x=\"572.5\" y=\"-602.8\" font-family=\"Helvetica,sans-Serif\" font-size=\"14.00\" fill=\"#000000\">value = [2000, 2000]</text>\n<text text-anchor=\"middle\" x=\"572.5\" y=\"-587.8\" font-family=\"Helvetica,sans-Serif\" font-size=\"14.00\" fill=\"#000000\">class = FALSE</text>\n</g>\n<!-- 1 -->\n<g id=\"node2\" class=\"node\">\n<title>1</title>\n<polygon fill=\"#58ace9\" stroke=\"#000000\" points=\"415.5,-544 261.5,-544 261.5,-461 415.5,-461 415.5,-544\"/>\n<text text-anchor=\"middle\" x=\"338.5\" y=\"-528.8\" font-family=\"Helvetica,sans-Serif\" font-size=\"14.00\" fill=\"#000000\">Inter Plan_yes &lt;= 0.5</text>\n<text text-anchor=\"middle\" x=\"338.5\" y=\"-513.8\" font-family=\"Helvetica,sans-Serif\" font-size=\"14.00\" fill=\"#000000\">gini = 0.233</text>\n<text text-anchor=\"middle\" x=\"338.5\" y=\"-498.8\" font-family=\"Helvetica,sans-Serif\" font-size=\"14.00\" fill=\"#000000\">samples = 994</text>\n<text text-anchor=\"middle\" x=\"338.5\" y=\"-483.8\" font-family=\"Helvetica,sans-Serif\" font-size=\"14.00\" fill=\"#000000\">value = [134, 860]</text>\n<text text-anchor=\"middle\" x=\"338.5\" y=\"-468.8\" font-family=\"Helvetica,sans-Serif\" font-size=\"14.00\" fill=\"#000000\">class = TRUE</text>\n</g>\n<!-- 0&#45;&gt;1 -->\n<g id=\"edge1\" class=\"edge\">\n<title>0&#45;&gt;1</title>\n<path fill=\"none\" stroke=\"#000000\" d=\"M497.8176,-583.5205C474.5717,-571.6988 448.75,-558.5673 424.7798,-546.3773\"/>\n<polygon fill=\"#000000\" stroke=\"#000000\" points=\"426.193,-543.1694 415.6928,-541.7562 423.0198,-549.409 426.193,-543.1694\"/>\n<text text-anchor=\"middle\" x=\"423.4367\" y=\"-561.8266\" font-family=\"Helvetica,sans-Serif\" font-size=\"14.00\" fill=\"#000000\">True</text>\n</g>\n<!-- 10 -->\n<g id=\"node11\" class=\"node\">\n<title>10</title>\n<polygon fill=\"#f5ceb2\" stroke=\"#000000\" points=\"1021.5,-544 823.5,-544 823.5,-461 1021.5,-461 1021.5,-544\"/>\n<text text-anchor=\"middle\" x=\"922.5\" y=\"-528.8\" font-family=\"Helvetica,sans-Serif\" font-size=\"14.00\" fill=\"#000000\">Total Day Charge &lt;= 41.174</text>\n<text text-anchor=\"middle\" x=\"922.5\" y=\"-513.8\" font-family=\"Helvetica,sans-Serif\" font-size=\"14.00\" fill=\"#000000\">gini = 0.471</text>\n<text text-anchor=\"middle\" x=\"922.5\" y=\"-498.8\" font-family=\"Helvetica,sans-Serif\" font-size=\"14.00\" fill=\"#000000\">samples = 3006</text>\n<text text-anchor=\"middle\" x=\"922.5\" y=\"-483.8\" font-family=\"Helvetica,sans-Serif\" font-size=\"14.00\" fill=\"#000000\">value = [1866, 1140]</text>\n<text text-anchor=\"middle\" x=\"922.5\" y=\"-468.8\" font-family=\"Helvetica,sans-Serif\" font-size=\"14.00\" fill=\"#000000\">class = FALSE</text>\n</g>\n<!-- 0&#45;&gt;10 -->\n<g id=\"edge10\" class=\"edge\">\n<title>0&#45;&gt;10</title>\n<path fill=\"none\" stroke=\"#000000\" d=\"M647.1545,-596.1175C695.639,-579.6327 759.6445,-557.8709 813.7423,-539.4776\"/>\n<polygon fill=\"#000000\" stroke=\"#000000\" points=\"815.0329,-542.7357 823.3739,-536.2029 812.7795,-536.1083 815.0329,-542.7357\"/>\n<text text-anchor=\"middle\" x=\"812.3277\" y=\"-554.9301\" font-family=\"Helvetica,sans-Serif\" font-size=\"14.00\" fill=\"#000000\">False</text>\n</g>\n<!-- 2 -->\n<g id=\"node3\" class=\"node\">\n<title>2</title>\n<polygon fill=\"#399de5\" stroke=\"#000000\" points=\"238.5,-417.5 122.5,-417.5 122.5,-349.5 238.5,-349.5 238.5,-417.5\"/>\n<text text-anchor=\"middle\" x=\"180.5\" y=\"-402.3\" font-family=\"Helvetica,sans-Serif\" font-size=\"14.00\" fill=\"#000000\">gini = 0.0</text>\n<text text-anchor=\"middle\" x=\"180.5\" y=\"-387.3\" font-family=\"Helvetica,sans-Serif\" font-size=\"14.00\" fill=\"#000000\">samples = 592</text>\n<text text-anchor=\"middle\" x=\"180.5\" y=\"-372.3\" font-family=\"Helvetica,sans-Serif\" font-size=\"14.00\" fill=\"#000000\">value = [0, 592]</text>\n<text text-anchor=\"middle\" x=\"180.5\" y=\"-357.3\" font-family=\"Helvetica,sans-Serif\" font-size=\"14.00\" fill=\"#000000\">class = TRUE</text>\n</g>\n<!-- 1&#45;&gt;2 -->\n<g id=\"edge2\" class=\"edge\">\n<title>1&#45;&gt;2</title>\n<path fill=\"none\" stroke=\"#000000\" d=\"M283.2393,-460.8796C267.2497,-448.8368 249.8297,-435.7167 233.9526,-423.7586\"/>\n<polygon fill=\"#000000\" stroke=\"#000000\" points=\"235.8998,-420.8435 225.8062,-417.623 231.6884,-426.435 235.8998,-420.8435\"/>\n</g>\n<!-- 3 -->\n<g id=\"node4\" class=\"node\">\n<title>3</title>\n<polygon fill=\"#9ccef2\" stroke=\"#000000\" points=\"420.5,-425 256.5,-425 256.5,-342 420.5,-342 420.5,-425\"/>\n<text text-anchor=\"middle\" x=\"338.5\" y=\"-409.8\" font-family=\"Helvetica,sans-Serif\" font-size=\"14.00\" fill=\"#000000\">Total Int Calls &lt;= 2.976</text>\n<text text-anchor=\"middle\" x=\"338.5\" y=\"-394.8\" font-family=\"Helvetica,sans-Serif\" font-size=\"14.00\" fill=\"#000000\">gini = 0.444</text>\n<text text-anchor=\"middle\" x=\"338.5\" y=\"-379.8\" font-family=\"Helvetica,sans-Serif\" font-size=\"14.00\" fill=\"#000000\">samples = 402</text>\n<text text-anchor=\"middle\" x=\"338.5\" y=\"-364.8\" font-family=\"Helvetica,sans-Serif\" font-size=\"14.00\" fill=\"#000000\">value = [134, 268]</text>\n<text text-anchor=\"middle\" x=\"338.5\" y=\"-349.8\" font-family=\"Helvetica,sans-Serif\" font-size=\"14.00\" fill=\"#000000\">class = TRUE</text>\n</g>\n<!-- 1&#45;&gt;3 -->\n<g id=\"edge3\" class=\"edge\">\n<title>1&#45;&gt;3</title>\n<path fill=\"none\" stroke=\"#000000\" d=\"M338.5,-460.8796C338.5,-452.6838 338.5,-443.9891 338.5,-435.5013\"/>\n<polygon fill=\"#000000\" stroke=\"#000000\" points=\"342.0001,-435.298 338.5,-425.2981 335.0001,-435.2981 342.0001,-435.298\"/>\n</g>\n<!-- 4 -->\n<g id=\"node5\" class=\"node\">\n<title>4</title>\n<polygon fill=\"#399de5\" stroke=\"#000000\" points=\"230.5,-298.5 114.5,-298.5 114.5,-230.5 230.5,-230.5 230.5,-298.5\"/>\n<text text-anchor=\"middle\" x=\"172.5\" y=\"-283.3\" font-family=\"Helvetica,sans-Serif\" font-size=\"14.00\" fill=\"#000000\">gini = 0.0</text>\n<text text-anchor=\"middle\" x=\"172.5\" y=\"-268.3\" font-family=\"Helvetica,sans-Serif\" font-size=\"14.00\" fill=\"#000000\">samples = 134</text>\n<text text-anchor=\"middle\" x=\"172.5\" y=\"-253.3\" font-family=\"Helvetica,sans-Serif\" font-size=\"14.00\" fill=\"#000000\">value = [0, 134]</text>\n<text text-anchor=\"middle\" x=\"172.5\" y=\"-238.3\" font-family=\"Helvetica,sans-Serif\" font-size=\"14.00\" fill=\"#000000\">class = TRUE</text>\n</g>\n<!-- 3&#45;&gt;4 -->\n<g id=\"edge4\" class=\"edge\">\n<title>3&#45;&gt;4</title>\n<path fill=\"none\" stroke=\"#000000\" d=\"M280.4413,-341.8796C263.642,-329.8368 245.3401,-316.7167 228.659,-304.7586\"/>\n<polygon fill=\"#000000\" stroke=\"#000000\" points=\"230.2668,-301.6047 220.1002,-298.623 226.1884,-307.2939 230.2668,-301.6047\"/>\n</g>\n<!-- 5 -->\n<g id=\"node6\" class=\"node\">\n<title>5</title>\n<polygon fill=\"#ffffff\" stroke=\"#000000\" points=\"428,-306 249,-306 249,-223 428,-223 428,-306\"/>\n<text text-anchor=\"middle\" x=\"338.5\" y=\"-290.8\" font-family=\"Helvetica,sans-Serif\" font-size=\"14.00\" fill=\"#000000\">Total Int Charge &lt;= 3.516</text>\n<text text-anchor=\"middle\" x=\"338.5\" y=\"-275.8\" font-family=\"Helvetica,sans-Serif\" font-size=\"14.00\" fill=\"#000000\">gini = 0.5</text>\n<text text-anchor=\"middle\" x=\"338.5\" y=\"-260.8\" font-family=\"Helvetica,sans-Serif\" font-size=\"14.00\" fill=\"#000000\">samples = 268</text>\n<text text-anchor=\"middle\" x=\"338.5\" y=\"-245.8\" font-family=\"Helvetica,sans-Serif\" font-size=\"14.00\" fill=\"#000000\">value = [134, 134]</text>\n<text text-anchor=\"middle\" x=\"338.5\" y=\"-230.8\" font-family=\"Helvetica,sans-Serif\" font-size=\"14.00\" fill=\"#000000\">class = FALSE</text>\n</g>\n<!-- 3&#45;&gt;5 -->\n<g id=\"edge5\" class=\"edge\">\n<title>3&#45;&gt;5</title>\n<path fill=\"none\" stroke=\"#000000\" d=\"M338.5,-341.8796C338.5,-333.6838 338.5,-324.9891 338.5,-316.5013\"/>\n<polygon fill=\"#000000\" stroke=\"#000000\" points=\"342.0001,-316.298 338.5,-306.2981 335.0001,-316.2981 342.0001,-316.298\"/>\n</g>\n<!-- 6 -->\n<g id=\"node7\" class=\"node\">\n<title>6</title>\n<polygon fill=\"#efb286\" stroke=\"#000000\" points=\"267,-187 0,-187 0,-104 267,-104 267,-187\"/>\n<text text-anchor=\"middle\" x=\"133.5\" y=\"-171.8\" font-family=\"Helvetica,sans-Serif\" font-size=\"14.00\" fill=\"#000000\">No of Calls Customer Service &lt;= 3.099</text>\n<text text-anchor=\"middle\" x=\"133.5\" y=\"-156.8\" font-family=\"Helvetica,sans-Serif\" font-size=\"14.00\" fill=\"#000000\">gini = 0.403</text>\n<text text-anchor=\"middle\" x=\"133.5\" y=\"-141.8\" font-family=\"Helvetica,sans-Serif\" font-size=\"14.00\" fill=\"#000000\">samples = 186</text>\n<text text-anchor=\"middle\" x=\"133.5\" y=\"-126.8\" font-family=\"Helvetica,sans-Serif\" font-size=\"14.00\" fill=\"#000000\">value = [134, 52]</text>\n<text text-anchor=\"middle\" x=\"133.5\" y=\"-111.8\" font-family=\"Helvetica,sans-Serif\" font-size=\"14.00\" fill=\"#000000\">class = FALSE</text>\n</g>\n<!-- 5&#45;&gt;6 -->\n<g id=\"edge6\" class=\"edge\">\n<title>5&#45;&gt;6</title>\n<path fill=\"none\" stroke=\"#000000\" d=\"M266.8009,-222.8796C249.7912,-213.0056 231.5339,-202.4075 214.1552,-192.3193\"/>\n<polygon fill=\"#000000\" stroke=\"#000000\" points=\"215.5642,-189.0903 205.1586,-187.0969 212.0499,-195.1443 215.5642,-189.0903\"/>\n</g>\n<!-- 9 -->\n<g id=\"node10\" class=\"node\">\n<title>9</title>\n<polygon fill=\"#399de5\" stroke=\"#000000\" points=\"392,-179.5 285,-179.5 285,-111.5 392,-111.5 392,-179.5\"/>\n<text text-anchor=\"middle\" x=\"338.5\" y=\"-164.3\" font-family=\"Helvetica,sans-Serif\" font-size=\"14.00\" fill=\"#000000\">gini = 0.0</text>\n<text text-anchor=\"middle\" x=\"338.5\" y=\"-149.3\" font-family=\"Helvetica,sans-Serif\" font-size=\"14.00\" fill=\"#000000\">samples = 82</text>\n<text text-anchor=\"middle\" x=\"338.5\" y=\"-134.3\" font-family=\"Helvetica,sans-Serif\" font-size=\"14.00\" fill=\"#000000\">value = [0, 82]</text>\n<text text-anchor=\"middle\" x=\"338.5\" y=\"-119.3\" font-family=\"Helvetica,sans-Serif\" font-size=\"14.00\" fill=\"#000000\">class = TRUE</text>\n</g>\n<!-- 5&#45;&gt;9 -->\n<g id=\"edge9\" class=\"edge\">\n<title>5&#45;&gt;9</title>\n<path fill=\"none\" stroke=\"#000000\" d=\"M338.5,-222.8796C338.5,-212.2134 338.5,-200.7021 338.5,-189.9015\"/>\n<polygon fill=\"#000000\" stroke=\"#000000\" points=\"342.0001,-189.8149 338.5,-179.8149 335.0001,-189.815 342.0001,-189.8149\"/>\n</g>\n<!-- 7 -->\n<g id=\"node8\" class=\"node\">\n<title>7</title>\n<polygon fill=\"#eba069\" stroke=\"#000000\" points=\"126.5,-68 2.5,-68 2.5,0 126.5,0 126.5,-68\"/>\n<text text-anchor=\"middle\" x=\"64.5\" y=\"-52.8\" font-family=\"Helvetica,sans-Serif\" font-size=\"14.00\" fill=\"#000000\">gini = 0.314</text>\n<text text-anchor=\"middle\" x=\"64.5\" y=\"-37.8\" font-family=\"Helvetica,sans-Serif\" font-size=\"14.00\" fill=\"#000000\">samples = 159</text>\n<text text-anchor=\"middle\" x=\"64.5\" y=\"-22.8\" font-family=\"Helvetica,sans-Serif\" font-size=\"14.00\" fill=\"#000000\">value = [128, 31]</text>\n<text text-anchor=\"middle\" x=\"64.5\" y=\"-7.8\" font-family=\"Helvetica,sans-Serif\" font-size=\"14.00\" fill=\"#000000\">class = FALSE</text>\n</g>\n<!-- 6&#45;&gt;7 -->\n<g id=\"edge7\" class=\"edge\">\n<title>6&#45;&gt;7</title>\n<path fill=\"none\" stroke=\"#000000\" d=\"M107.8069,-103.9815C102.3469,-95.1585 96.5716,-85.8258 91.0793,-76.9506\"/>\n<polygon fill=\"#000000\" stroke=\"#000000\" points=\"93.942,-74.9254 85.7035,-68.2637 87.9896,-78.609 93.942,-74.9254\"/>\n</g>\n<!-- 8 -->\n<g id=\"node9\" class=\"node\">\n<title>8</title>\n<polygon fill=\"#72b9ec\" stroke=\"#000000\" points=\"252,-68 145,-68 145,0 252,0 252,-68\"/>\n<text text-anchor=\"middle\" x=\"198.5\" y=\"-52.8\" font-family=\"Helvetica,sans-Serif\" font-size=\"14.00\" fill=\"#000000\">gini = 0.346</text>\n<text text-anchor=\"middle\" x=\"198.5\" y=\"-37.8\" font-family=\"Helvetica,sans-Serif\" font-size=\"14.00\" fill=\"#000000\">samples = 27</text>\n<text text-anchor=\"middle\" x=\"198.5\" y=\"-22.8\" font-family=\"Helvetica,sans-Serif\" font-size=\"14.00\" fill=\"#000000\">value = [6, 21]</text>\n<text text-anchor=\"middle\" x=\"198.5\" y=\"-7.8\" font-family=\"Helvetica,sans-Serif\" font-size=\"14.00\" fill=\"#000000\">class = TRUE</text>\n</g>\n<!-- 6&#45;&gt;8 -->\n<g id=\"edge8\" class=\"edge\">\n<title>6&#45;&gt;8</title>\n<path fill=\"none\" stroke=\"#000000\" d=\"M157.7036,-103.9815C162.8471,-95.1585 168.2877,-85.8258 173.4616,-76.9506\"/>\n<polygon fill=\"#000000\" stroke=\"#000000\" points=\"176.513,-78.6656 178.5257,-68.2637 170.4656,-75.1402 176.513,-78.6656\"/>\n</g>\n<!-- 11 -->\n<g id=\"node12\" class=\"node\">\n<title>11</title>\n<polygon fill=\"#efb082\" stroke=\"#000000\" points=\"1056,-425 789,-425 789,-342 1056,-342 1056,-425\"/>\n<text text-anchor=\"middle\" x=\"922.5\" y=\"-409.8\" font-family=\"Helvetica,sans-Serif\" font-size=\"14.00\" fill=\"#000000\">No of Calls Customer Service &lt;= 3.036</text>\n<text text-anchor=\"middle\" x=\"922.5\" y=\"-394.8\" font-family=\"Helvetica,sans-Serif\" font-size=\"14.00\" fill=\"#000000\">gini = 0.395</text>\n<text text-anchor=\"middle\" x=\"922.5\" y=\"-379.8\" font-family=\"Helvetica,sans-Serif\" font-size=\"14.00\" fill=\"#000000\">samples = 2355</text>\n<text text-anchor=\"middle\" x=\"922.5\" y=\"-364.8\" font-family=\"Helvetica,sans-Serif\" font-size=\"14.00\" fill=\"#000000\">value = [1718, 637]</text>\n<text text-anchor=\"middle\" x=\"922.5\" y=\"-349.8\" font-family=\"Helvetica,sans-Serif\" font-size=\"14.00\" fill=\"#000000\">class = FALSE</text>\n</g>\n<!-- 10&#45;&gt;11 -->\n<g id=\"edge11\" class=\"edge\">\n<title>10&#45;&gt;11</title>\n<path fill=\"none\" stroke=\"#000000\" d=\"M922.5,-460.8796C922.5,-452.6838 922.5,-443.9891 922.5,-435.5013\"/>\n<polygon fill=\"#000000\" stroke=\"#000000\" points=\"926.0001,-435.298 922.5,-425.2981 919.0001,-435.2981 926.0001,-435.298\"/>\n</g>\n<!-- 26 -->\n<g id=\"node27\" class=\"node\">\n<title>26</title>\n<polygon fill=\"#73baed\" stroke=\"#000000\" points=\"1767.5,-425 1579.5,-425 1579.5,-342 1767.5,-342 1767.5,-425\"/>\n<text text-anchor=\"middle\" x=\"1673.5\" y=\"-409.8\" font-family=\"Helvetica,sans-Serif\" font-size=\"14.00\" fill=\"#000000\">VoiceMail Plan_yes &lt;= 0.5</text>\n<text text-anchor=\"middle\" x=\"1673.5\" y=\"-394.8\" font-family=\"Helvetica,sans-Serif\" font-size=\"14.00\" fill=\"#000000\">gini = 0.351</text>\n<text text-anchor=\"middle\" x=\"1673.5\" y=\"-379.8\" font-family=\"Helvetica,sans-Serif\" font-size=\"14.00\" fill=\"#000000\">samples = 651</text>\n<text text-anchor=\"middle\" x=\"1673.5\" y=\"-364.8\" font-family=\"Helvetica,sans-Serif\" font-size=\"14.00\" fill=\"#000000\">value = [148, 503]</text>\n<text text-anchor=\"middle\" x=\"1673.5\" y=\"-349.8\" font-family=\"Helvetica,sans-Serif\" font-size=\"14.00\" fill=\"#000000\">class = TRUE</text>\n</g>\n<!-- 10&#45;&gt;26 -->\n<g id=\"edge26\" class=\"edge\">\n<title>10&#45;&gt;26</title>\n<path fill=\"none\" stroke=\"#000000\" d=\"M1021.8394,-486.7591C1164.0333,-464.2277 1424.3788,-422.9746 1569.2417,-400.0203\"/>\n<polygon fill=\"#000000\" stroke=\"#000000\" points=\"1570.14,-403.4217 1579.469,-398.3997 1569.0444,-396.508 1570.14,-403.4217\"/>\n</g>\n<!-- 12 -->\n<g id=\"node13\" class=\"node\">\n<title>12</title>\n<polygon fill=\"#e9965b\" stroke=\"#000000\" points=\"906.5,-306 708.5,-306 708.5,-223 906.5,-223 906.5,-306\"/>\n<text text-anchor=\"middle\" x=\"807.5\" y=\"-290.8\" font-family=\"Helvetica,sans-Serif\" font-size=\"14.00\" fill=\"#000000\">Total Day Charge &lt;= 38.347</text>\n<text text-anchor=\"middle\" x=\"807.5\" y=\"-275.8\" font-family=\"Helvetica,sans-Serif\" font-size=\"14.00\" fill=\"#000000\">gini = 0.249</text>\n<text text-anchor=\"middle\" x=\"807.5\" y=\"-260.8\" font-family=\"Helvetica,sans-Serif\" font-size=\"14.00\" fill=\"#000000\">samples = 1923</text>\n<text text-anchor=\"middle\" x=\"807.5\" y=\"-245.8\" font-family=\"Helvetica,sans-Serif\" font-size=\"14.00\" fill=\"#000000\">value = [1643, 280]</text>\n<text text-anchor=\"middle\" x=\"807.5\" y=\"-230.8\" font-family=\"Helvetica,sans-Serif\" font-size=\"14.00\" fill=\"#000000\">class = FALSE</text>\n</g>\n<!-- 11&#45;&gt;12 -->\n<g id=\"edge12\" class=\"edge\">\n<title>11&#45;&gt;12</title>\n<path fill=\"none\" stroke=\"#000000\" d=\"M882.2786,-341.8796C873.488,-332.7832 864.1034,-323.0722 855.0574,-313.7116\"/>\n<polygon fill=\"#000000\" stroke=\"#000000\" points=\"857.3591,-311.0568 847.8931,-306.2981 852.3255,-315.9212 857.3591,-311.0568\"/>\n</g>\n<!-- 19 -->\n<g id=\"node20\" class=\"node\">\n<title>19</title>\n<polygon fill=\"#63b2ea\" stroke=\"#000000\" points=\"1129.5,-306 947.5,-306 947.5,-223 1129.5,-223 1129.5,-306\"/>\n<text text-anchor=\"middle\" x=\"1038.5\" y=\"-290.8\" font-family=\"Helvetica,sans-Serif\" font-size=\"14.00\" fill=\"#000000\">Total Day Min &lt;= 196.656</text>\n<text text-anchor=\"middle\" x=\"1038.5\" y=\"-275.8\" font-family=\"Helvetica,sans-Serif\" font-size=\"14.00\" fill=\"#000000\">gini = 0.287</text>\n<text text-anchor=\"middle\" x=\"1038.5\" y=\"-260.8\" font-family=\"Helvetica,sans-Serif\" font-size=\"14.00\" fill=\"#000000\">samples = 432</text>\n<text text-anchor=\"middle\" x=\"1038.5\" y=\"-245.8\" font-family=\"Helvetica,sans-Serif\" font-size=\"14.00\" fill=\"#000000\">value = [75, 357]</text>\n<text text-anchor=\"middle\" x=\"1038.5\" y=\"-230.8\" font-family=\"Helvetica,sans-Serif\" font-size=\"14.00\" fill=\"#000000\">class = TRUE</text>\n</g>\n<!-- 11&#45;&gt;19 -->\n<g id=\"edge19\" class=\"edge\">\n<title>11&#45;&gt;19</title>\n<path fill=\"none\" stroke=\"#000000\" d=\"M963.0712,-341.8796C971.9382,-332.7832 981.4044,-323.0722 990.5291,-313.7116\"/>\n<polygon fill=\"#000000\" stroke=\"#000000\" points=\"993.2817,-315.9019 997.7557,-306.2981 988.2691,-311.0158 993.2817,-315.9019\"/>\n</g>\n<!-- 13 -->\n<g id=\"node14\" class=\"node\">\n<title>13</title>\n<polygon fill=\"#e89152\" stroke=\"#000000\" points=\"677,-187 410,-187 410,-104 677,-104 677,-187\"/>\n<text text-anchor=\"middle\" x=\"543.5\" y=\"-171.8\" font-family=\"Helvetica,sans-Serif\" font-size=\"14.00\" fill=\"#000000\">No of Calls Customer Service &lt;= 1.002</text>\n<text text-anchor=\"middle\" x=\"543.5\" y=\"-156.8\" font-family=\"Helvetica,sans-Serif\" font-size=\"14.00\" fill=\"#000000\">gini = 0.197</text>\n<text text-anchor=\"middle\" x=\"543.5\" y=\"-141.8\" font-family=\"Helvetica,sans-Serif\" font-size=\"14.00\" fill=\"#000000\">samples = 1714</text>\n<text text-anchor=\"middle\" x=\"543.5\" y=\"-126.8\" font-family=\"Helvetica,sans-Serif\" font-size=\"14.00\" fill=\"#000000\">value = [1524, 190]</text>\n<text text-anchor=\"middle\" x=\"543.5\" y=\"-111.8\" font-family=\"Helvetica,sans-Serif\" font-size=\"14.00\" fill=\"#000000\">class = FALSE</text>\n</g>\n<!-- 12&#45;&gt;13 -->\n<g id=\"edge13\" class=\"edge\">\n<title>12&#45;&gt;13</title>\n<path fill=\"none\" stroke=\"#000000\" d=\"M715.1656,-222.8796C692.4565,-212.6433 668.0207,-201.6286 644.9089,-191.2108\"/>\n<polygon fill=\"#000000\" stroke=\"#000000\" points=\"646.3372,-188.0155 635.7823,-187.0969 643.4606,-194.3972 646.3372,-188.0155\"/>\n</g>\n<!-- 16 -->\n<g id=\"node17\" class=\"node\">\n<title>16</title>\n<polygon fill=\"#f9e0cf\" stroke=\"#000000\" points=\"920,-187 695,-187 695,-104 920,-104 920,-187\"/>\n<text text-anchor=\"middle\" x=\"807.5\" y=\"-171.8\" font-family=\"Helvetica,sans-Serif\" font-size=\"14.00\" fill=\"#000000\">Total Evening Charge &lt;= 22.471</text>\n<text text-anchor=\"middle\" x=\"807.5\" y=\"-156.8\" font-family=\"Helvetica,sans-Serif\" font-size=\"14.00\" fill=\"#000000\">gini = 0.49</text>\n<text text-anchor=\"middle\" x=\"807.5\" y=\"-141.8\" font-family=\"Helvetica,sans-Serif\" font-size=\"14.00\" fill=\"#000000\">samples = 209</text>\n<text text-anchor=\"middle\" x=\"807.5\" y=\"-126.8\" font-family=\"Helvetica,sans-Serif\" font-size=\"14.00\" fill=\"#000000\">value = [119, 90]</text>\n<text text-anchor=\"middle\" x=\"807.5\" y=\"-111.8\" font-family=\"Helvetica,sans-Serif\" font-size=\"14.00\" fill=\"#000000\">class = FALSE</text>\n</g>\n<!-- 12&#45;&gt;16 -->\n<g id=\"edge16\" class=\"edge\">\n<title>12&#45;&gt;16</title>\n<path fill=\"none\" stroke=\"#000000\" d=\"M807.5,-222.8796C807.5,-214.6838 807.5,-205.9891 807.5,-197.5013\"/>\n<polygon fill=\"#000000\" stroke=\"#000000\" points=\"811.0001,-197.298 807.5,-187.2981 804.0001,-197.2981 811.0001,-197.298\"/>\n</g>\n<!-- 14 -->\n<g id=\"node15\" class=\"node\">\n<title>14</title>\n<polygon fill=\"#e78b49\" stroke=\"#000000\" points=\"459.5,-68 335.5,-68 335.5,0 459.5,0 459.5,-68\"/>\n<text text-anchor=\"middle\" x=\"397.5\" y=\"-52.8\" font-family=\"Helvetica,sans-Serif\" font-size=\"14.00\" fill=\"#000000\">gini = 0.138</text>\n<text text-anchor=\"middle\" x=\"397.5\" y=\"-37.8\" font-family=\"Helvetica,sans-Serif\" font-size=\"14.00\" fill=\"#000000\">samples = 996</text>\n<text text-anchor=\"middle\" x=\"397.5\" y=\"-22.8\" font-family=\"Helvetica,sans-Serif\" font-size=\"14.00\" fill=\"#000000\">value = [922, 74]</text>\n<text text-anchor=\"middle\" x=\"397.5\" y=\"-7.8\" font-family=\"Helvetica,sans-Serif\" font-size=\"14.00\" fill=\"#000000\">class = FALSE</text>\n</g>\n<!-- 13&#45;&gt;14 -->\n<g id=\"edge14\" class=\"edge\">\n<title>13&#45;&gt;14</title>\n<path fill=\"none\" stroke=\"#000000\" d=\"M489.135,-103.9815C476.4989,-94.3313 463.0644,-84.0714 450.4885,-74.4673\"/>\n<polygon fill=\"#000000\" stroke=\"#000000\" points=\"452.4372,-71.5515 442.3654,-68.2637 448.1886,-77.1148 452.4372,-71.5515\"/>\n</g>\n<!-- 15 -->\n<g id=\"node16\" class=\"node\">\n<title>15</title>\n<polygon fill=\"#ea995f\" stroke=\"#000000\" points=\"609.5,-68 477.5,-68 477.5,0 609.5,0 609.5,-68\"/>\n<text text-anchor=\"middle\" x=\"543.5\" y=\"-52.8\" font-family=\"Helvetica,sans-Serif\" font-size=\"14.00\" fill=\"#000000\">gini = 0.271</text>\n<text text-anchor=\"middle\" x=\"543.5\" y=\"-37.8\" font-family=\"Helvetica,sans-Serif\" font-size=\"14.00\" fill=\"#000000\">samples = 718</text>\n<text text-anchor=\"middle\" x=\"543.5\" y=\"-22.8\" font-family=\"Helvetica,sans-Serif\" font-size=\"14.00\" fill=\"#000000\">value = [602, 116]</text>\n<text text-anchor=\"middle\" x=\"543.5\" y=\"-7.8\" font-family=\"Helvetica,sans-Serif\" font-size=\"14.00\" fill=\"#000000\">class = FALSE</text>\n</g>\n<!-- 13&#45;&gt;15 -->\n<g id=\"edge15\" class=\"edge\">\n<title>13&#45;&gt;15</title>\n<path fill=\"none\" stroke=\"#000000\" d=\"M543.5,-103.9815C543.5,-95.618 543.5,-86.7965 543.5,-78.3409\"/>\n<polygon fill=\"#000000\" stroke=\"#000000\" points=\"547.0001,-78.2636 543.5,-68.2637 540.0001,-78.2637 547.0001,-78.2636\"/>\n</g>\n<!-- 17 -->\n<g id=\"node18\" class=\"node\">\n<title>17</title>\n<polygon fill=\"#eca572\" stroke=\"#000000\" points=\"751.5,-68 627.5,-68 627.5,0 751.5,0 751.5,-68\"/>\n<text text-anchor=\"middle\" x=\"689.5\" y=\"-52.8\" font-family=\"Helvetica,sans-Serif\" font-size=\"14.00\" fill=\"#000000\">gini = 0.347</text>\n<text text-anchor=\"middle\" x=\"689.5\" y=\"-37.8\" font-family=\"Helvetica,sans-Serif\" font-size=\"14.00\" fill=\"#000000\">samples = 148</text>\n<text text-anchor=\"middle\" x=\"689.5\" y=\"-22.8\" font-family=\"Helvetica,sans-Serif\" font-size=\"14.00\" fill=\"#000000\">value = [115, 33]</text>\n<text text-anchor=\"middle\" x=\"689.5\" y=\"-7.8\" font-family=\"Helvetica,sans-Serif\" font-size=\"14.00\" fill=\"#000000\">class = FALSE</text>\n</g>\n<!-- 16&#45;&gt;17 -->\n<g id=\"edge17\" class=\"edge\">\n<title>16&#45;&gt;17</title>\n<path fill=\"none\" stroke=\"#000000\" d=\"M763.5612,-103.9815C753.6402,-94.607 743.1103,-84.6572 733.1992,-75.2921\"/>\n<polygon fill=\"#000000\" stroke=\"#000000\" points=\"735.4334,-72.5878 725.7611,-68.2637 730.6257,-77.6757 735.4334,-72.5878\"/>\n</g>\n<!-- 18 -->\n<g id=\"node19\" class=\"node\">\n<title>18</title>\n<polygon fill=\"#47a4e7\" stroke=\"#000000\" points=\"877,-68 770,-68 770,0 877,0 877,-68\"/>\n<text text-anchor=\"middle\" x=\"823.5\" y=\"-52.8\" font-family=\"Helvetica,sans-Serif\" font-size=\"14.00\" fill=\"#000000\">gini = 0.123</text>\n<text text-anchor=\"middle\" x=\"823.5\" y=\"-37.8\" font-family=\"Helvetica,sans-Serif\" font-size=\"14.00\" fill=\"#000000\">samples = 61</text>\n<text text-anchor=\"middle\" x=\"823.5\" y=\"-22.8\" font-family=\"Helvetica,sans-Serif\" font-size=\"14.00\" fill=\"#000000\">value = [4, 57]</text>\n<text text-anchor=\"middle\" x=\"823.5\" y=\"-7.8\" font-family=\"Helvetica,sans-Serif\" font-size=\"14.00\" fill=\"#000000\">class = TRUE</text>\n</g>\n<!-- 16&#45;&gt;18 -->\n<g id=\"edge18\" class=\"edge\">\n<title>16&#45;&gt;18</title>\n<path fill=\"none\" stroke=\"#000000\" d=\"M813.4578,-103.9815C814.658,-95.618 815.9238,-86.7965 817.1372,-78.3409\"/>\n<polygon fill=\"#000000\" stroke=\"#000000\" points=\"820.6272,-78.6595 818.5832,-68.2637 813.6982,-77.6651 820.6272,-78.6595\"/>\n</g>\n<!-- 20 -->\n<g id=\"node21\" class=\"node\">\n<title>20</title>\n<polygon fill=\"#50a8e8\" stroke=\"#000000\" points=\"1138.5,-187 938.5,-187 938.5,-104 1138.5,-104 1138.5,-187\"/>\n<text text-anchor=\"middle\" x=\"1038.5\" y=\"-171.8\" font-family=\"Helvetica,sans-Serif\" font-size=\"14.00\" fill=\"#000000\">Total Evening Min &lt;= 249.04</text>\n<text text-anchor=\"middle\" x=\"1038.5\" y=\"-156.8\" font-family=\"Helvetica,sans-Serif\" font-size=\"14.00\" fill=\"#000000\">gini = 0.187</text>\n<text text-anchor=\"middle\" x=\"1038.5\" y=\"-141.8\" font-family=\"Helvetica,sans-Serif\" font-size=\"14.00\" fill=\"#000000\">samples = 393</text>\n<text text-anchor=\"middle\" x=\"1038.5\" y=\"-126.8\" font-family=\"Helvetica,sans-Serif\" font-size=\"14.00\" fill=\"#000000\">value = [41, 352]</text>\n<text text-anchor=\"middle\" x=\"1038.5\" y=\"-111.8\" font-family=\"Helvetica,sans-Serif\" font-size=\"14.00\" fill=\"#000000\">class = TRUE</text>\n</g>\n<!-- 19&#45;&gt;20 -->\n<g id=\"edge20\" class=\"edge\">\n<title>19&#45;&gt;20</title>\n<path fill=\"none\" stroke=\"#000000\" d=\"M1038.5,-222.8796C1038.5,-214.6838 1038.5,-205.9891 1038.5,-197.5013\"/>\n<polygon fill=\"#000000\" stroke=\"#000000\" points=\"1042.0001,-197.298 1038.5,-187.2981 1035.0001,-197.2981 1042.0001,-197.298\"/>\n</g>\n<!-- 23 -->\n<g id=\"node24\" class=\"node\">\n<title>23</title>\n<polygon fill=\"#e99456\" stroke=\"#000000\" points=\"1366,-187 1157,-187 1157,-104 1366,-104 1366,-187\"/>\n<text text-anchor=\"middle\" x=\"1261.5\" y=\"-171.8\" font-family=\"Helvetica,sans-Serif\" font-size=\"14.00\" fill=\"#000000\">Total Evening Charge &lt;= 11.5</text>\n<text text-anchor=\"middle\" x=\"1261.5\" y=\"-156.8\" font-family=\"Helvetica,sans-Serif\" font-size=\"14.00\" fill=\"#000000\">gini = 0.224</text>\n<text text-anchor=\"middle\" x=\"1261.5\" y=\"-141.8\" font-family=\"Helvetica,sans-Serif\" font-size=\"14.00\" fill=\"#000000\">samples = 39</text>\n<text text-anchor=\"middle\" x=\"1261.5\" y=\"-126.8\" font-family=\"Helvetica,sans-Serif\" font-size=\"14.00\" fill=\"#000000\">value = [34, 5]</text>\n<text text-anchor=\"middle\" x=\"1261.5\" y=\"-111.8\" font-family=\"Helvetica,sans-Serif\" font-size=\"14.00\" fill=\"#000000\">class = FALSE</text>\n</g>\n<!-- 19&#45;&gt;23 -->\n<g id=\"edge23\" class=\"edge\">\n<title>19&#45;&gt;23</title>\n<path fill=\"none\" stroke=\"#000000\" d=\"M1116.4946,-222.8796C1135.2525,-212.8697 1155.4052,-202.1156 1174.5428,-191.9031\"/>\n<polygon fill=\"#000000\" stroke=\"#000000\" points=\"1176.3748,-194.8928 1183.5495,-187.0969 1173.0792,-188.7171 1176.3748,-194.8928\"/>\n</g>\n<!-- 21 -->\n<g id=\"node22\" class=\"node\">\n<title>21</title>\n<polygon fill=\"#48a4e7\" stroke=\"#000000\" points=\"1019.5,-68 895.5,-68 895.5,0 1019.5,0 1019.5,-68\"/>\n<text text-anchor=\"middle\" x=\"957.5\" y=\"-52.8\" font-family=\"Helvetica,sans-Serif\" font-size=\"14.00\" fill=\"#000000\">gini = 0.132</text>\n<text text-anchor=\"middle\" x=\"957.5\" y=\"-37.8\" font-family=\"Helvetica,sans-Serif\" font-size=\"14.00\" fill=\"#000000\">samples = 366</text>\n<text text-anchor=\"middle\" x=\"957.5\" y=\"-22.8\" font-family=\"Helvetica,sans-Serif\" font-size=\"14.00\" fill=\"#000000\">value = [26, 340]</text>\n<text text-anchor=\"middle\" x=\"957.5\" y=\"-7.8\" font-family=\"Helvetica,sans-Serif\" font-size=\"14.00\" fill=\"#000000\">class = TRUE</text>\n</g>\n<!-- 20&#45;&gt;21 -->\n<g id=\"edge21\" class=\"edge\">\n<title>20&#45;&gt;21</title>\n<path fill=\"none\" stroke=\"#000000\" d=\"M1008.3386,-103.9815C1001.7955,-94.9747 994.8666,-85.4367 988.2992,-76.3965\"/>\n<polygon fill=\"#000000\" stroke=\"#000000\" points=\"991.1002,-74.2971 982.3911,-68.2637 985.4369,-78.4113 991.1002,-74.2971\"/>\n</g>\n<!-- 22 -->\n<g id=\"node23\" class=\"node\">\n<title>22</title>\n<polygon fill=\"#fae6d7\" stroke=\"#000000\" points=\"1153.5,-68 1037.5,-68 1037.5,0 1153.5,0 1153.5,-68\"/>\n<text text-anchor=\"middle\" x=\"1095.5\" y=\"-52.8\" font-family=\"Helvetica,sans-Serif\" font-size=\"14.00\" fill=\"#000000\">gini = 0.494</text>\n<text text-anchor=\"middle\" x=\"1095.5\" y=\"-37.8\" font-family=\"Helvetica,sans-Serif\" font-size=\"14.00\" fill=\"#000000\">samples = 27</text>\n<text text-anchor=\"middle\" x=\"1095.5\" y=\"-22.8\" font-family=\"Helvetica,sans-Serif\" font-size=\"14.00\" fill=\"#000000\">value = [15, 12]</text>\n<text text-anchor=\"middle\" x=\"1095.5\" y=\"-7.8\" font-family=\"Helvetica,sans-Serif\" font-size=\"14.00\" fill=\"#000000\">class = FALSE</text>\n</g>\n<!-- 20&#45;&gt;22 -->\n<g id=\"edge22\" class=\"edge\">\n<title>20&#45;&gt;22</title>\n<path fill=\"none\" stroke=\"#000000\" d=\"M1059.7247,-103.9815C1064.1881,-95.2504 1068.9067,-86.0202 1073.4013,-77.2281\"/>\n<polygon fill=\"#000000\" stroke=\"#000000\" points=\"1076.5486,-78.7608 1077.984,-68.2637 1070.3158,-75.5745 1076.5486,-78.7608\"/>\n</g>\n<!-- 24 -->\n<g id=\"node25\" class=\"node\">\n<title>24</title>\n<polygon fill=\"#6ab6ec\" stroke=\"#000000\" points=\"1277.5,-68 1171.5,-68 1171.5,0 1277.5,0 1277.5,-68\"/>\n<text text-anchor=\"middle\" x=\"1224.5\" y=\"-52.8\" font-family=\"Helvetica,sans-Serif\" font-size=\"14.00\" fill=\"#000000\">gini = 0.32</text>\n<text text-anchor=\"middle\" x=\"1224.5\" y=\"-37.8\" font-family=\"Helvetica,sans-Serif\" font-size=\"14.00\" fill=\"#000000\">samples = 5</text>\n<text text-anchor=\"middle\" x=\"1224.5\" y=\"-22.8\" font-family=\"Helvetica,sans-Serif\" font-size=\"14.00\" fill=\"#000000\">value = [1, 4]</text>\n<text text-anchor=\"middle\" x=\"1224.5\" y=\"-7.8\" font-family=\"Helvetica,sans-Serif\" font-size=\"14.00\" fill=\"#000000\">class = TRUE</text>\n</g>\n<!-- 23&#45;&gt;24 -->\n<g id=\"edge24\" class=\"edge\">\n<title>23&#45;&gt;24</title>\n<path fill=\"none\" stroke=\"#000000\" d=\"M1247.7226,-103.9815C1244.8862,-95.4342 1241.8912,-86.4086 1239.0292,-77.7839\"/>\n<polygon fill=\"#000000\" stroke=\"#000000\" points=\"1242.3415,-76.6524 1235.87,-68.2637 1235.6977,-78.8571 1242.3415,-76.6524\"/>\n</g>\n<!-- 25 -->\n<g id=\"node26\" class=\"node\">\n<title>25</title>\n<polygon fill=\"#e6853f\" stroke=\"#000000\" points=\"1407.5,-68 1295.5,-68 1295.5,0 1407.5,0 1407.5,-68\"/>\n<text text-anchor=\"middle\" x=\"1351.5\" y=\"-52.8\" font-family=\"Helvetica,sans-Serif\" font-size=\"14.00\" fill=\"#000000\">gini = 0.057</text>\n<text text-anchor=\"middle\" x=\"1351.5\" y=\"-37.8\" font-family=\"Helvetica,sans-Serif\" font-size=\"14.00\" fill=\"#000000\">samples = 34</text>\n<text text-anchor=\"middle\" x=\"1351.5\" y=\"-22.8\" font-family=\"Helvetica,sans-Serif\" font-size=\"14.00\" fill=\"#000000\">value = [33, 1]</text>\n<text text-anchor=\"middle\" x=\"1351.5\" y=\"-7.8\" font-family=\"Helvetica,sans-Serif\" font-size=\"14.00\" fill=\"#000000\">class = FALSE</text>\n</g>\n<!-- 23&#45;&gt;25 -->\n<g id=\"edge25\" class=\"edge\">\n<title>23&#45;&gt;25</title>\n<path fill=\"none\" stroke=\"#000000\" d=\"M1295.0127,-103.9815C1302.357,-94.8828 1310.1388,-85.242 1317.5019,-76.1199\"/>\n<polygon fill=\"#000000\" stroke=\"#000000\" points=\"1320.2857,-78.2434 1323.8432,-68.2637 1314.8388,-73.8467 1320.2857,-78.2434\"/>\n</g>\n<!-- 27 -->\n<g id=\"node28\" class=\"node\">\n<title>27</title>\n<polygon fill=\"#59ade9\" stroke=\"#000000\" points=\"1778,-306 1569,-306 1569,-223 1778,-223 1778,-306\"/>\n<text text-anchor=\"middle\" x=\"1673.5\" y=\"-290.8\" font-family=\"Helvetica,sans-Serif\" font-size=\"14.00\" fill=\"#000000\">Total Evening Min &lt;= 162.047</text>\n<text text-anchor=\"middle\" x=\"1673.5\" y=\"-275.8\" font-family=\"Helvetica,sans-Serif\" font-size=\"14.00\" fill=\"#000000\">gini = 0.242</text>\n<text text-anchor=\"middle\" x=\"1673.5\" y=\"-260.8\" font-family=\"Helvetica,sans-Serif\" font-size=\"14.00\" fill=\"#000000\">samples = 583</text>\n<text text-anchor=\"middle\" x=\"1673.5\" y=\"-245.8\" font-family=\"Helvetica,sans-Serif\" font-size=\"14.00\" fill=\"#000000\">value = [82, 501]</text>\n<text text-anchor=\"middle\" x=\"1673.5\" y=\"-230.8\" font-family=\"Helvetica,sans-Serif\" font-size=\"14.00\" fill=\"#000000\">class = TRUE</text>\n</g>\n<!-- 26&#45;&gt;27 -->\n<g id=\"edge27\" class=\"edge\">\n<title>26&#45;&gt;27</title>\n<path fill=\"none\" stroke=\"#000000\" d=\"M1673.5,-341.8796C1673.5,-333.6838 1673.5,-324.9891 1673.5,-316.5013\"/>\n<polygon fill=\"#000000\" stroke=\"#000000\" points=\"1677.0001,-316.298 1673.5,-306.2981 1670.0001,-316.2981 1677.0001,-316.298\"/>\n</g>\n<!-- 34 -->\n<g id=\"node35\" class=\"node\">\n<title>34</title>\n<polygon fill=\"#e6853f\" stroke=\"#000000\" points=\"2104.5,-306 1914.5,-306 1914.5,-223 2104.5,-223 2104.5,-306\"/>\n<text text-anchor=\"middle\" x=\"2009.5\" y=\"-290.8\" font-family=\"Helvetica,sans-Serif\" font-size=\"14.00\" fill=\"#000000\">Total Day Charge &lt;= 54.23</text>\n<text text-anchor=\"middle\" x=\"2009.5\" y=\"-275.8\" font-family=\"Helvetica,sans-Serif\" font-size=\"14.00\" fill=\"#000000\">gini = 0.057</text>\n<text text-anchor=\"middle\" x=\"2009.5\" y=\"-260.8\" font-family=\"Helvetica,sans-Serif\" font-size=\"14.00\" fill=\"#000000\">samples = 68</text>\n<text text-anchor=\"middle\" x=\"2009.5\" y=\"-245.8\" font-family=\"Helvetica,sans-Serif\" font-size=\"14.00\" fill=\"#000000\">value = [66, 2]</text>\n<text text-anchor=\"middle\" x=\"2009.5\" y=\"-230.8\" font-family=\"Helvetica,sans-Serif\" font-size=\"14.00\" fill=\"#000000\">class = FALSE</text>\n</g>\n<!-- 26&#45;&gt;34 -->\n<g id=\"edge34\" class=\"edge\">\n<title>26&#45;&gt;34</title>\n<path fill=\"none\" stroke=\"#000000\" d=\"M1767.5415,-350.1936C1810.227,-335.0759 1860.8709,-317.1395 1904.7667,-301.5931\"/>\n<polygon fill=\"#000000\" stroke=\"#000000\" points=\"1906.0567,-304.8493 1914.3144,-298.2116 1903.7197,-298.2509 1906.0567,-304.8493\"/>\n</g>\n<!-- 28 -->\n<g id=\"node29\" class=\"node\">\n<title>28</title>\n<polygon fill=\"#eeac7d\" stroke=\"#000000\" points=\"1664.5,-187 1474.5,-187 1474.5,-104 1664.5,-104 1664.5,-187\"/>\n<text text-anchor=\"middle\" x=\"1569.5\" y=\"-171.8\" font-family=\"Helvetica,sans-Serif\" font-size=\"14.00\" fill=\"#000000\">Total Day Charge &lt;= 47.98</text>\n<text text-anchor=\"middle\" x=\"1569.5\" y=\"-156.8\" font-family=\"Helvetica,sans-Serif\" font-size=\"14.00\" fill=\"#000000\">gini = 0.38</text>\n<text text-anchor=\"middle\" x=\"1569.5\" y=\"-141.8\" font-family=\"Helvetica,sans-Serif\" font-size=\"14.00\" fill=\"#000000\">samples = 47</text>\n<text text-anchor=\"middle\" x=\"1569.5\" y=\"-126.8\" font-family=\"Helvetica,sans-Serif\" font-size=\"14.00\" fill=\"#000000\">value = [35, 12]</text>\n<text text-anchor=\"middle\" x=\"1569.5\" y=\"-111.8\" font-family=\"Helvetica,sans-Serif\" font-size=\"14.00\" fill=\"#000000\">class = FALSE</text>\n</g>\n<!-- 27&#45;&gt;28 -->\n<g id=\"edge28\" class=\"edge\">\n<title>27&#45;&gt;28</title>\n<path fill=\"none\" stroke=\"#000000\" d=\"M1637.1258,-222.8796C1629.2548,-213.8733 1620.8571,-204.2644 1612.7515,-194.9897\"/>\n<polygon fill=\"#000000\" stroke=\"#000000\" points=\"1615.2454,-192.5246 1606.0294,-187.2981 1609.9746,-197.131 1615.2454,-192.5246\"/>\n</g>\n<!-- 31 -->\n<g id=\"node32\" class=\"node\">\n<title>31</title>\n<polygon fill=\"#4ca6e7\" stroke=\"#000000\" points=\"1872,-187 1683,-187 1683,-104 1872,-104 1872,-187\"/>\n<text text-anchor=\"middle\" x=\"1777.5\" y=\"-171.8\" font-family=\"Helvetica,sans-Serif\" font-size=\"14.00\" fill=\"#000000\">Total Night Charge &lt;= 6.79</text>\n<text text-anchor=\"middle\" x=\"1777.5\" y=\"-156.8\" font-family=\"Helvetica,sans-Serif\" font-size=\"14.00\" fill=\"#000000\">gini = 0.16</text>\n<text text-anchor=\"middle\" x=\"1777.5\" y=\"-141.8\" font-family=\"Helvetica,sans-Serif\" font-size=\"14.00\" fill=\"#000000\">samples = 536</text>\n<text text-anchor=\"middle\" x=\"1777.5\" y=\"-126.8\" font-family=\"Helvetica,sans-Serif\" font-size=\"14.00\" fill=\"#000000\">value = [47, 489]</text>\n<text text-anchor=\"middle\" x=\"1777.5\" y=\"-111.8\" font-family=\"Helvetica,sans-Serif\" font-size=\"14.00\" fill=\"#000000\">class = TRUE</text>\n</g>\n<!-- 27&#45;&gt;31 -->\n<g id=\"edge31\" class=\"edge\">\n<title>27&#45;&gt;31</title>\n<path fill=\"none\" stroke=\"#000000\" d=\"M1709.8742,-222.8796C1717.7452,-213.8733 1726.1429,-204.2644 1734.2485,-194.9897\"/>\n<polygon fill=\"#000000\" stroke=\"#000000\" points=\"1737.0254,-197.131 1740.9706,-187.2981 1731.7546,-192.5246 1737.0254,-197.131\"/>\n</g>\n<!-- 29 -->\n<g id=\"node30\" class=\"node\">\n<title>29</title>\n<polygon fill=\"#e58139\" stroke=\"#000000\" points=\"1537.5,-68 1425.5,-68 1425.5,0 1537.5,0 1537.5,-68\"/>\n<text text-anchor=\"middle\" x=\"1481.5\" y=\"-52.8\" font-family=\"Helvetica,sans-Serif\" font-size=\"14.00\" fill=\"#000000\">gini = 0.0</text>\n<text text-anchor=\"middle\" x=\"1481.5\" y=\"-37.8\" font-family=\"Helvetica,sans-Serif\" font-size=\"14.00\" fill=\"#000000\">samples = 30</text>\n<text text-anchor=\"middle\" x=\"1481.5\" y=\"-22.8\" font-family=\"Helvetica,sans-Serif\" font-size=\"14.00\" fill=\"#000000\">value = [30, 0]</text>\n<text text-anchor=\"middle\" x=\"1481.5\" y=\"-7.8\" font-family=\"Helvetica,sans-Serif\" font-size=\"14.00\" fill=\"#000000\">class = FALSE</text>\n</g>\n<!-- 28&#45;&gt;29 -->\n<g id=\"edge29\" class=\"edge\">\n<title>28&#45;&gt;29</title>\n<path fill=\"none\" stroke=\"#000000\" d=\"M1536.732,-103.9815C1529.551,-94.8828 1521.9421,-85.242 1514.7426,-76.1199\"/>\n<polygon fill=\"#000000\" stroke=\"#000000\" points=\"1517.4849,-73.9451 1508.5422,-68.2637 1511.9901,-78.2818 1517.4849,-73.9451\"/>\n</g>\n<!-- 30 -->\n<g id=\"node31\" class=\"node\">\n<title>30</title>\n<polygon fill=\"#8bc6f0\" stroke=\"#000000\" points=\"1663,-68 1556,-68 1556,0 1663,0 1663,-68\"/>\n<text text-anchor=\"middle\" x=\"1609.5\" y=\"-52.8\" font-family=\"Helvetica,sans-Serif\" font-size=\"14.00\" fill=\"#000000\">gini = 0.415</text>\n<text text-anchor=\"middle\" x=\"1609.5\" y=\"-37.8\" font-family=\"Helvetica,sans-Serif\" font-size=\"14.00\" fill=\"#000000\">samples = 17</text>\n<text text-anchor=\"middle\" x=\"1609.5\" y=\"-22.8\" font-family=\"Helvetica,sans-Serif\" font-size=\"14.00\" fill=\"#000000\">value = [5, 12]</text>\n<text text-anchor=\"middle\" x=\"1609.5\" y=\"-7.8\" font-family=\"Helvetica,sans-Serif\" font-size=\"14.00\" fill=\"#000000\">class = TRUE</text>\n</g>\n<!-- 28&#45;&gt;30 -->\n<g id=\"edge30\" class=\"edge\">\n<title>28&#45;&gt;30</title>\n<path fill=\"none\" stroke=\"#000000\" d=\"M1584.3945,-103.9815C1587.4608,-95.4342 1590.6987,-86.4086 1593.7928,-77.7839\"/>\n<polygon fill=\"#000000\" stroke=\"#000000\" points=\"1597.1257,-78.8582 1597.2081,-68.2637 1590.5369,-76.4944 1597.1257,-78.8582\"/>\n</g>\n<!-- 32 -->\n<g id=\"node33\" class=\"node\">\n<title>32</title>\n<polygon fill=\"#f4c8a8\" stroke=\"#000000\" points=\"1793.5,-68 1681.5,-68 1681.5,0 1793.5,0 1793.5,-68\"/>\n<text text-anchor=\"middle\" x=\"1737.5\" y=\"-52.8\" font-family=\"Helvetica,sans-Serif\" font-size=\"14.00\" fill=\"#000000\">gini = 0.461</text>\n<text text-anchor=\"middle\" x=\"1737.5\" y=\"-37.8\" font-family=\"Helvetica,sans-Serif\" font-size=\"14.00\" fill=\"#000000\">samples = 25</text>\n<text text-anchor=\"middle\" x=\"1737.5\" y=\"-22.8\" font-family=\"Helvetica,sans-Serif\" font-size=\"14.00\" fill=\"#000000\">value = [16, 9]</text>\n<text text-anchor=\"middle\" x=\"1737.5\" y=\"-7.8\" font-family=\"Helvetica,sans-Serif\" font-size=\"14.00\" fill=\"#000000\">class = FALSE</text>\n</g>\n<!-- 31&#45;&gt;32 -->\n<g id=\"edge32\" class=\"edge\">\n<title>31&#45;&gt;32</title>\n<path fill=\"none\" stroke=\"#000000\" d=\"M1762.6055,-103.9815C1759.5392,-95.4342 1756.3013,-86.4086 1753.2072,-77.7839\"/>\n<polygon fill=\"#000000\" stroke=\"#000000\" points=\"1756.4631,-76.4944 1749.7919,-68.2637 1749.8743,-78.8582 1756.4631,-76.4944\"/>\n</g>\n<!-- 33 -->\n<g id=\"node34\" class=\"node\">\n<title>33</title>\n<polygon fill=\"#46a3e7\" stroke=\"#000000\" points=\"1935.5,-68 1811.5,-68 1811.5,0 1935.5,0 1935.5,-68\"/>\n<text text-anchor=\"middle\" x=\"1873.5\" y=\"-52.8\" font-family=\"Helvetica,sans-Serif\" font-size=\"14.00\" fill=\"#000000\">gini = 0.114</text>\n<text text-anchor=\"middle\" x=\"1873.5\" y=\"-37.8\" font-family=\"Helvetica,sans-Serif\" font-size=\"14.00\" fill=\"#000000\">samples = 511</text>\n<text text-anchor=\"middle\" x=\"1873.5\" y=\"-22.8\" font-family=\"Helvetica,sans-Serif\" font-size=\"14.00\" fill=\"#000000\">value = [31, 480]</text>\n<text text-anchor=\"middle\" x=\"1873.5\" y=\"-7.8\" font-family=\"Helvetica,sans-Serif\" font-size=\"14.00\" fill=\"#000000\">class = TRUE</text>\n</g>\n<!-- 31&#45;&gt;33 -->\n<g id=\"edge33\" class=\"edge\">\n<title>31&#45;&gt;33</title>\n<path fill=\"none\" stroke=\"#000000\" d=\"M1813.2469,-103.9815C1821.1599,-94.7908 1829.5491,-85.0472 1837.4732,-75.8436\"/>\n<polygon fill=\"#000000\" stroke=\"#000000\" points=\"1840.1271,-78.1255 1843.9994,-68.2637 1834.8224,-73.5582 1840.1271,-78.1255\"/>\n</g>\n<!-- 35 -->\n<g id=\"node36\" class=\"node\">\n<title>35</title>\n<polygon fill=\"#e5833c\" stroke=\"#000000\" points=\"2070,-187 1949,-187 1949,-104 2070,-104 2070,-187\"/>\n<text text-anchor=\"middle\" x=\"2009.5\" y=\"-171.8\" font-family=\"Helvetica,sans-Serif\" font-size=\"14.00\" fill=\"#000000\">State_NJ &lt;= 0.5</text>\n<text text-anchor=\"middle\" x=\"2009.5\" y=\"-156.8\" font-family=\"Helvetica,sans-Serif\" font-size=\"14.00\" fill=\"#000000\">gini = 0.029</text>\n<text text-anchor=\"middle\" x=\"2009.5\" y=\"-141.8\" font-family=\"Helvetica,sans-Serif\" font-size=\"14.00\" fill=\"#000000\">samples = 67</text>\n<text text-anchor=\"middle\" x=\"2009.5\" y=\"-126.8\" font-family=\"Helvetica,sans-Serif\" font-size=\"14.00\" fill=\"#000000\">value = [66, 1]</text>\n<text text-anchor=\"middle\" x=\"2009.5\" y=\"-111.8\" font-family=\"Helvetica,sans-Serif\" font-size=\"14.00\" fill=\"#000000\">class = FALSE</text>\n</g>\n<!-- 34&#45;&gt;35 -->\n<g id=\"edge35\" class=\"edge\">\n<title>34&#45;&gt;35</title>\n<path fill=\"none\" stroke=\"#000000\" d=\"M2009.5,-222.8796C2009.5,-214.6838 2009.5,-205.9891 2009.5,-197.5013\"/>\n<polygon fill=\"#000000\" stroke=\"#000000\" points=\"2013.0001,-197.298 2009.5,-187.2981 2006.0001,-197.2981 2013.0001,-197.298\"/>\n</g>\n<!-- 38 -->\n<g id=\"node39\" class=\"node\">\n<title>38</title>\n<polygon fill=\"#399de5\" stroke=\"#000000\" points=\"2194.5,-179.5 2088.5,-179.5 2088.5,-111.5 2194.5,-111.5 2194.5,-179.5\"/>\n<text text-anchor=\"middle\" x=\"2141.5\" y=\"-164.3\" font-family=\"Helvetica,sans-Serif\" font-size=\"14.00\" fill=\"#000000\">gini = 0.0</text>\n<text text-anchor=\"middle\" x=\"2141.5\" y=\"-149.3\" font-family=\"Helvetica,sans-Serif\" font-size=\"14.00\" fill=\"#000000\">samples = 1</text>\n<text text-anchor=\"middle\" x=\"2141.5\" y=\"-134.3\" font-family=\"Helvetica,sans-Serif\" font-size=\"14.00\" fill=\"#000000\">value = [0, 1]</text>\n<text text-anchor=\"middle\" x=\"2141.5\" y=\"-119.3\" font-family=\"Helvetica,sans-Serif\" font-size=\"14.00\" fill=\"#000000\">class = TRUE</text>\n</g>\n<!-- 34&#45;&gt;38 -->\n<g id=\"edge38\" class=\"edge\">\n<title>34&#45;&gt;38</title>\n<path fill=\"none\" stroke=\"#000000\" d=\"M2055.6672,-222.8796C2068.7183,-211.1138 2082.9101,-198.3197 2095.9261,-186.5855\"/>\n<polygon fill=\"#000000\" stroke=\"#000000\" points=\"2098.3526,-189.1104 2103.4364,-179.8149 2093.6654,-183.9113 2098.3526,-189.1104\"/>\n</g>\n<!-- 36 -->\n<g id=\"node37\" class=\"node\">\n<title>36</title>\n<polygon fill=\"#e58139\" stroke=\"#000000\" points=\"2065.5,-68 1953.5,-68 1953.5,0 2065.5,0 2065.5,-68\"/>\n<text text-anchor=\"middle\" x=\"2009.5\" y=\"-52.8\" font-family=\"Helvetica,sans-Serif\" font-size=\"14.00\" fill=\"#000000\">gini = 0.0</text>\n<text text-anchor=\"middle\" x=\"2009.5\" y=\"-37.8\" font-family=\"Helvetica,sans-Serif\" font-size=\"14.00\" fill=\"#000000\">samples = 65</text>\n<text text-anchor=\"middle\" x=\"2009.5\" y=\"-22.8\" font-family=\"Helvetica,sans-Serif\" font-size=\"14.00\" fill=\"#000000\">value = [65, 0]</text>\n<text text-anchor=\"middle\" x=\"2009.5\" y=\"-7.8\" font-family=\"Helvetica,sans-Serif\" font-size=\"14.00\" fill=\"#000000\">class = FALSE</text>\n</g>\n<!-- 35&#45;&gt;36 -->\n<g id=\"edge36\" class=\"edge\">\n<title>35&#45;&gt;36</title>\n<path fill=\"none\" stroke=\"#000000\" d=\"M2009.5,-103.9815C2009.5,-95.618 2009.5,-86.7965 2009.5,-78.3409\"/>\n<polygon fill=\"#000000\" stroke=\"#000000\" points=\"2013.0001,-78.2636 2009.5,-68.2637 2006.0001,-78.2637 2013.0001,-78.2636\"/>\n</g>\n<!-- 37 -->\n<g id=\"node38\" class=\"node\">\n<title>37</title>\n<polygon fill=\"#ffffff\" stroke=\"#000000\" points=\"2195.5,-68 2083.5,-68 2083.5,0 2195.5,0 2195.5,-68\"/>\n<text text-anchor=\"middle\" x=\"2139.5\" y=\"-52.8\" font-family=\"Helvetica,sans-Serif\" font-size=\"14.00\" fill=\"#000000\">gini = 0.5</text>\n<text text-anchor=\"middle\" x=\"2139.5\" y=\"-37.8\" font-family=\"Helvetica,sans-Serif\" font-size=\"14.00\" fill=\"#000000\">samples = 2</text>\n<text text-anchor=\"middle\" x=\"2139.5\" y=\"-22.8\" font-family=\"Helvetica,sans-Serif\" font-size=\"14.00\" fill=\"#000000\">value = [1, 1]</text>\n<text text-anchor=\"middle\" x=\"2139.5\" y=\"-7.8\" font-family=\"Helvetica,sans-Serif\" font-size=\"14.00\" fill=\"#000000\">class = FALSE</text>\n</g>\n<!-- 35&#45;&gt;37 -->\n<g id=\"edge37\" class=\"edge\">\n<title>35&#45;&gt;37</title>\n<path fill=\"none\" stroke=\"#000000\" d=\"M2057.9072,-103.9815C2068.9442,-94.5151 2080.6653,-84.462 2091.6777,-75.0168\"/>\n<polygon fill=\"#000000\" stroke=\"#000000\" points=\"2094.2394,-77.4307 2099.5513,-68.2637 2089.6822,-72.1173 2094.2394,-77.4307\"/>\n</g>\n</g>\n</svg>\n"
          },
          "metadata": {},
          "execution_count": 38
        }
      ]
    },
    {
      "cell_type": "code",
      "source": [
        "# Perform the predictions on the test set\n",
        "y_pred = clf.predict(X_test)"
      ],
      "metadata": {
        "id": "YxSKuyR-NHHT"
      },
      "execution_count": 39,
      "outputs": []
    },
    {
      "cell_type": "code",
      "source": [
        "# Get classification report\n",
        "from sklearn.metrics import classification_report\n",
        "from sklearn import metrics\n",
        "\n",
        "print(classification_report(y_test, y_pred))"
      ],
      "metadata": {
        "colab": {
          "base_uri": "https://localhost:8080/"
        },
        "id": "44RnEpZ2NHD7",
        "outputId": "1eab8632-31b7-480b-8fdb-dc2baa71afdd"
      },
      "execution_count": 40,
      "outputs": [
        {
          "output_type": "stream",
          "name": "stdout",
          "text": [
            "              precision    recall  f1-score   support\n",
            "\n",
            "       FALSE       0.96      0.96      0.96       850\n",
            "        TRUE       0.76      0.75      0.76       150\n",
            "\n",
            "    accuracy                           0.93      1000\n",
            "   macro avg       0.86      0.86      0.86      1000\n",
            "weighted avg       0.93      0.93      0.93      1000\n",
            "\n"
          ]
        }
      ]
    },
    {
      "cell_type": "code",
      "source": [
        "from sklearn.metrics import accuracy_score\n",
        "\n",
        "print('The Baseline Classification Tree Model accuracy score is: {0:0.4f}'. format(accuracy_score(y_test, y_pred)))"
      ],
      "metadata": {
        "colab": {
          "base_uri": "https://localhost:8080/"
        },
        "id": "xLDRxmwZNHA5",
        "outputId": "eba952f8-3a84-4645-8d92-a67dac4cd65a"
      },
      "execution_count": 41,
      "outputs": [
        {
          "output_type": "stream",
          "name": "stdout",
          "text": [
            "The Baseline Classification Tree Model accuracy score is: 0.9270\n"
          ]
        }
      ]
    },
    {
      "cell_type": "code",
      "source": [
        "# Plot the confusion matrix\n",
        "# this line removes the grid from the confusion matrix\n",
        "sns.set_style(\"whitegrid\", {'axes.grid' : False})\n",
        "\n",
        "ConfusionMatrixDisplay.from_predictions(y_test, y_pred)\n",
        "plt.show()"
      ],
      "metadata": {
        "colab": {
          "base_uri": "https://localhost:8080/",
          "height": 279
        },
        "id": "jEryYw-ANG4N",
        "outputId": "27deb4d1-9e8f-4af5-d6a8-f3f193eac8bc"
      },
      "execution_count": 42,
      "outputs": [
        {
          "output_type": "display_data",
          "data": {
            "text/plain": [
              "<Figure size 432x288 with 2 Axes>"
            ],
            "image/png": "[encoded data removed]"
          },
          "metadata": {}
        }
      ]
    },
    {
      "cell_type": "code",
      "source": [
        "cf = confusion_matrix(y_test, y_pred)\n",
        "print(cf)\n",
        "tn, fp, fn, tp=cf.ravel()\n",
        "print (\"TP: \", tp,\", FP: \", fp,\", TN: \", tn,\", FN:\", fn)"
      ],
      "metadata": {
        "colab": {
          "base_uri": "https://localhost:8080/"
        },
        "id": "CtwOXo27NGuK",
        "outputId": "5e39b0fe-9daf-4e50-9adb-75c0c50c3d70"
      },
      "execution_count": 43,
      "outputs": [
        {
          "output_type": "stream",
          "name": "stdout",
          "text": [
            "[[814  36]\n",
            " [ 37 113]]\n",
            "TP:  113 , FP:  36 , TN:  814 , FN: 37\n"
          ]
        }
      ]
    },
    {
      "cell_type": "code",
      "source": [
        "# View again X_resampled\n",
        "X_resampled"
      ],
      "metadata": {
        "colab": {
          "base_uri": "https://localhost:8080/",
          "height": 502
        },
        "id": "84mUnvRMwIAa",
        "outputId": "81108ddc-9783-46b3-87b3-7a19b47dbdd4"
      },
      "execution_count": 44,
      "outputs": [
        {
          "output_type": "execute_result",
          "data": {
            "text/plain": [
              "      Account Length  No of Vmail Mesgs  Total Day Min  Total Day calls  \\\n",
              "0         166.000000                0.0     197.900000        89.000000   \n",
              "1          80.000000                0.0     209.900000        74.000000   \n",
              "2          91.000000               23.0     232.400000        97.000000   \n",
              "3          59.000000                0.0     179.400000        80.000000   \n",
              "4          88.000000                0.0      55.600000        65.000000   \n",
              "...              ...                ...            ...              ...   \n",
              "3995       52.641785                0.0     288.045141        74.629858   \n",
              "3996      140.693100                0.0     189.859541       105.109607   \n",
              "3997       90.365236                0.0     193.119035        65.312983   \n",
              "3998      107.435165                0.0     277.021439       119.221379   \n",
              "3999      136.630203                0.0     303.206757        90.632817   \n",
              "\n",
              "      Total Day Charge  Total Evening Min  Total Evening Calls  \\\n",
              "0            33.640000         251.000000           113.000000   \n",
              "1            35.680000         195.100000            77.000000   \n",
              "2            39.510000         186.000000            88.000000   \n",
              "3            30.500000         232.500000            99.000000   \n",
              "4             9.450000         242.700000           121.000000   \n",
              "...                ...                ...                  ...   \n",
              "3995         48.965565         222.825133           110.336130   \n",
              "3996         32.275567         179.147904           101.956157   \n",
              "3997         32.830419         264.779099            79.539056   \n",
              "3998         47.091309         273.552566           100.122077   \n",
              "3999         51.545675         225.098049           113.975266   \n",
              "\n",
              "      Total Evening Charge  Total Night Minutes  Total Night Calls  ...  \\\n",
              "0                21.340000           138.300000          85.000000  ...   \n",
              "1                16.580000           208.200000         119.000000  ...   \n",
              "2                15.810000           190.500000         128.000000  ...   \n",
              "3                19.760000           175.800000         105.000000  ...   \n",
              "4                20.630000           176.300000         134.000000  ...   \n",
              "...                    ...                  ...                ...  ...   \n",
              "3995             18.938489           204.498630         106.945671  ...   \n",
              "3996             15.228517           188.948742         128.708254  ...   \n",
              "3997             22.507041           231.714436         117.547854  ...   \n",
              "3998             23.250525           250.451807          91.992408  ...   \n",
              "3999             19.129531           247.733722          98.263020  ...   \n",
              "\n",
              "      State_WI  State_WV  State_WY  Area Code_A408  Area Code_A415  \\\n",
              "0            0         0         0               0               0   \n",
              "1            0         0         0               1               0   \n",
              "2            0         0         0               0               0   \n",
              "3            0         0         0               0               0   \n",
              "4            0         0         0               0               1   \n",
              "...        ...       ...       ...             ...             ...   \n",
              "3995         0         0         0               0               0   \n",
              "3996         0         0         0               0               0   \n",
              "3997         0         0         0               0               1   \n",
              "3998         0         0         0               0               0   \n",
              "3999         0         0         0               0               0   \n",
              "\n",
              "      Area Code_A510  Inter Plan_no  Inter Plan_yes  VoiceMail Plan_no  \\\n",
              "0                  1              1               0                  1   \n",
              "1                  0              1               0                  1   \n",
              "2                  1              1               0                  0   \n",
              "3                  1              1               0                  1   \n",
              "4                  0              1               0                  1   \n",
              "...              ...            ...             ...                ...   \n",
              "3995               0              1               0                  1   \n",
              "3996               0              0               0                  1   \n",
              "3997               0              1               0                  1   \n",
              "3998               0              0               0                  1   \n",
              "3999               0              1               0                  1   \n",
              "\n",
              "      VoiceMail Plan_yes  \n",
              "0                      0  \n",
              "1                      0  \n",
              "2                      1  \n",
              "3                      0  \n",
              "4                      0  \n",
              "...                  ...  \n",
              "3995                   0  \n",
              "3996                   0  \n",
              "3997                   0  \n",
              "3998                   0  \n",
              "3999                   0  \n",
              "\n",
              "[4000 rows x 73 columns]"
            ],
            "text/html": [
              "\n",
              "  <div id=\"df-a81f02c4-af09-41a1-99a3-6039c2aa281b\">\n",
              "    <div class=\"colab-df-container\">\n",
              "      <div>\n",
              "<style scoped>\n",
              "    .dataframe tbody tr th:only-of-type {\n",
              "        vertical-align: middle;\n",
              "    }\n",
              "\n",
              "    .dataframe tbody tr th {\n",
              "        vertical-align: top;\n",
              "    }\n",
              "\n",
              "    .dataframe thead th {\n",
              "        text-align: right;\n",
              "    }\n",
              "</style>\n",
              "<table border=\"1\" class=\"dataframe\">\n",
              "  <thead>\n",
              "    <tr style=\"text-align: right;\">\n",
              "      <th></th>\n",
              "      <th>Account Length</th>\n",
              "      <th>No of Vmail Mesgs</th>\n",
              "      <th>Total Day Min</th>\n",
              "      <th>Total Day calls</th>\n",
              "      <th>Total Day Charge</th>\n",
              "      <th>Total Evening Min</th>\n",
              "      <th>Total Evening Calls</th>\n",
              "      <th>Total Evening Charge</th>\n",
              "      <th>Total Night Minutes</th>\n",
              "      <th>Total Night Calls</th>\n",
              "      <th>...</th>\n",
              "      <th>State_WI</th>\n",
              "      <th>State_WV</th>\n",
              "      <th>State_WY</th>\n",
              "      <th>Area Code_A408</th>\n",
              "      <th>Area Code_A415</th>\n",
              "      <th>Area Code_A510</th>\n",
              "      <th>Inter Plan_no</th>\n",
              "      <th>Inter Plan_yes</th>\n",
              "      <th>VoiceMail Plan_no</th>\n",
              "      <th>VoiceMail Plan_yes</th>\n",
              "    </tr>\n",
              "  </thead>\n",
              "  <tbody>\n",
              "    <tr>\n",
              "      <th>0</th>\n",
              "      <td>166.000000</td>\n",
              "      <td>0.0</td>\n",
              "      <td>197.900000</td>\n",
              "      <td>89.000000</td>\n",
              "      <td>33.640000</td>\n",
              "      <td>251.000000</td>\n",
              "      <td>113.000000</td>\n",
              "      <td>21.340000</td>\n",
              "      <td>138.300000</td>\n",
              "      <td>85.000000</td>\n",
              "      <td>...</td>\n",
              "      <td>0</td>\n",
              "      <td>0</td>\n",
              "      <td>0</td>\n",
              "      <td>0</td>\n",
              "      <td>0</td>\n",
              "      <td>1</td>\n",
              "      <td>1</td>\n",
              "      <td>0</td>\n",
              "      <td>1</td>\n",
              "      <td>0</td>\n",
              "    </tr>\n",
              "    <tr>\n",
              "      <th>1</th>\n",
              "      <td>80.000000</td>\n",
              "      <td>0.0</td>\n",
              "      <td>209.900000</td>\n",
              "      <td>74.000000</td>\n",
              "      <td>35.680000</td>\n",
              "      <td>195.100000</td>\n",
              "      <td>77.000000</td>\n",
              "      <td>16.580000</td>\n",
              "      <td>208.200000</td>\n",
              "      <td>119.000000</td>\n",
              "      <td>...</td>\n",
              "      <td>0</td>\n",
              "      <td>0</td>\n",
              "      <td>0</td>\n",
              "      <td>1</td>\n",
              "      <td>0</td>\n",
              "      <td>0</td>\n",
              "      <td>1</td>\n",
              "      <td>0</td>\n",
              "      <td>1</td>\n",
              "      <td>0</td>\n",
              "    </tr>\n",
              "    <tr>\n",
              "      <th>2</th>\n",
              "      <td>91.000000</td>\n",
              "      <td>23.0</td>\n",
              "      <td>232.400000</td>\n",
              "      <td>97.000000</td>\n",
              "      <td>39.510000</td>\n",
              "      <td>186.000000</td>\n",
              "      <td>88.000000</td>\n",
              "      <td>15.810000</td>\n",
              "      <td>190.500000</td>\n",
              "      <td>128.000000</td>\n",
              "      <td>...</td>\n",
              "      <td>0</td>\n",
              "      <td>0</td>\n",
              "      <td>0</td>\n",
              "      <td>0</td>\n",
              "      <td>0</td>\n",
              "      <td>1</td>\n",
              "      <td>1</td>\n",
              "      <td>0</td>\n",
              "      <td>0</td>\n",
              "      <td>1</td>\n",
              "    </tr>\n",
              "    <tr>\n",
              "      <th>3</th>\n",
              "      <td>59.000000</td>\n",
              "      <td>0.0</td>\n",
              "      <td>179.400000</td>\n",
              "      <td>80.000000</td>\n",
              "      <td>30.500000</td>\n",
              "      <td>232.500000</td>\n",
              "      <td>99.000000</td>\n",
              "      <td>19.760000</td>\n",
              "      <td>175.800000</td>\n",
              "      <td>105.000000</td>\n",
              "      <td>...</td>\n",
              "      <td>0</td>\n",
              "      <td>0</td>\n",
              "      <td>0</td>\n",
              "      <td>0</td>\n",
              "      <td>0</td>\n",
              "      <td>1</td>\n",
              "      <td>1</td>\n",
              "      <td>0</td>\n",
              "      <td>1</td>\n",
              "      <td>0</td>\n",
              "    </tr>\n",
              "    <tr>\n",
              "      <th>4</th>\n",
              "      <td>88.000000</td>\n",
              "      <td>0.0</td>\n",
              "      <td>55.600000</td>\n",
              "      <td>65.000000</td>\n",
              "      <td>9.450000</td>\n",
              "      <td>242.700000</td>\n",
              "      <td>121.000000</td>\n",
              "      <td>20.630000</td>\n",
              "      <td>176.300000</td>\n",
              "      <td>134.000000</td>\n",
              "      <td>...</td>\n",
              "      <td>0</td>\n",
              "      <td>0</td>\n",
              "      <td>0</td>\n",
              "      <td>0</td>\n",
              "      <td>1</td>\n",
              "      <td>0</td>\n",
              "      <td>1</td>\n",
              "      <td>0</td>\n",
              "      <td>1</td>\n",
              "      <td>0</td>\n",
              "    </tr>\n",
              "    <tr>\n",
              "      <th>...</th>\n",
              "      <td>...</td>\n",
              "      <td>...</td>\n",
              "      <td>...</td>\n",
              "      <td>...</td>\n",
              "      <td>...</td>\n",
              "      <td>...</td>\n",
              "      <td>...</td>\n",
              "      <td>...</td>\n",
              "      <td>...</td>\n",
              "      <td>...</td>\n",
              "      <td>...</td>\n",
              "      <td>...</td>\n",
              "      <td>...</td>\n",
              "      <td>...</td>\n",
              "      <td>...</td>\n",
              "      <td>...</td>\n",
              "      <td>...</td>\n",
              "      <td>...</td>\n",
              "      <td>...</td>\n",
              "      <td>...</td>\n",
              "      <td>...</td>\n",
              "    </tr>\n",
              "    <tr>\n",
              "      <th>3995</th>\n",
              "      <td>52.641785</td>\n",
              "      <td>0.0</td>\n",
              "      <td>288.045141</td>\n",
              "      <td>74.629858</td>\n",
              "      <td>48.965565</td>\n",
              "      <td>222.825133</td>\n",
              "      <td>110.336130</td>\n",
              "      <td>18.938489</td>\n",
              "      <td>204.498630</td>\n",
              "      <td>106.945671</td>\n",
              "      <td>...</td>\n",
              "      <td>0</td>\n",
              "      <td>0</td>\n",
              "      <td>0</td>\n",
              "      <td>0</td>\n",
              "      <td>0</td>\n",
              "      <td>0</td>\n",
              "      <td>1</td>\n",
              "      <td>0</td>\n",
              "      <td>1</td>\n",
              "      <td>0</td>\n",
              "    </tr>\n",
              "    <tr>\n",
              "      <th>3996</th>\n",
              "      <td>140.693100</td>\n",
              "      <td>0.0</td>\n",
              "      <td>189.859541</td>\n",
              "      <td>105.109607</td>\n",
              "      <td>32.275567</td>\n",
              "      <td>179.147904</td>\n",
              "      <td>101.956157</td>\n",
              "      <td>15.228517</td>\n",
              "      <td>188.948742</td>\n",
              "      <td>128.708254</td>\n",
              "      <td>...</td>\n",
              "      <td>0</td>\n",
              "      <td>0</td>\n",
              "      <td>0</td>\n",
              "      <td>0</td>\n",
              "      <td>0</td>\n",
              "      <td>0</td>\n",
              "      <td>0</td>\n",
              "      <td>0</td>\n",
              "      <td>1</td>\n",
              "      <td>0</td>\n",
              "    </tr>\n",
              "    <tr>\n",
              "      <th>3997</th>\n",
              "      <td>90.365236</td>\n",
              "      <td>0.0</td>\n",
              "      <td>193.119035</td>\n",
              "      <td>65.312983</td>\n",
              "      <td>32.830419</td>\n",
              "      <td>264.779099</td>\n",
              "      <td>79.539056</td>\n",
              "      <td>22.507041</td>\n",
              "      <td>231.714436</td>\n",
              "      <td>117.547854</td>\n",
              "      <td>...</td>\n",
              "      <td>0</td>\n",
              "      <td>0</td>\n",
              "      <td>0</td>\n",
              "      <td>0</td>\n",
              "      <td>1</td>\n",
              "      <td>0</td>\n",
              "      <td>1</td>\n",
              "      <td>0</td>\n",
              "      <td>1</td>\n",
              "      <td>0</td>\n",
              "    </tr>\n",
              "    <tr>\n",
              "      <th>3998</th>\n",
              "      <td>107.435165</td>\n",
              "      <td>0.0</td>\n",
              "      <td>277.021439</td>\n",
              "      <td>119.221379</td>\n",
              "      <td>47.091309</td>\n",
              "      <td>273.552566</td>\n",
              "      <td>100.122077</td>\n",
              "      <td>23.250525</td>\n",
              "      <td>250.451807</td>\n",
              "      <td>91.992408</td>\n",
              "      <td>...</td>\n",
              "      <td>0</td>\n",
              "      <td>0</td>\n",
              "      <td>0</td>\n",
              "      <td>0</td>\n",
              "      <td>0</td>\n",
              "      <td>0</td>\n",
              "      <td>0</td>\n",
              "      <td>0</td>\n",
              "      <td>1</td>\n",
              "      <td>0</td>\n",
              "    </tr>\n",
              "    <tr>\n",
              "      <th>3999</th>\n",
              "      <td>136.630203</td>\n",
              "      <td>0.0</td>\n",
              "      <td>303.206757</td>\n",
              "      <td>90.632817</td>\n",
              "      <td>51.545675</td>\n",
              "      <td>225.098049</td>\n",
              "      <td>113.975266</td>\n",
              "      <td>19.129531</td>\n",
              "      <td>247.733722</td>\n",
              "      <td>98.263020</td>\n",
              "      <td>...</td>\n",
              "      <td>0</td>\n",
              "      <td>0</td>\n",
              "      <td>0</td>\n",
              "      <td>0</td>\n",
              "      <td>0</td>\n",
              "      <td>0</td>\n",
              "      <td>1</td>\n",
              "      <td>0</td>\n",
              "      <td>1</td>\n",
              "      <td>0</td>\n",
              "    </tr>\n",
              "  </tbody>\n",
              "</table>\n",
              "<p>4000 rows × 73 columns</p>\n",
              "</div>\n",
              "      <button class=\"colab-df-convert\" onclick=\"convertToInteractive('df-a81f02c4-af09-41a1-99a3-6039c2aa281b')\"\n",
              "              title=\"Convert this dataframe to an interactive table.\"\n",
              "              style=\"display:none;\">\n",
              "        \n",
              "  <svg xmlns=\"http://www.w3.org/2000/svg\" height=\"24px\"viewBox=\"0 0 24 24\"\n",
              "       width=\"24px\">\n",
              "    <path d=\"M0 0h24v24H0V0z\" fill=\"none\"/>\n",
              "    <path d=\"M18.56 5.44l.94 2.06.94-2.06 2.06-.94-2.06-.94-.94-2.06-.94 2.06-2.06.94zm-11 1L8.5 8.5l.94-2.06 2.06-.94-2.06-.94L8.5 2.5l-.94 2.06-2.06.94zm10 10l.94 2.06.94-2.06 2.06-.94-2.06-.94-.94-2.06-.94 2.06-2.06.94z\"/><path d=\"M17.41 7.96l-1.37-1.37c-.4-.4-.92-.59-1.43-.59-.52 0-1.04.2-1.43.59L10.3 9.45l-7.72 7.72c-.78.78-.78 2.05 0 2.83L4 21.41c.39.39.9.59 1.41.59.51 0 1.02-.2 1.41-.59l7.78-7.78 2.81-2.81c.8-.78.8-2.07 0-2.86zM5.41 20L4 18.59l7.72-7.72 1.47 1.35L5.41 20z\"/>\n",
              "  </svg>\n",
              "      </button>\n",
              "      \n",
              "  <style>\n",
              "    .colab-df-container {\n",
              "      display:flex;\n",
              "      flex-wrap:wrap;\n",
              "      gap: 12px;\n",
              "    }\n",
              "\n",
              "    .colab-df-convert {\n",
              "      background-color: #E8F0FE;\n",
              "      border: none;\n",
              "      border-radius: 50%;\n",
              "      cursor: pointer;\n",
              "      display: none;\n",
              "      fill: #1967D2;\n",
              "      height: 32px;\n",
              "      padding: 0 0 0 0;\n",
              "      width: 32px;\n",
              "    }\n",
              "\n",
              "    .colab-df-convert:hover {\n",
              "      background-color: #E2EBFA;\n",
              "      box-shadow: 0px 1px 2px rgba(60, 64, 67, 0.3), 0px 1px 3px 1px rgba(60, 64, 67, 0.15);\n",
              "      fill: #174EA6;\n",
              "    }\n",
              "\n",
              "    [theme=dark] .colab-df-convert {\n",
              "      background-color: #3B4455;\n",
              "      fill: #D2E3FC;\n",
              "    }\n",
              "\n",
              "    [theme=dark] .colab-df-convert:hover {\n",
              "      background-color: #434B5C;\n",
              "      box-shadow: 0px 1px 3px 1px rgba(0, 0, 0, 0.15);\n",
              "      filter: drop-shadow(0px 1px 2px rgba(0, 0, 0, 0.3));\n",
              "      fill: #FFFFFF;\n",
              "    }\n",
              "  </style>\n",
              "\n",
              "      <script>\n",
              "        const buttonEl =\n",
              "          document.querySelector('#df-a81f02c4-af09-41a1-99a3-6039c2aa281b button.colab-df-convert');\n",
              "        buttonEl.style.display =\n",
              "          google.colab.kernel.accessAllowed ? 'block' : 'none';\n",
              "\n",
              "        async function convertToInteractive(key) {\n",
              "          const element = document.querySelector('#df-a81f02c4-af09-41a1-99a3-6039c2aa281b');\n",
              "          const dataTable =\n",
              "            await google.colab.kernel.invokeFunction('convertToInteractive',\n",
              "                                                     [key], {});\n",
              "          if (!dataTable) return;\n",
              "\n",
              "          const docLinkHtml = 'Like what you see? Visit the ' +\n",
              "            '<a target=\"_blank\" href=https://colab.research.google.com/notebooks/data_table.ipynb>data table notebook</a>'\n",
              "            + ' to learn more about interactive tables.';\n",
              "          element.innerHTML = '';\n",
              "          dataTable['output_type'] = 'display_data';\n",
              "          await google.colab.output.renderOutput(dataTable, element);\n",
              "          const docLink = document.createElement('div');\n",
              "          docLink.innerHTML = docLinkHtml;\n",
              "          element.appendChild(docLink);\n",
              "        }\n",
              "      </script>\n",
              "    </div>\n",
              "  </div>\n",
              "  "
            ]
          },
          "metadata": {},
          "execution_count": 44
        }
      ]
    },
    {
      "cell_type": "code",
      "source": [
        "X_resampled.info()"
      ],
      "metadata": {
        "colab": {
          "base_uri": "https://localhost:8080/"
        },
        "id": "2d4RaHHKxxVN",
        "outputId": "e5b661d1-8726-4d14-f717-7506cf8260fd"
      },
      "execution_count": 45,
      "outputs": [
        {
          "output_type": "stream",
          "name": "stdout",
          "text": [
            "<class 'pandas.core.frame.DataFrame'>\n",
            "RangeIndex: 4000 entries, 0 to 3999\n",
            "Data columns (total 73 columns):\n",
            " #   Column                        Non-Null Count  Dtype  \n",
            "---  ------                        --------------  -----  \n",
            " 0   Account Length                4000 non-null   float64\n",
            " 1   No of Vmail Mesgs             4000 non-null   float64\n",
            " 2   Total Day Min                 4000 non-null   float64\n",
            " 3   Total Day calls               4000 non-null   float64\n",
            " 4   Total Day Charge              4000 non-null   float64\n",
            " 5   Total Evening Min             4000 non-null   float64\n",
            " 6   Total Evening Calls           4000 non-null   float64\n",
            " 7   Total Evening Charge          4000 non-null   float64\n",
            " 8   Total Night Minutes           4000 non-null   float64\n",
            " 9   Total Night Calls             4000 non-null   float64\n",
            " 10  Total Night Charge            4000 non-null   float64\n",
            " 11  Total Int Min                 4000 non-null   float64\n",
            " 12  Total Int Calls               4000 non-null   float64\n",
            " 13  Total Int Charge              4000 non-null   float64\n",
            " 14  No of Calls Customer Service  4000 non-null   float64\n",
            " 15  State_AK                      4000 non-null   uint8  \n",
            " 16  State_AL                      4000 non-null   uint8  \n",
            " 17  State_AR                      4000 non-null   uint8  \n",
            " 18  State_AZ                      4000 non-null   uint8  \n",
            " 19  State_CA                      4000 non-null   uint8  \n",
            " 20  State_CO                      4000 non-null   uint8  \n",
            " 21  State_CT                      4000 non-null   uint8  \n",
            " 22  State_DC                      4000 non-null   uint8  \n",
            " 23  State_DE                      4000 non-null   uint8  \n",
            " 24  State_FL                      4000 non-null   uint8  \n",
            " 25  State_GA                      4000 non-null   uint8  \n",
            " 26  State_HI                      4000 non-null   uint8  \n",
            " 27  State_IA                      4000 non-null   uint8  \n",
            " 28  State_ID                      4000 non-null   uint8  \n",
            " 29  State_IL                      4000 non-null   uint8  \n",
            " 30  State_IN                      4000 non-null   uint8  \n",
            " 31  State_KS                      4000 non-null   uint8  \n",
            " 32  State_KY                      4000 non-null   uint8  \n",
            " 33  State_LA                      4000 non-null   uint8  \n",
            " 34  State_MA                      4000 non-null   uint8  \n",
            " 35  State_MD                      4000 non-null   uint8  \n",
            " 36  State_ME                      4000 non-null   uint8  \n",
            " 37  State_MI                      4000 non-null   uint8  \n",
            " 38  State_MN                      4000 non-null   uint8  \n",
            " 39  State_MO                      4000 non-null   uint8  \n",
            " 40  State_MS                      4000 non-null   uint8  \n",
            " 41  State_MT                      4000 non-null   uint8  \n",
            " 42  State_NC                      4000 non-null   uint8  \n",
            " 43  State_ND                      4000 non-null   uint8  \n",
            " 44  State_NE                      4000 non-null   uint8  \n",
            " 45  State_NH                      4000 non-null   uint8  \n",
            " 46  State_NJ                      4000 non-null   uint8  \n",
            " 47  State_NM                      4000 non-null   uint8  \n",
            " 48  State_NV                      4000 non-null   uint8  \n",
            " 49  State_NY                      4000 non-null   uint8  \n",
            " 50  State_OH                      4000 non-null   uint8  \n",
            " 51  State_OK                      4000 non-null   uint8  \n",
            " 52  State_OR                      4000 non-null   uint8  \n",
            " 53  State_PA                      4000 non-null   uint8  \n",
            " 54  State_RI                      4000 non-null   uint8  \n",
            " 55  State_SC                      4000 non-null   uint8  \n",
            " 56  State_SD                      4000 non-null   uint8  \n",
            " 57  State_TN                      4000 non-null   uint8  \n",
            " 58  State_TX                      4000 non-null   uint8  \n",
            " 59  State_UT                      4000 non-null   uint8  \n",
            " 60  State_VA                      4000 non-null   uint8  \n",
            " 61  State_VT                      4000 non-null   uint8  \n",
            " 62  State_WA                      4000 non-null   uint8  \n",
            " 63  State_WI                      4000 non-null   uint8  \n",
            " 64  State_WV                      4000 non-null   uint8  \n",
            " 65  State_WY                      4000 non-null   uint8  \n",
            " 66  Area Code_A408                4000 non-null   uint8  \n",
            " 67  Area Code_A415                4000 non-null   uint8  \n",
            " 68  Area Code_A510                4000 non-null   uint8  \n",
            " 69  Inter Plan_no                 4000 non-null   uint8  \n",
            " 70  Inter Plan_yes                4000 non-null   uint8  \n",
            " 71  VoiceMail Plan_no             4000 non-null   uint8  \n",
            " 72  VoiceMail Plan_yes            4000 non-null   uint8  \n",
            "dtypes: float64(15), uint8(58)\n",
            "memory usage: 695.4 KB\n"
          ]
        }
      ]
    },
    {
      "cell_type": "code",
      "source": [
        "# View again y_resampled, will not be affected by using only selected columns in the X_resampled training test\n",
        "y_resampled"
      ],
      "metadata": {
        "colab": {
          "base_uri": "https://localhost:8080/"
        },
        "id": "vMI1Y1gBwgQG",
        "outputId": "79b0c798-a881-4ac6-ee0d-3634e467e85f"
      },
      "execution_count": 46,
      "outputs": [
        {
          "output_type": "execute_result",
          "data": {
            "text/plain": [
              "0       FALSE\n",
              "1       FALSE\n",
              "2       FALSE\n",
              "3       FALSE\n",
              "4       FALSE\n",
              "        ...  \n",
              "3995     TRUE\n",
              "3996     TRUE\n",
              "3997     TRUE\n",
              "3998     TRUE\n",
              "3999     TRUE\n",
              "Name: Churn, Length: 4000, dtype: object"
            ]
          },
          "metadata": {},
          "execution_count": 46
        }
      ]
    },
    {
      "cell_type": "code",
      "source": [
        "# Highly correlated features (8 columns) to be excluded\n",
        "highly_cor_feature_names=[\"Total Day Min\", \"Total Day Charge\", \"Total Evening Min\", \"Total Evening Charge\", \"Total Night Minutes\", \"Total Night Charge\", \"Total Int Min\", \"Total Int Charge\"]\n",
        "\n",
        "# Retrain the X_resampled training set to include only the selected features, exclude the highly correlated features\n",
        "X_resampled_new = X_resampled[X_resampled.columns.difference(highly_cor_feature_names)]\n",
        "\n",
        "# Print the X_resampled dataset again\n",
        "X_resampled_new"
      ],
      "metadata": {
        "colab": {
          "base_uri": "https://localhost:8080/",
          "height": 502
        },
        "id": "8FGBb3A8wywN",
        "outputId": "1475f20b-c656-479d-dc6c-50c632ce4526"
      },
      "execution_count": 47,
      "outputs": [
        {
          "output_type": "execute_result",
          "data": {
            "text/plain": [
              "      Account Length  Area Code_A408  Area Code_A415  Area Code_A510  \\\n",
              "0         166.000000               0               0               1   \n",
              "1          80.000000               1               0               0   \n",
              "2          91.000000               0               0               1   \n",
              "3          59.000000               0               0               1   \n",
              "4          88.000000               0               1               0   \n",
              "...              ...             ...             ...             ...   \n",
              "3995       52.641785               0               0               0   \n",
              "3996      140.693100               0               0               0   \n",
              "3997       90.365236               0               1               0   \n",
              "3998      107.435165               0               0               0   \n",
              "3999      136.630203               0               0               0   \n",
              "\n",
              "      Inter Plan_no  Inter Plan_yes  No of Calls Customer Service  \\\n",
              "0                 1               0                      2.000000   \n",
              "1                 1               0                      2.000000   \n",
              "2                 1               0                      3.000000   \n",
              "3                 1               0                      0.000000   \n",
              "4                 1               0                      0.000000   \n",
              "...             ...             ...                           ...   \n",
              "3995              1               0                      1.054329   \n",
              "3996              0               0                      0.510961   \n",
              "3997              1               0                      2.204346   \n",
              "3998              0               0                      0.778621   \n",
              "3999              1               0                      0.131510   \n",
              "\n",
              "      No of Vmail Mesgs  State_AK  State_AL  ...  State_WA  State_WI  \\\n",
              "0                   0.0         0         0  ...         0         0   \n",
              "1                   0.0         0         0  ...         0         0   \n",
              "2                  23.0         0         1  ...         0         0   \n",
              "3                   0.0         0         0  ...         0         0   \n",
              "4                   0.0         0         0  ...         0         0   \n",
              "...                 ...       ...       ...  ...       ...       ...   \n",
              "3995                0.0         0         0  ...         0         0   \n",
              "3996                0.0         0         0  ...         0         0   \n",
              "3997                0.0         0         0  ...         0         0   \n",
              "3998                0.0         0         0  ...         0         0   \n",
              "3999                0.0         0         0  ...         0         0   \n",
              "\n",
              "      State_WV  State_WY  Total Day calls  Total Evening Calls  \\\n",
              "0            0         0        89.000000           113.000000   \n",
              "1            0         0        74.000000            77.000000   \n",
              "2            0         0        97.000000            88.000000   \n",
              "3            0         0        80.000000            99.000000   \n",
              "4            0         0        65.000000           121.000000   \n",
              "...        ...       ...              ...                  ...   \n",
              "3995         0         0        74.629858           110.336130   \n",
              "3996         0         0       105.109607           101.956157   \n",
              "3997         0         0        65.312983            79.539056   \n",
              "3998         0         0       119.221379           100.122077   \n",
              "3999         0         0        90.632817           113.975266   \n",
              "\n",
              "      Total Int Calls  Total Night Calls  VoiceMail Plan_no  \\\n",
              "0            2.000000          85.000000                  1   \n",
              "1            4.000000         119.000000                  1   \n",
              "2            3.000000         128.000000                  0   \n",
              "3            3.000000         105.000000                  1   \n",
              "4            4.000000         134.000000                  1   \n",
              "...               ...                ...                ...   \n",
              "3995         4.945671         106.945671                  1   \n",
              "3996         2.978079         128.708254                  1   \n",
              "3997         5.386963         117.547854                  1   \n",
              "3998         6.335864          91.992408                  1   \n",
              "3999         9.868490          98.263020                  1   \n",
              "\n",
              "      VoiceMail Plan_yes  \n",
              "0                      0  \n",
              "1                      0  \n",
              "2                      1  \n",
              "3                      0  \n",
              "4                      0  \n",
              "...                  ...  \n",
              "3995                   0  \n",
              "3996                   0  \n",
              "3997                   0  \n",
              "3998                   0  \n",
              "3999                   0  \n",
              "\n",
              "[4000 rows x 65 columns]"
            ],
            "text/html": [
              "\n",
              "  <div id=\"df-0d865c9b-7c45-4ecd-9447-c69a5ee3cbbd\">\n",
              "    <div class=\"colab-df-container\">\n",
              "      <div>\n",
              "<style scoped>\n",
              "    .dataframe tbody tr th:only-of-type {\n",
              "        vertical-align: middle;\n",
              "    }\n",
              "\n",
              "    .dataframe tbody tr th {\n",
              "        vertical-align: top;\n",
              "    }\n",
              "\n",
              "    .dataframe thead th {\n",
              "        text-align: right;\n",
              "    }\n",
              "</style>\n",
              "<table border=\"1\" class=\"dataframe\">\n",
              "  <thead>\n",
              "    <tr style=\"text-align: right;\">\n",
              "      <th></th>\n",
              "      <th>Account Length</th>\n",
              "      <th>Area Code_A408</th>\n",
              "      <th>Area Code_A415</th>\n",
              "      <th>Area Code_A510</th>\n",
              "      <th>Inter Plan_no</th>\n",
              "      <th>Inter Plan_yes</th>\n",
              "      <th>No of Calls Customer Service</th>\n",
              "      <th>No of Vmail Mesgs</th>\n",
              "      <th>State_AK</th>\n",
              "      <th>State_AL</th>\n",
              "      <th>...</th>\n",
              "      <th>State_WA</th>\n",
              "      <th>State_WI</th>\n",
              "      <th>State_WV</th>\n",
              "      <th>State_WY</th>\n",
              "      <th>Total Day calls</th>\n",
              "      <th>Total Evening Calls</th>\n",
              "      <th>Total Int Calls</th>\n",
              "      <th>Total Night Calls</th>\n",
              "      <th>VoiceMail Plan_no</th>\n",
              "      <th>VoiceMail Plan_yes</th>\n",
              "    </tr>\n",
              "  </thead>\n",
              "  <tbody>\n",
              "    <tr>\n",
              "      <th>0</th>\n",
              "      <td>166.000000</td>\n",
              "      <td>0</td>\n",
              "      <td>0</td>\n",
              "      <td>1</td>\n",
              "      <td>1</td>\n",
              "      <td>0</td>\n",
              "      <td>2.000000</td>\n",
              "      <td>0.0</td>\n",
              "      <td>0</td>\n",
              "      <td>0</td>\n",
              "      <td>...</td>\n",
              "      <td>0</td>\n",
              "      <td>0</td>\n",
              "      <td>0</td>\n",
              "      <td>0</td>\n",
              "      <td>89.000000</td>\n",
              "      <td>113.000000</td>\n",
              "      <td>2.000000</td>\n",
              "      <td>85.000000</td>\n",
              "      <td>1</td>\n",
              "      <td>0</td>\n",
              "    </tr>\n",
              "    <tr>\n",
              "      <th>1</th>\n",
              "      <td>80.000000</td>\n",
              "      <td>1</td>\n",
              "      <td>0</td>\n",
              "      <td>0</td>\n",
              "      <td>1</td>\n",
              "      <td>0</td>\n",
              "      <td>2.000000</td>\n",
              "      <td>0.0</td>\n",
              "      <td>0</td>\n",
              "      <td>0</td>\n",
              "      <td>...</td>\n",
              "      <td>0</td>\n",
              "      <td>0</td>\n",
              "      <td>0</td>\n",
              "      <td>0</td>\n",
              "      <td>74.000000</td>\n",
              "      <td>77.000000</td>\n",
              "      <td>4.000000</td>\n",
              "      <td>119.000000</td>\n",
              "      <td>1</td>\n",
              "      <td>0</td>\n",
              "    </tr>\n",
              "    <tr>\n",
              "      <th>2</th>\n",
              "      <td>91.000000</td>\n",
              "      <td>0</td>\n",
              "      <td>0</td>\n",
              "      <td>1</td>\n",
              "      <td>1</td>\n",
              "      <td>0</td>\n",
              "      <td>3.000000</td>\n",
              "      <td>23.0</td>\n",
              "      <td>0</td>\n",
              "      <td>1</td>\n",
              "      <td>...</td>\n",
              "      <td>0</td>\n",
              "      <td>0</td>\n",
              "      <td>0</td>\n",
              "      <td>0</td>\n",
              "      <td>97.000000</td>\n",
              "      <td>88.000000</td>\n",
              "      <td>3.000000</td>\n",
              "      <td>128.000000</td>\n",
              "      <td>0</td>\n",
              "      <td>1</td>\n",
              "    </tr>\n",
              "    <tr>\n",
              "      <th>3</th>\n",
              "      <td>59.000000</td>\n",
              "      <td>0</td>\n",
              "      <td>0</td>\n",
              "      <td>1</td>\n",
              "      <td>1</td>\n",
              "      <td>0</td>\n",
              "      <td>0.000000</td>\n",
              "      <td>0.0</td>\n",
              "      <td>0</td>\n",
              "      <td>0</td>\n",
              "      <td>...</td>\n",
              "      <td>0</td>\n",
              "      <td>0</td>\n",
              "      <td>0</td>\n",
              "      <td>0</td>\n",
              "      <td>80.000000</td>\n",
              "      <td>99.000000</td>\n",
              "      <td>3.000000</td>\n",
              "      <td>105.000000</td>\n",
              "      <td>1</td>\n",
              "      <td>0</td>\n",
              "    </tr>\n",
              "    <tr>\n",
              "      <th>4</th>\n",
              "      <td>88.000000</td>\n",
              "      <td>0</td>\n",
              "      <td>1</td>\n",
              "      <td>0</td>\n",
              "      <td>1</td>\n",
              "      <td>0</td>\n",
              "      <td>0.000000</td>\n",
              "      <td>0.0</td>\n",
              "      <td>0</td>\n",
              "      <td>0</td>\n",
              "      <td>...</td>\n",
              "      <td>0</td>\n",
              "      <td>0</td>\n",
              "      <td>0</td>\n",
              "      <td>0</td>\n",
              "      <td>65.000000</td>\n",
              "      <td>121.000000</td>\n",
              "      <td>4.000000</td>\n",
              "      <td>134.000000</td>\n",
              "      <td>1</td>\n",
              "      <td>0</td>\n",
              "    </tr>\n",
              "    <tr>\n",
              "      <th>...</th>\n",
              "      <td>...</td>\n",
              "      <td>...</td>\n",
              "      <td>...</td>\n",
              "      <td>...</td>\n",
              "      <td>...</td>\n",
              "      <td>...</td>\n",
              "      <td>...</td>\n",
              "      <td>...</td>\n",
              "      <td>...</td>\n",
              "      <td>...</td>\n",
              "      <td>...</td>\n",
              "      <td>...</td>\n",
              "      <td>...</td>\n",
              "      <td>...</td>\n",
              "      <td>...</td>\n",
              "      <td>...</td>\n",
              "      <td>...</td>\n",
              "      <td>...</td>\n",
              "      <td>...</td>\n",
              "      <td>...</td>\n",
              "      <td>...</td>\n",
              "    </tr>\n",
              "    <tr>\n",
              "      <th>3995</th>\n",
              "      <td>52.641785</td>\n",
              "      <td>0</td>\n",
              "      <td>0</td>\n",
              "      <td>0</td>\n",
              "      <td>1</td>\n",
              "      <td>0</td>\n",
              "      <td>1.054329</td>\n",
              "      <td>0.0</td>\n",
              "      <td>0</td>\n",
              "      <td>0</td>\n",
              "      <td>...</td>\n",
              "      <td>0</td>\n",
              "      <td>0</td>\n",
              "      <td>0</td>\n",
              "      <td>0</td>\n",
              "      <td>74.629858</td>\n",
              "      <td>110.336130</td>\n",
              "      <td>4.945671</td>\n",
              "      <td>106.945671</td>\n",
              "      <td>1</td>\n",
              "      <td>0</td>\n",
              "    </tr>\n",
              "    <tr>\n",
              "      <th>3996</th>\n",
              "      <td>140.693100</td>\n",
              "      <td>0</td>\n",
              "      <td>0</td>\n",
              "      <td>0</td>\n",
              "      <td>0</td>\n",
              "      <td>0</td>\n",
              "      <td>0.510961</td>\n",
              "      <td>0.0</td>\n",
              "      <td>0</td>\n",
              "      <td>0</td>\n",
              "      <td>...</td>\n",
              "      <td>0</td>\n",
              "      <td>0</td>\n",
              "      <td>0</td>\n",
              "      <td>0</td>\n",
              "      <td>105.109607</td>\n",
              "      <td>101.956157</td>\n",
              "      <td>2.978079</td>\n",
              "      <td>128.708254</td>\n",
              "      <td>1</td>\n",
              "      <td>0</td>\n",
              "    </tr>\n",
              "    <tr>\n",
              "      <th>3997</th>\n",
              "      <td>90.365236</td>\n",
              "      <td>0</td>\n",
              "      <td>1</td>\n",
              "      <td>0</td>\n",
              "      <td>1</td>\n",
              "      <td>0</td>\n",
              "      <td>2.204346</td>\n",
              "      <td>0.0</td>\n",
              "      <td>0</td>\n",
              "      <td>0</td>\n",
              "      <td>...</td>\n",
              "      <td>0</td>\n",
              "      <td>0</td>\n",
              "      <td>0</td>\n",
              "      <td>0</td>\n",
              "      <td>65.312983</td>\n",
              "      <td>79.539056</td>\n",
              "      <td>5.386963</td>\n",
              "      <td>117.547854</td>\n",
              "      <td>1</td>\n",
              "      <td>0</td>\n",
              "    </tr>\n",
              "    <tr>\n",
              "      <th>3998</th>\n",
              "      <td>107.435165</td>\n",
              "      <td>0</td>\n",
              "      <td>0</td>\n",
              "      <td>0</td>\n",
              "      <td>0</td>\n",
              "      <td>0</td>\n",
              "      <td>0.778621</td>\n",
              "      <td>0.0</td>\n",
              "      <td>0</td>\n",
              "      <td>0</td>\n",
              "      <td>...</td>\n",
              "      <td>0</td>\n",
              "      <td>0</td>\n",
              "      <td>0</td>\n",
              "      <td>0</td>\n",
              "      <td>119.221379</td>\n",
              "      <td>100.122077</td>\n",
              "      <td>6.335864</td>\n",
              "      <td>91.992408</td>\n",
              "      <td>1</td>\n",
              "      <td>0</td>\n",
              "    </tr>\n",
              "    <tr>\n",
              "      <th>3999</th>\n",
              "      <td>136.630203</td>\n",
              "      <td>0</td>\n",
              "      <td>0</td>\n",
              "      <td>0</td>\n",
              "      <td>1</td>\n",
              "      <td>0</td>\n",
              "      <td>0.131510</td>\n",
              "      <td>0.0</td>\n",
              "      <td>0</td>\n",
              "      <td>0</td>\n",
              "      <td>...</td>\n",
              "      <td>0</td>\n",
              "      <td>0</td>\n",
              "      <td>0</td>\n",
              "      <td>0</td>\n",
              "      <td>90.632817</td>\n",
              "      <td>113.975266</td>\n",
              "      <td>9.868490</td>\n",
              "      <td>98.263020</td>\n",
              "      <td>1</td>\n",
              "      <td>0</td>\n",
              "    </tr>\n",
              "  </tbody>\n",
              "</table>\n",
              "<p>4000 rows × 65 columns</p>\n",
              "</div>\n",
              "      <button class=\"colab-df-convert\" onclick=\"convertToInteractive('df-0d865c9b-7c45-4ecd-9447-c69a5ee3cbbd')\"\n",
              "              title=\"Convert this dataframe to an interactive table.\"\n",
              "              style=\"display:none;\">\n",
              "        \n",
              "  <svg xmlns=\"http://www.w3.org/2000/svg\" height=\"24px\"viewBox=\"0 0 24 24\"\n",
              "       width=\"24px\">\n",
              "    <path d=\"M0 0h24v24H0V0z\" fill=\"none\"/>\n",
              "    <path d=\"M18.56 5.44l.94 2.06.94-2.06 2.06-.94-2.06-.94-.94-2.06-.94 2.06-2.06.94zm-11 1L8.5 8.5l.94-2.06 2.06-.94-2.06-.94L8.5 2.5l-.94 2.06-2.06.94zm10 10l.94 2.06.94-2.06 2.06-.94-2.06-.94-.94-2.06-.94 2.06-2.06.94z\"/><path d=\"M17.41 7.96l-1.37-1.37c-.4-.4-.92-.59-1.43-.59-.52 0-1.04.2-1.43.59L10.3 9.45l-7.72 7.72c-.78.78-.78 2.05 0 2.83L4 21.41c.39.39.9.59 1.41.59.51 0 1.02-.2 1.41-.59l7.78-7.78 2.81-2.81c.8-.78.8-2.07 0-2.86zM5.41 20L4 18.59l7.72-7.72 1.47 1.35L5.41 20z\"/>\n",
              "  </svg>\n",
              "      </button>\n",
              "      \n",
              "  <style>\n",
              "    .colab-df-container {\n",
              "      display:flex;\n",
              "      flex-wrap:wrap;\n",
              "      gap: 12px;\n",
              "    }\n",
              "\n",
              "    .colab-df-convert {\n",
              "      background-color: #E8F0FE;\n",
              "      border: none;\n",
              "      border-radius: 50%;\n",
              "      cursor: pointer;\n",
              "      display: none;\n",
              "      fill: #1967D2;\n",
              "      height: 32px;\n",
              "      padding: 0 0 0 0;\n",
              "      width: 32px;\n",
              "    }\n",
              "\n",
              "    .colab-df-convert:hover {\n",
              "      background-color: #E2EBFA;\n",
              "      box-shadow: 0px 1px 2px rgba(60, 64, 67, 0.3), 0px 1px 3px 1px rgba(60, 64, 67, 0.15);\n",
              "      fill: #174EA6;\n",
              "    }\n",
              "\n",
              "    [theme=dark] .colab-df-convert {\n",
              "      background-color: #3B4455;\n",
              "      fill: #D2E3FC;\n",
              "    }\n",
              "\n",
              "    [theme=dark] .colab-df-convert:hover {\n",
              "      background-color: #434B5C;\n",
              "      box-shadow: 0px 1px 3px 1px rgba(0, 0, 0, 0.15);\n",
              "      filter: drop-shadow(0px 1px 2px rgba(0, 0, 0, 0.3));\n",
              "      fill: #FFFFFF;\n",
              "    }\n",
              "  </style>\n",
              "\n",
              "      <script>\n",
              "        const buttonEl =\n",
              "          document.querySelector('#df-0d865c9b-7c45-4ecd-9447-c69a5ee3cbbd button.colab-df-convert');\n",
              "        buttonEl.style.display =\n",
              "          google.colab.kernel.accessAllowed ? 'block' : 'none';\n",
              "\n",
              "        async function convertToInteractive(key) {\n",
              "          const element = document.querySelector('#df-0d865c9b-7c45-4ecd-9447-c69a5ee3cbbd');\n",
              "          const dataTable =\n",
              "            await google.colab.kernel.invokeFunction('convertToInteractive',\n",
              "                                                     [key], {});\n",
              "          if (!dataTable) return;\n",
              "\n",
              "          const docLinkHtml = 'Like what you see? Visit the ' +\n",
              "            '<a target=\"_blank\" href=https://colab.research.google.com/notebooks/data_table.ipynb>data table notebook</a>'\n",
              "            + ' to learn more about interactive tables.';\n",
              "          element.innerHTML = '';\n",
              "          dataTable['output_type'] = 'display_data';\n",
              "          await google.colab.output.renderOutput(dataTable, element);\n",
              "          const docLink = document.createElement('div');\n",
              "          docLink.innerHTML = docLinkHtml;\n",
              "          element.appendChild(docLink);\n",
              "        }\n",
              "      </script>\n",
              "    </div>\n",
              "  </div>\n",
              "  "
            ]
          },
          "metadata": {},
          "execution_count": 47
        }
      ]
    },
    {
      "cell_type": "code",
      "source": [
        "X_resampled_new.info()"
      ],
      "metadata": {
        "colab": {
          "base_uri": "https://localhost:8080/"
        },
        "id": "4m0IcgVR1L26",
        "outputId": "dfcb3389-e31a-4e87-a95d-882866bb90b9"
      },
      "execution_count": 48,
      "outputs": [
        {
          "output_type": "stream",
          "name": "stdout",
          "text": [
            "<class 'pandas.core.frame.DataFrame'>\n",
            "RangeIndex: 4000 entries, 0 to 3999\n",
            "Data columns (total 65 columns):\n",
            " #   Column                        Non-Null Count  Dtype  \n",
            "---  ------                        --------------  -----  \n",
            " 0   Account Length                4000 non-null   float64\n",
            " 1   Area Code_A408                4000 non-null   uint8  \n",
            " 2   Area Code_A415                4000 non-null   uint8  \n",
            " 3   Area Code_A510                4000 non-null   uint8  \n",
            " 4   Inter Plan_no                 4000 non-null   uint8  \n",
            " 5   Inter Plan_yes                4000 non-null   uint8  \n",
            " 6   No of Calls Customer Service  4000 non-null   float64\n",
            " 7   No of Vmail Mesgs             4000 non-null   float64\n",
            " 8   State_AK                      4000 non-null   uint8  \n",
            " 9   State_AL                      4000 non-null   uint8  \n",
            " 10  State_AR                      4000 non-null   uint8  \n",
            " 11  State_AZ                      4000 non-null   uint8  \n",
            " 12  State_CA                      4000 non-null   uint8  \n",
            " 13  State_CO                      4000 non-null   uint8  \n",
            " 14  State_CT                      4000 non-null   uint8  \n",
            " 15  State_DC                      4000 non-null   uint8  \n",
            " 16  State_DE                      4000 non-null   uint8  \n",
            " 17  State_FL                      4000 non-null   uint8  \n",
            " 18  State_GA                      4000 non-null   uint8  \n",
            " 19  State_HI                      4000 non-null   uint8  \n",
            " 20  State_IA                      4000 non-null   uint8  \n",
            " 21  State_ID                      4000 non-null   uint8  \n",
            " 22  State_IL                      4000 non-null   uint8  \n",
            " 23  State_IN                      4000 non-null   uint8  \n",
            " 24  State_KS                      4000 non-null   uint8  \n",
            " 25  State_KY                      4000 non-null   uint8  \n",
            " 26  State_LA                      4000 non-null   uint8  \n",
            " 27  State_MA                      4000 non-null   uint8  \n",
            " 28  State_MD                      4000 non-null   uint8  \n",
            " 29  State_ME                      4000 non-null   uint8  \n",
            " 30  State_MI                      4000 non-null   uint8  \n",
            " 31  State_MN                      4000 non-null   uint8  \n",
            " 32  State_MO                      4000 non-null   uint8  \n",
            " 33  State_MS                      4000 non-null   uint8  \n",
            " 34  State_MT                      4000 non-null   uint8  \n",
            " 35  State_NC                      4000 non-null   uint8  \n",
            " 36  State_ND                      4000 non-null   uint8  \n",
            " 37  State_NE                      4000 non-null   uint8  \n",
            " 38  State_NH                      4000 non-null   uint8  \n",
            " 39  State_NJ                      4000 non-null   uint8  \n",
            " 40  State_NM                      4000 non-null   uint8  \n",
            " 41  State_NV                      4000 non-null   uint8  \n",
            " 42  State_NY                      4000 non-null   uint8  \n",
            " 43  State_OH                      4000 non-null   uint8  \n",
            " 44  State_OK                      4000 non-null   uint8  \n",
            " 45  State_OR                      4000 non-null   uint8  \n",
            " 46  State_PA                      4000 non-null   uint8  \n",
            " 47  State_RI                      4000 non-null   uint8  \n",
            " 48  State_SC                      4000 non-null   uint8  \n",
            " 49  State_SD                      4000 non-null   uint8  \n",
            " 50  State_TN                      4000 non-null   uint8  \n",
            " 51  State_TX                      4000 non-null   uint8  \n",
            " 52  State_UT                      4000 non-null   uint8  \n",
            " 53  State_VA                      4000 non-null   uint8  \n",
            " 54  State_VT                      4000 non-null   uint8  \n",
            " 55  State_WA                      4000 non-null   uint8  \n",
            " 56  State_WI                      4000 non-null   uint8  \n",
            " 57  State_WV                      4000 non-null   uint8  \n",
            " 58  State_WY                      4000 non-null   uint8  \n",
            " 59  Total Day calls               4000 non-null   float64\n",
            " 60  Total Evening Calls           4000 non-null   float64\n",
            " 61  Total Int Calls               4000 non-null   float64\n",
            " 62  Total Night Calls             4000 non-null   float64\n",
            " 63  VoiceMail Plan_no             4000 non-null   uint8  \n",
            " 64  VoiceMail Plan_yes            4000 non-null   uint8  \n",
            "dtypes: float64(7), uint8(58)\n",
            "memory usage: 445.4 KB\n"
          ]
        }
      ]
    },
    {
      "cell_type": "code",
      "source": [
        "selected_feature_names = df_onehot[df_onehot.columns.difference(['Churn']+highly_cor_feature_names)].columns\n",
        "selected_feature_names"
      ],
      "metadata": {
        "colab": {
          "base_uri": "https://localhost:8080/"
        },
        "id": "bIwrUF3l2lsu",
        "outputId": "3e89a603-5e9d-492c-82b8-fabbd9033a49"
      },
      "execution_count": 49,
      "outputs": [
        {
          "output_type": "execute_result",
          "data": {
            "text/plain": [
              "Index(['Account Length', 'Area Code_A408', 'Area Code_A415', 'Area Code_A510',\n",
              "       'Inter Plan_no', 'Inter Plan_yes', 'No of Calls Customer Service',\n",
              "       'No of Vmail Mesgs', 'State_AK', 'State_AL', 'State_AR', 'State_AZ',\n",
              "       'State_CA', 'State_CO', 'State_CT', 'State_DC', 'State_DE', 'State_FL',\n",
              "       'State_GA', 'State_HI', 'State_IA', 'State_ID', 'State_IL', 'State_IN',\n",
              "       'State_KS', 'State_KY', 'State_LA', 'State_MA', 'State_MD', 'State_ME',\n",
              "       'State_MI', 'State_MN', 'State_MO', 'State_MS', 'State_MT', 'State_NC',\n",
              "       'State_ND', 'State_NE', 'State_NH', 'State_NJ', 'State_NM', 'State_NV',\n",
              "       'State_NY', 'State_OH', 'State_OK', 'State_OR', 'State_PA', 'State_RI',\n",
              "       'State_SC', 'State_SD', 'State_TN', 'State_TX', 'State_UT', 'State_VA',\n",
              "       'State_VT', 'State_WA', 'State_WI', 'State_WV', 'State_WY',\n",
              "       'Total Day calls', 'Total Evening Calls', 'Total Int Calls',\n",
              "       'Total Night Calls', 'VoiceMail Plan_no', 'VoiceMail Plan_yes'],\n",
              "      dtype='object')"
            ]
          },
          "metadata": {},
          "execution_count": 49
        }
      ]
    },
    {
      "cell_type": "code",
      "source": [
        "# Fitting and predicting the model again with only selected features\n",
        "# Run a decision tree again\n",
        "from sklearn import tree\n",
        "clf = tree.DecisionTreeClassifier(max_depth=5)\n",
        "clf = clf.fit(X_resampled_new, y_resampled)\n",
        "\n",
        "import graphviz\n",
        "\n",
        "#Get unique class values to display on the tree\n",
        "class_values=df_onehot[class_col_name].unique()\n",
        "print (\"class Names\",class_values)\n",
        "\n",
        "dot_data_selected = tree.export_graphviz(clf, out_file=None, \n",
        "                                feature_names=selected_feature_names,  \n",
        "                                class_names=class_values,\n",
        "                                filled=True)\n",
        "\n",
        "# Draw graph\n",
        "fie_ext = 'png'\n",
        "temp_img = 'decision_tree_selected'\n",
        "decision_tree_selected = graphviz.Source(dot_data_selected, format=\"png\")\n",
        "decision_tree_selected.render(temp_img,format=fie_ext, view=False)\n",
        "decision_tree_selected"
      ],
      "metadata": {
        "colab": {
          "base_uri": "https://localhost:8080/",
          "height": 953
        },
        "id": "gt5tNR_Afi0d",
        "outputId": "1429056f-3da1-44bc-a77f-f11d47b495fd"
      },
      "execution_count": 50,
      "outputs": [
        {
          "output_type": "stream",
          "name": "stdout",
          "text": [
            "class Names ['FALSE' 'TRUE']\n"
          ]
        },
        {
          "output_type": "execute_result",
          "data": {
            "text/plain": [
              "<graphviz.files.Source at 0x7f22723e49d0>"
            ],
            "image/svg+xml": "<?xml version=\"1.0\" encoding=\"UTF-8\" standalone=\"no\"?>\n<!DOCTYPE svg PUBLIC \"-//W3C//DTD SVG 1.1//EN\"\n \"http://www.w3.org/Graphics/SVG/1.1/DTD/svg11.dtd\">\n<!-- Generated by graphviz version 2.40.1 (20161225.0304)\n -->\n<!-- Title: Tree Pages: 1 -->\n<svg width=\"2414pt\" height=\"671pt\"\n viewBox=\"0.00 0.00 2413.50 671.00\" xmlns=\"http://www.w3.org/2000/svg\" xmlns:xlink=\"http://www.w3.org/1999/xlink\">\n<g id=\"graph0\" class=\"graph\" transform=\"scale(1 1) rotate(0) translate(4 667)\">\n<title>Tree</title>\n<polygon fill=\"#ffffff\" stroke=\"transparent\" points=\"-4,4 -4,-667 2409.5,-667 2409.5,4 -4,4\"/>\n<!-- 0 -->\n<g id=\"node1\" class=\"node\">\n<title>0</title>\n<polygon fill=\"#ffffff\" stroke=\"#000000\" points=\"742.5,-663 593.5,-663 593.5,-580 742.5,-580 742.5,-663\"/>\n<text text-anchor=\"middle\" x=\"668\" y=\"-647.8\" font-family=\"Helvetica,sans-Serif\" font-size=\"14.00\" fill=\"#000000\">Inter Plan_no &lt;= 0.5</text>\n<text text-anchor=\"middle\" x=\"668\" y=\"-632.8\" font-family=\"Helvetica,sans-Serif\" font-size=\"14.00\" fill=\"#000000\">gini = 0.5</text>\n<text text-anchor=\"middle\" x=\"668\" y=\"-617.8\" font-family=\"Helvetica,sans-Serif\" font-size=\"14.00\" fill=\"#000000\">samples = 4000</text>\n<text text-anchor=\"middle\" x=\"668\" y=\"-602.8\" font-family=\"Helvetica,sans-Serif\" font-size=\"14.00\" fill=\"#000000\">value = [2000, 2000]</text>\n<text text-anchor=\"middle\" x=\"668\" y=\"-587.8\" font-family=\"Helvetica,sans-Serif\" font-size=\"14.00\" fill=\"#000000\">class = FALSE</text>\n</g>\n<!-- 1 -->\n<g id=\"node2\" class=\"node\">\n<title>1</title>\n<polygon fill=\"#58ace9\" stroke=\"#000000\" points=\"497,-544 343,-544 343,-461 497,-461 497,-544\"/>\n<text text-anchor=\"middle\" x=\"420\" y=\"-528.8\" font-family=\"Helvetica,sans-Serif\" font-size=\"14.00\" fill=\"#000000\">Inter Plan_yes &lt;= 0.5</text>\n<text text-anchor=\"middle\" x=\"420\" y=\"-513.8\" font-family=\"Helvetica,sans-Serif\" font-size=\"14.00\" fill=\"#000000\">gini = 0.233</text>\n<text text-anchor=\"middle\" x=\"420\" y=\"-498.8\" font-family=\"Helvetica,sans-Serif\" font-size=\"14.00\" fill=\"#000000\">samples = 994</text>\n<text text-anchor=\"middle\" x=\"420\" y=\"-483.8\" font-family=\"Helvetica,sans-Serif\" font-size=\"14.00\" fill=\"#000000\">value = [134, 860]</text>\n<text text-anchor=\"middle\" x=\"420\" y=\"-468.8\" font-family=\"Helvetica,sans-Serif\" font-size=\"14.00\" fill=\"#000000\">class = TRUE</text>\n</g>\n<!-- 0&#45;&gt;1 -->\n<g id=\"edge1\" class=\"edge\">\n<title>0&#45;&gt;1</title>\n<path fill=\"none\" stroke=\"#000000\" d=\"M593.2555,-585.6347C565.8439,-572.4816 534.5977,-557.4884 506.2586,-543.8902\"/>\n<polygon fill=\"#000000\" stroke=\"#000000\" points=\"507.6982,-540.699 497.1683,-539.5283 504.6699,-547.01 507.6982,-540.699\"/>\n<text text-anchor=\"middle\" x=\"505.4585\" y=\"-559.4137\" font-family=\"Helvetica,sans-Serif\" font-size=\"14.00\" fill=\"#000000\">True</text>\n</g>\n<!-- 12 -->\n<g id=\"node13\" class=\"node\">\n<title>12</title>\n<polygon fill=\"#f5ceb2\" stroke=\"#000000\" points=\"1192.5,-544 925.5,-544 925.5,-461 1192.5,-461 1192.5,-544\"/>\n<text text-anchor=\"middle\" x=\"1059\" y=\"-528.8\" font-family=\"Helvetica,sans-Serif\" font-size=\"14.00\" fill=\"#000000\">No of Calls Customer Service &lt;= 3.011</text>\n<text text-anchor=\"middle\" x=\"1059\" y=\"-513.8\" font-family=\"Helvetica,sans-Serif\" font-size=\"14.00\" fill=\"#000000\">gini = 0.471</text>\n<text text-anchor=\"middle\" x=\"1059\" y=\"-498.8\" font-family=\"Helvetica,sans-Serif\" font-size=\"14.00\" fill=\"#000000\">samples = 3006</text>\n<text text-anchor=\"middle\" x=\"1059\" y=\"-483.8\" font-family=\"Helvetica,sans-Serif\" font-size=\"14.00\" fill=\"#000000\">value = [1866, 1140]</text>\n<text text-anchor=\"middle\" x=\"1059\" y=\"-468.8\" font-family=\"Helvetica,sans-Serif\" font-size=\"14.00\" fill=\"#000000\">class = FALSE</text>\n</g>\n<!-- 0&#45;&gt;12 -->\n<g id=\"edge12\" class=\"edge\">\n<title>0&#45;&gt;12</title>\n<path fill=\"none\" stroke=\"#000000\" d=\"M742.9261,-598.6964C791.763,-583.833 857.0693,-563.9572 915.6396,-546.1314\"/>\n<polygon fill=\"#000000\" stroke=\"#000000\" points=\"916.8072,-549.4347 925.3548,-543.1746 914.769,-542.7379 916.8072,-549.4347\"/>\n<text text-anchor=\"middle\" x=\"913.5901\" y=\"-561.5334\" font-family=\"Helvetica,sans-Serif\" font-size=\"14.00\" fill=\"#000000\">False</text>\n</g>\n<!-- 2 -->\n<g id=\"node3\" class=\"node\">\n<title>2</title>\n<polygon fill=\"#399de5\" stroke=\"#000000\" points=\"320,-417.5 204,-417.5 204,-349.5 320,-349.5 320,-417.5\"/>\n<text text-anchor=\"middle\" x=\"262\" y=\"-402.3\" font-family=\"Helvetica,sans-Serif\" font-size=\"14.00\" fill=\"#000000\">gini = 0.0</text>\n<text text-anchor=\"middle\" x=\"262\" y=\"-387.3\" font-family=\"Helvetica,sans-Serif\" font-size=\"14.00\" fill=\"#000000\">samples = 592</text>\n<text text-anchor=\"middle\" x=\"262\" y=\"-372.3\" font-family=\"Helvetica,sans-Serif\" font-size=\"14.00\" fill=\"#000000\">value = [0, 592]</text>\n<text text-anchor=\"middle\" x=\"262\" y=\"-357.3\" font-family=\"Helvetica,sans-Serif\" font-size=\"14.00\" fill=\"#000000\">class = TRUE</text>\n</g>\n<!-- 1&#45;&gt;2 -->\n<g id=\"edge2\" class=\"edge\">\n<title>1&#45;&gt;2</title>\n<path fill=\"none\" stroke=\"#000000\" d=\"M364.7393,-460.8796C348.7497,-448.8368 331.3297,-435.7167 315.4526,-423.7586\"/>\n<polygon fill=\"#000000\" stroke=\"#000000\" points=\"317.3998,-420.8435 307.3062,-417.623 313.1884,-426.435 317.3998,-420.8435\"/>\n</g>\n<!-- 3 -->\n<g id=\"node4\" class=\"node\">\n<title>3</title>\n<polygon fill=\"#9ccef2\" stroke=\"#000000\" points=\"502,-425 338,-425 338,-342 502,-342 502,-425\"/>\n<text text-anchor=\"middle\" x=\"420\" y=\"-409.8\" font-family=\"Helvetica,sans-Serif\" font-size=\"14.00\" fill=\"#000000\">Total Int Calls &lt;= 2.976</text>\n<text text-anchor=\"middle\" x=\"420\" y=\"-394.8\" font-family=\"Helvetica,sans-Serif\" font-size=\"14.00\" fill=\"#000000\">gini = 0.444</text>\n<text text-anchor=\"middle\" x=\"420\" y=\"-379.8\" font-family=\"Helvetica,sans-Serif\" font-size=\"14.00\" fill=\"#000000\">samples = 402</text>\n<text text-anchor=\"middle\" x=\"420\" y=\"-364.8\" font-family=\"Helvetica,sans-Serif\" font-size=\"14.00\" fill=\"#000000\">value = [134, 268]</text>\n<text text-anchor=\"middle\" x=\"420\" y=\"-349.8\" font-family=\"Helvetica,sans-Serif\" font-size=\"14.00\" fill=\"#000000\">class = TRUE</text>\n</g>\n<!-- 1&#45;&gt;3 -->\n<g id=\"edge3\" class=\"edge\">\n<title>1&#45;&gt;3</title>\n<path fill=\"none\" stroke=\"#000000\" d=\"M420,-460.8796C420,-452.6838 420,-443.9891 420,-435.5013\"/>\n<polygon fill=\"#000000\" stroke=\"#000000\" points=\"423.5001,-435.298 420,-425.2981 416.5001,-435.2981 423.5001,-435.298\"/>\n</g>\n<!-- 4 -->\n<g id=\"node5\" class=\"node\">\n<title>4</title>\n<polygon fill=\"#399de5\" stroke=\"#000000\" points=\"268,-298.5 152,-298.5 152,-230.5 268,-230.5 268,-298.5\"/>\n<text text-anchor=\"middle\" x=\"210\" y=\"-283.3\" font-family=\"Helvetica,sans-Serif\" font-size=\"14.00\" fill=\"#000000\">gini = 0.0</text>\n<text text-anchor=\"middle\" x=\"210\" y=\"-268.3\" font-family=\"Helvetica,sans-Serif\" font-size=\"14.00\" fill=\"#000000\">samples = 134</text>\n<text text-anchor=\"middle\" x=\"210\" y=\"-253.3\" font-family=\"Helvetica,sans-Serif\" font-size=\"14.00\" fill=\"#000000\">value = [0, 134]</text>\n<text text-anchor=\"middle\" x=\"210\" y=\"-238.3\" font-family=\"Helvetica,sans-Serif\" font-size=\"14.00\" fill=\"#000000\">class = TRUE</text>\n</g>\n<!-- 3&#45;&gt;4 -->\n<g id=\"edge4\" class=\"edge\">\n<title>3&#45;&gt;4</title>\n<path fill=\"none\" stroke=\"#000000\" d=\"M341.2448,-341.876C320.2349,-330.4844 297.6403,-317.972 277,-306 275.7055,-305.2491 274.3993,-304.4867 273.0847,-303.715\"/>\n<polygon fill=\"#000000\" stroke=\"#000000\" points=\"274.7092,-300.6091 264.3237,-298.5129 271.1352,-306.628 274.7092,-300.6091\"/>\n</g>\n<!-- 5 -->\n<g id=\"node6\" class=\"node\">\n<title>5</title>\n<polygon fill=\"#ffffff\" stroke=\"#000000\" points=\"553.5,-306 286.5,-306 286.5,-223 553.5,-223 553.5,-306\"/>\n<text text-anchor=\"middle\" x=\"420\" y=\"-290.8\" font-family=\"Helvetica,sans-Serif\" font-size=\"14.00\" fill=\"#000000\">No of Calls Customer Service &lt;= 3.099</text>\n<text text-anchor=\"middle\" x=\"420\" y=\"-275.8\" font-family=\"Helvetica,sans-Serif\" font-size=\"14.00\" fill=\"#000000\">gini = 0.5</text>\n<text text-anchor=\"middle\" x=\"420\" y=\"-260.8\" font-family=\"Helvetica,sans-Serif\" font-size=\"14.00\" fill=\"#000000\">samples = 268</text>\n<text text-anchor=\"middle\" x=\"420\" y=\"-245.8\" font-family=\"Helvetica,sans-Serif\" font-size=\"14.00\" fill=\"#000000\">value = [134, 134]</text>\n<text text-anchor=\"middle\" x=\"420\" y=\"-230.8\" font-family=\"Helvetica,sans-Serif\" font-size=\"14.00\" fill=\"#000000\">class = FALSE</text>\n</g>\n<!-- 3&#45;&gt;5 -->\n<g id=\"edge5\" class=\"edge\">\n<title>3&#45;&gt;5</title>\n<path fill=\"none\" stroke=\"#000000\" d=\"M420,-341.8796C420,-333.6838 420,-324.9891 420,-316.5013\"/>\n<polygon fill=\"#000000\" stroke=\"#000000\" points=\"423.5001,-316.298 420,-306.2981 416.5001,-316.2981 423.5001,-316.298\"/>\n</g>\n<!-- 6 -->\n<g id=\"node7\" class=\"node\">\n<title>6</title>\n<polygon fill=\"#fae7da\" stroke=\"#000000\" points=\"286,-187 98,-187 98,-104 286,-104 286,-187\"/>\n<text text-anchor=\"middle\" x=\"192\" y=\"-171.8\" font-family=\"Helvetica,sans-Serif\" font-size=\"14.00\" fill=\"#000000\">Total Day calls &lt;= 111.924</text>\n<text text-anchor=\"middle\" x=\"192\" y=\"-156.8\" font-family=\"Helvetica,sans-Serif\" font-size=\"14.00\" fill=\"#000000\">gini = 0.495</text>\n<text text-anchor=\"middle\" x=\"192\" y=\"-141.8\" font-family=\"Helvetica,sans-Serif\" font-size=\"14.00\" fill=\"#000000\">samples = 232</text>\n<text text-anchor=\"middle\" x=\"192\" y=\"-126.8\" font-family=\"Helvetica,sans-Serif\" font-size=\"14.00\" fill=\"#000000\">value = [128, 104]</text>\n<text text-anchor=\"middle\" x=\"192\" y=\"-111.8\" font-family=\"Helvetica,sans-Serif\" font-size=\"14.00\" fill=\"#000000\">class = FALSE</text>\n</g>\n<!-- 5&#45;&gt;6 -->\n<g id=\"edge6\" class=\"edge\">\n<title>5&#45;&gt;6</title>\n<path fill=\"none\" stroke=\"#000000\" d=\"M340.2567,-222.8796C320.9914,-212.8244 300.2871,-202.0183 280.6413,-191.7645\"/>\n<polygon fill=\"#000000\" stroke=\"#000000\" points=\"282.1829,-188.6212 271.6983,-187.0969 278.944,-194.8268 282.1829,-188.6212\"/>\n</g>\n<!-- 9 -->\n<g id=\"node10\" class=\"node\">\n<title>9</title>\n<polygon fill=\"#61b1ea\" stroke=\"#000000\" points=\"505.5,-187 334.5,-187 334.5,-104 505.5,-104 505.5,-187\"/>\n<text text-anchor=\"middle\" x=\"420\" y=\"-171.8\" font-family=\"Helvetica,sans-Serif\" font-size=\"14.00\" fill=\"#000000\">Total Day calls &lt;= 123.0</text>\n<text text-anchor=\"middle\" x=\"420\" y=\"-156.8\" font-family=\"Helvetica,sans-Serif\" font-size=\"14.00\" fill=\"#000000\">gini = 0.278</text>\n<text text-anchor=\"middle\" x=\"420\" y=\"-141.8\" font-family=\"Helvetica,sans-Serif\" font-size=\"14.00\" fill=\"#000000\">samples = 36</text>\n<text text-anchor=\"middle\" x=\"420\" y=\"-126.8\" font-family=\"Helvetica,sans-Serif\" font-size=\"14.00\" fill=\"#000000\">value = [6, 30]</text>\n<text text-anchor=\"middle\" x=\"420\" y=\"-111.8\" font-family=\"Helvetica,sans-Serif\" font-size=\"14.00\" fill=\"#000000\">class = TRUE</text>\n</g>\n<!-- 5&#45;&gt;9 -->\n<g id=\"edge9\" class=\"edge\">\n<title>5&#45;&gt;9</title>\n<path fill=\"none\" stroke=\"#000000\" d=\"M420,-222.8796C420,-214.6838 420,-205.9891 420,-197.5013\"/>\n<polygon fill=\"#000000\" stroke=\"#000000\" points=\"423.5001,-197.298 420,-187.2981 416.5001,-197.2981 423.5001,-197.298\"/>\n</g>\n<!-- 7 -->\n<g id=\"node8\" class=\"node\">\n<title>7</title>\n<polygon fill=\"#f1f8fd\" stroke=\"#000000\" points=\"116,-68 0,-68 0,0 116,0 116,-68\"/>\n<text text-anchor=\"middle\" x=\"58\" y=\"-52.8\" font-family=\"Helvetica,sans-Serif\" font-size=\"14.00\" fill=\"#000000\">gini = 0.499</text>\n<text text-anchor=\"middle\" x=\"58\" y=\"-37.8\" font-family=\"Helvetica,sans-Serif\" font-size=\"14.00\" fill=\"#000000\">samples = 164</text>\n<text text-anchor=\"middle\" x=\"58\" y=\"-22.8\" font-family=\"Helvetica,sans-Serif\" font-size=\"14.00\" fill=\"#000000\">value = [79, 85]</text>\n<text text-anchor=\"middle\" x=\"58\" y=\"-7.8\" font-family=\"Helvetica,sans-Serif\" font-size=\"14.00\" fill=\"#000000\">class = TRUE</text>\n</g>\n<!-- 6&#45;&gt;7 -->\n<g id=\"edge7\" class=\"edge\">\n<title>6&#45;&gt;7</title>\n<path fill=\"none\" stroke=\"#000000\" d=\"M142.1033,-103.9815C130.6162,-94.4232 118.4103,-84.2668 106.9633,-74.7419\"/>\n<polygon fill=\"#000000\" stroke=\"#000000\" points=\"109.1035,-71.9695 99.1779,-68.2637 104.6261,-77.3503 109.1035,-71.9695\"/>\n</g>\n<!-- 8 -->\n<g id=\"node9\" class=\"node\">\n<title>8</title>\n<polygon fill=\"#efb286\" stroke=\"#000000\" points=\"250,-68 134,-68 134,0 250,0 250,-68\"/>\n<text text-anchor=\"middle\" x=\"192\" y=\"-52.8\" font-family=\"Helvetica,sans-Serif\" font-size=\"14.00\" fill=\"#000000\">gini = 0.403</text>\n<text text-anchor=\"middle\" x=\"192\" y=\"-37.8\" font-family=\"Helvetica,sans-Serif\" font-size=\"14.00\" fill=\"#000000\">samples = 68</text>\n<text text-anchor=\"middle\" x=\"192\" y=\"-22.8\" font-family=\"Helvetica,sans-Serif\" font-size=\"14.00\" fill=\"#000000\">value = [49, 19]</text>\n<text text-anchor=\"middle\" x=\"192\" y=\"-7.8\" font-family=\"Helvetica,sans-Serif\" font-size=\"14.00\" fill=\"#000000\">class = FALSE</text>\n</g>\n<!-- 6&#45;&gt;8 -->\n<g id=\"edge8\" class=\"edge\">\n<title>6&#45;&gt;8</title>\n<path fill=\"none\" stroke=\"#000000\" d=\"M192,-103.9815C192,-95.618 192,-86.7965 192,-78.3409\"/>\n<polygon fill=\"#000000\" stroke=\"#000000\" points=\"195.5001,-78.2636 192,-68.2637 188.5001,-78.2637 195.5001,-78.2636\"/>\n</g>\n<!-- 10 -->\n<g id=\"node11\" class=\"node\">\n<title>10</title>\n<polygon fill=\"#4da7e8\" stroke=\"#000000\" points=\"375.5,-68 268.5,-68 268.5,0 375.5,0 375.5,-68\"/>\n<text text-anchor=\"middle\" x=\"322\" y=\"-52.8\" font-family=\"Helvetica,sans-Serif\" font-size=\"14.00\" fill=\"#000000\">gini = 0.165</text>\n<text text-anchor=\"middle\" x=\"322\" y=\"-37.8\" font-family=\"Helvetica,sans-Serif\" font-size=\"14.00\" fill=\"#000000\">samples = 33</text>\n<text text-anchor=\"middle\" x=\"322\" y=\"-22.8\" font-family=\"Helvetica,sans-Serif\" font-size=\"14.00\" fill=\"#000000\">value = [3, 30]</text>\n<text text-anchor=\"middle\" x=\"322\" y=\"-7.8\" font-family=\"Helvetica,sans-Serif\" font-size=\"14.00\" fill=\"#000000\">class = TRUE</text>\n</g>\n<!-- 9&#45;&gt;10 -->\n<g id=\"edge10\" class=\"edge\">\n<title>9&#45;&gt;10</title>\n<path fill=\"none\" stroke=\"#000000\" d=\"M383.5084,-103.9815C375.4305,-94.7908 366.8666,-85.0472 358.7774,-75.8436\"/>\n<polygon fill=\"#000000\" stroke=\"#000000\" points=\"361.3458,-73.4642 352.1152,-68.2637 356.088,-78.0855 361.3458,-73.4642\"/>\n</g>\n<!-- 11 -->\n<g id=\"node12\" class=\"node\">\n<title>11</title>\n<polygon fill=\"#e58139\" stroke=\"#000000\" points=\"506,-68 394,-68 394,0 506,0 506,-68\"/>\n<text text-anchor=\"middle\" x=\"450\" y=\"-52.8\" font-family=\"Helvetica,sans-Serif\" font-size=\"14.00\" fill=\"#000000\">gini = 0.0</text>\n<text text-anchor=\"middle\" x=\"450\" y=\"-37.8\" font-family=\"Helvetica,sans-Serif\" font-size=\"14.00\" fill=\"#000000\">samples = 3</text>\n<text text-anchor=\"middle\" x=\"450\" y=\"-22.8\" font-family=\"Helvetica,sans-Serif\" font-size=\"14.00\" fill=\"#000000\">value = [3, 0]</text>\n<text text-anchor=\"middle\" x=\"450\" y=\"-7.8\" font-family=\"Helvetica,sans-Serif\" font-size=\"14.00\" fill=\"#000000\">class = FALSE</text>\n</g>\n<!-- 9&#45;&gt;11 -->\n<g id=\"edge11\" class=\"edge\">\n<title>9&#45;&gt;11</title>\n<path fill=\"none\" stroke=\"#000000\" d=\"M431.1709,-103.9815C433.4459,-95.5261 435.8468,-86.6026 438.1447,-78.0623\"/>\n<polygon fill=\"#000000\" stroke=\"#000000\" points=\"441.5626,-78.8296 440.7811,-68.2637 434.803,-77.0109 441.5626,-78.8296\"/>\n</g>\n<!-- 13 -->\n<g id=\"node14\" class=\"node\">\n<title>13</title>\n<polygon fill=\"#f0b68d\" stroke=\"#000000\" points=\"1153,-425 965,-425 965,-342 1153,-342 1153,-425\"/>\n<text text-anchor=\"middle\" x=\"1059\" y=\"-409.8\" font-family=\"Helvetica,sans-Serif\" font-size=\"14.00\" fill=\"#000000\">VoiceMail Plan_yes &lt;= 0.5</text>\n<text text-anchor=\"middle\" x=\"1059\" y=\"-394.8\" font-family=\"Helvetica,sans-Serif\" font-size=\"14.00\" fill=\"#000000\">gini = 0.418</text>\n<text text-anchor=\"middle\" x=\"1059\" y=\"-379.8\" font-family=\"Helvetica,sans-Serif\" font-size=\"14.00\" fill=\"#000000\">samples = 2532</text>\n<text text-anchor=\"middle\" x=\"1059\" y=\"-364.8\" font-family=\"Helvetica,sans-Serif\" font-size=\"14.00\" fill=\"#000000\">value = [1779, 753]</text>\n<text text-anchor=\"middle\" x=\"1059\" y=\"-349.8\" font-family=\"Helvetica,sans-Serif\" font-size=\"14.00\" fill=\"#000000\">class = FALSE</text>\n</g>\n<!-- 12&#45;&gt;13 -->\n<g id=\"edge13\" class=\"edge\">\n<title>12&#45;&gt;13</title>\n<path fill=\"none\" stroke=\"#000000\" d=\"M1059,-460.8796C1059,-452.6838 1059,-443.9891 1059,-435.5013\"/>\n<polygon fill=\"#000000\" stroke=\"#000000\" points=\"1062.5001,-435.298 1059,-425.2981 1055.5001,-435.2981 1062.5001,-435.298\"/>\n</g>\n<!-- 28 -->\n<g id=\"node29\" class=\"node\">\n<title>28</title>\n<polygon fill=\"#66b3eb\" stroke=\"#000000\" points=\"1838.5,-425 1571.5,-425 1571.5,-342 1838.5,-342 1838.5,-425\"/>\n<text text-anchor=\"middle\" x=\"1705\" y=\"-409.8\" font-family=\"Helvetica,sans-Serif\" font-size=\"14.00\" fill=\"#000000\">No of Calls Customer Service &lt;= 4.004</text>\n<text text-anchor=\"middle\" x=\"1705\" y=\"-394.8\" font-family=\"Helvetica,sans-Serif\" font-size=\"14.00\" fill=\"#000000\">gini = 0.3</text>\n<text text-anchor=\"middle\" x=\"1705\" y=\"-379.8\" font-family=\"Helvetica,sans-Serif\" font-size=\"14.00\" fill=\"#000000\">samples = 474</text>\n<text text-anchor=\"middle\" x=\"1705\" y=\"-364.8\" font-family=\"Helvetica,sans-Serif\" font-size=\"14.00\" fill=\"#000000\">value = [87, 387]</text>\n<text text-anchor=\"middle\" x=\"1705\" y=\"-349.8\" font-family=\"Helvetica,sans-Serif\" font-size=\"14.00\" fill=\"#000000\">class = TRUE</text>\n</g>\n<!-- 12&#45;&gt;28 -->\n<g id=\"edge28\" class=\"edge\">\n<title>12&#45;&gt;28</title>\n<path fill=\"none\" stroke=\"#000000\" d=\"M1192.8516,-477.8431C1300.473,-458.0181 1451.3509,-430.2248 1561.4636,-409.9409\"/>\n<polygon fill=\"#000000\" stroke=\"#000000\" points=\"1562.1194,-413.3791 1571.3199,-408.1253 1560.8512,-406.4949 1562.1194,-413.3791\"/>\n</g>\n<!-- 14 -->\n<g id=\"node15\" class=\"node\">\n<title>14</title>\n<polygon fill=\"#f4cbad\" stroke=\"#000000\" points=\"1033.5,-306 860.5,-306 860.5,-223 1033.5,-223 1033.5,-306\"/>\n<text text-anchor=\"middle\" x=\"947\" y=\"-290.8\" font-family=\"Helvetica,sans-Serif\" font-size=\"14.00\" fill=\"#000000\">Area Code_A510 &lt;= 0.5</text>\n<text text-anchor=\"middle\" x=\"947\" y=\"-275.8\" font-family=\"Helvetica,sans-Serif\" font-size=\"14.00\" fill=\"#000000\">gini = 0.466</text>\n<text text-anchor=\"middle\" x=\"947\" y=\"-260.8\" font-family=\"Helvetica,sans-Serif\" font-size=\"14.00\" fill=\"#000000\">samples = 1988</text>\n<text text-anchor=\"middle\" x=\"947\" y=\"-245.8\" font-family=\"Helvetica,sans-Serif\" font-size=\"14.00\" fill=\"#000000\">value = [1255, 733]</text>\n<text text-anchor=\"middle\" x=\"947\" y=\"-230.8\" font-family=\"Helvetica,sans-Serif\" font-size=\"14.00\" fill=\"#000000\">class = FALSE</text>\n</g>\n<!-- 13&#45;&gt;14 -->\n<g id=\"edge14\" class=\"edge\">\n<title>13&#45;&gt;14</title>\n<path fill=\"none\" stroke=\"#000000\" d=\"M1019.8278,-341.8796C1011.2665,-332.7832 1002.1268,-323.0722 993.3168,-313.7116\"/>\n<polygon fill=\"#000000\" stroke=\"#000000\" points=\"995.7417,-311.1813 986.3394,-306.2981 990.6443,-315.9789 995.7417,-311.1813\"/>\n</g>\n<!-- 21 -->\n<g id=\"node22\" class=\"node\">\n<title>21</title>\n<polygon fill=\"#e68641\" stroke=\"#000000\" points=\"1275.5,-306 1068.5,-306 1068.5,-223 1275.5,-223 1275.5,-306\"/>\n<text text-anchor=\"middle\" x=\"1172\" y=\"-290.8\" font-family=\"Helvetica,sans-Serif\" font-size=\"14.00\" fill=\"#000000\">No of Vmail Mesgs &lt;= 31.445</text>\n<text text-anchor=\"middle\" x=\"1172\" y=\"-275.8\" font-family=\"Helvetica,sans-Serif\" font-size=\"14.00\" fill=\"#000000\">gini = 0.071</text>\n<text text-anchor=\"middle\" x=\"1172\" y=\"-260.8\" font-family=\"Helvetica,sans-Serif\" font-size=\"14.00\" fill=\"#000000\">samples = 544</text>\n<text text-anchor=\"middle\" x=\"1172\" y=\"-245.8\" font-family=\"Helvetica,sans-Serif\" font-size=\"14.00\" fill=\"#000000\">value = [524, 20]</text>\n<text text-anchor=\"middle\" x=\"1172\" y=\"-230.8\" font-family=\"Helvetica,sans-Serif\" font-size=\"14.00\" fill=\"#000000\">class = FALSE</text>\n</g>\n<!-- 13&#45;&gt;21 -->\n<g id=\"edge21\" class=\"edge\">\n<title>13&#45;&gt;21</title>\n<path fill=\"none\" stroke=\"#000000\" d=\"M1098.5219,-341.8796C1107.1597,-332.7832 1116.381,-323.0722 1125.2697,-313.7116\"/>\n<polygon fill=\"#000000\" stroke=\"#000000\" points=\"1127.9615,-315.9597 1132.3094,-306.2981 1122.8854,-311.1395 1127.9615,-315.9597\"/>\n</g>\n<!-- 15 -->\n<g id=\"node16\" class=\"node\">\n<title>15</title>\n<polygon fill=\"#f7dbc6\" stroke=\"#000000\" points=\"826.5,-187 653.5,-187 653.5,-104 826.5,-104 826.5,-187\"/>\n<text text-anchor=\"middle\" x=\"740\" y=\"-171.8\" font-family=\"Helvetica,sans-Serif\" font-size=\"14.00\" fill=\"#000000\">Area Code_A415 &lt;= 0.5</text>\n<text text-anchor=\"middle\" x=\"740\" y=\"-156.8\" font-family=\"Helvetica,sans-Serif\" font-size=\"14.00\" fill=\"#000000\">gini = 0.486</text>\n<text text-anchor=\"middle\" x=\"740\" y=\"-141.8\" font-family=\"Helvetica,sans-Serif\" font-size=\"14.00\" fill=\"#000000\">samples = 1612</text>\n<text text-anchor=\"middle\" x=\"740\" y=\"-126.8\" font-family=\"Helvetica,sans-Serif\" font-size=\"14.00\" fill=\"#000000\">value = [942, 670]</text>\n<text text-anchor=\"middle\" x=\"740\" y=\"-111.8\" font-family=\"Helvetica,sans-Serif\" font-size=\"14.00\" fill=\"#000000\">class = FALSE</text>\n</g>\n<!-- 14&#45;&gt;15 -->\n<g id=\"edge15\" class=\"edge\">\n<title>14&#45;&gt;15</title>\n<path fill=\"none\" stroke=\"#000000\" d=\"M874.6014,-222.8796C857.4257,-213.0056 838.9903,-202.4075 821.442,-192.3193\"/>\n<polygon fill=\"#000000\" stroke=\"#000000\" points=\"822.7716,-189.0466 812.3577,-187.0969 819.2828,-195.1152 822.7716,-189.0466\"/>\n</g>\n<!-- 18 -->\n<g id=\"node19\" class=\"node\">\n<title>18</title>\n<polygon fill=\"#ea9a61\" stroke=\"#000000\" points=\"1032.5,-187 861.5,-187 861.5,-104 1032.5,-104 1032.5,-187\"/>\n<text text-anchor=\"middle\" x=\"947\" y=\"-171.8\" font-family=\"Helvetica,sans-Serif\" font-size=\"14.00\" fill=\"#000000\">Account Length &lt;= 47.0</text>\n<text text-anchor=\"middle\" x=\"947\" y=\"-156.8\" font-family=\"Helvetica,sans-Serif\" font-size=\"14.00\" fill=\"#000000\">gini = 0.279</text>\n<text text-anchor=\"middle\" x=\"947\" y=\"-141.8\" font-family=\"Helvetica,sans-Serif\" font-size=\"14.00\" fill=\"#000000\">samples = 376</text>\n<text text-anchor=\"middle\" x=\"947\" y=\"-126.8\" font-family=\"Helvetica,sans-Serif\" font-size=\"14.00\" fill=\"#000000\">value = [313, 63]</text>\n<text text-anchor=\"middle\" x=\"947\" y=\"-111.8\" font-family=\"Helvetica,sans-Serif\" font-size=\"14.00\" fill=\"#000000\">class = FALSE</text>\n</g>\n<!-- 14&#45;&gt;18 -->\n<g id=\"edge18\" class=\"edge\">\n<title>14&#45;&gt;18</title>\n<path fill=\"none\" stroke=\"#000000\" d=\"M947,-222.8796C947,-214.6838 947,-205.9891 947,-197.5013\"/>\n<polygon fill=\"#000000\" stroke=\"#000000\" points=\"950.5001,-197.298 947,-187.2981 943.5001,-197.2981 950.5001,-197.298\"/>\n</g>\n<!-- 16 -->\n<g id=\"node17\" class=\"node\">\n<title>16</title>\n<polygon fill=\"#cae5f8\" stroke=\"#000000\" points=\"656,-68 524,-68 524,0 656,0 656,-68\"/>\n<text text-anchor=\"middle\" x=\"590\" y=\"-52.8\" font-family=\"Helvetica,sans-Serif\" font-size=\"14.00\" fill=\"#000000\">gini = 0.488</text>\n<text text-anchor=\"middle\" x=\"590\" y=\"-37.8\" font-family=\"Helvetica,sans-Serif\" font-size=\"14.00\" fill=\"#000000\">samples = 737</text>\n<text text-anchor=\"middle\" x=\"590\" y=\"-22.8\" font-family=\"Helvetica,sans-Serif\" font-size=\"14.00\" fill=\"#000000\">value = [312, 425]</text>\n<text text-anchor=\"middle\" x=\"590\" y=\"-7.8\" font-family=\"Helvetica,sans-Serif\" font-size=\"14.00\" fill=\"#000000\">class = TRUE</text>\n</g>\n<!-- 15&#45;&gt;16 -->\n<g id=\"edge16\" class=\"edge\">\n<title>15&#45;&gt;16</title>\n<path fill=\"none\" stroke=\"#000000\" d=\"M684.1455,-103.9815C671.1632,-94.3313 657.3606,-84.0714 644.4403,-74.4673\"/>\n<polygon fill=\"#000000\" stroke=\"#000000\" points=\"646.2083,-71.4204 636.0946,-68.2637 642.0322,-77.0384 646.2083,-71.4204\"/>\n</g>\n<!-- 17 -->\n<g id=\"node18\" class=\"node\">\n<title>17</title>\n<polygon fill=\"#efb286\" stroke=\"#000000\" points=\"806,-68 674,-68 674,0 806,0 806,-68\"/>\n<text text-anchor=\"middle\" x=\"740\" y=\"-52.8\" font-family=\"Helvetica,sans-Serif\" font-size=\"14.00\" fill=\"#000000\">gini = 0.403</text>\n<text text-anchor=\"middle\" x=\"740\" y=\"-37.8\" font-family=\"Helvetica,sans-Serif\" font-size=\"14.00\" fill=\"#000000\">samples = 875</text>\n<text text-anchor=\"middle\" x=\"740\" y=\"-22.8\" font-family=\"Helvetica,sans-Serif\" font-size=\"14.00\" fill=\"#000000\">value = [630, 245]</text>\n<text text-anchor=\"middle\" x=\"740\" y=\"-7.8\" font-family=\"Helvetica,sans-Serif\" font-size=\"14.00\" fill=\"#000000\">class = FALSE</text>\n</g>\n<!-- 15&#45;&gt;17 -->\n<g id=\"edge17\" class=\"edge\">\n<title>15&#45;&gt;17</title>\n<path fill=\"none\" stroke=\"#000000\" d=\"M740,-103.9815C740,-95.618 740,-86.7965 740,-78.3409\"/>\n<polygon fill=\"#000000\" stroke=\"#000000\" points=\"743.5001,-78.2636 740,-68.2637 736.5001,-78.2637 743.5001,-78.2636\"/>\n</g>\n<!-- 19 -->\n<g id=\"node20\" class=\"node\">\n<title>19</title>\n<polygon fill=\"#fbece1\" stroke=\"#000000\" points=\"940,-68 824,-68 824,0 940,0 940,-68\"/>\n<text text-anchor=\"middle\" x=\"882\" y=\"-52.8\" font-family=\"Helvetica,sans-Serif\" font-size=\"14.00\" fill=\"#000000\">gini = 0.497</text>\n<text text-anchor=\"middle\" x=\"882\" y=\"-37.8\" font-family=\"Helvetica,sans-Serif\" font-size=\"14.00\" fill=\"#000000\">samples = 48</text>\n<text text-anchor=\"middle\" x=\"882\" y=\"-22.8\" font-family=\"Helvetica,sans-Serif\" font-size=\"14.00\" fill=\"#000000\">value = [26, 22]</text>\n<text text-anchor=\"middle\" x=\"882\" y=\"-7.8\" font-family=\"Helvetica,sans-Serif\" font-size=\"14.00\" fill=\"#000000\">class = FALSE</text>\n</g>\n<!-- 18&#45;&gt;19 -->\n<g id=\"edge19\" class=\"edge\">\n<title>18&#45;&gt;19</title>\n<path fill=\"none\" stroke=\"#000000\" d=\"M922.7964,-103.9815C917.6529,-95.1585 912.2123,-85.8258 907.0384,-76.9506\"/>\n<polygon fill=\"#000000\" stroke=\"#000000\" points=\"910.0344,-75.1402 901.9743,-68.2637 903.987,-78.6656 910.0344,-75.1402\"/>\n</g>\n<!-- 20 -->\n<g id=\"node21\" class=\"node\">\n<title>20</title>\n<polygon fill=\"#e99355\" stroke=\"#000000\" points=\"1082,-68 958,-68 958,0 1082,0 1082,-68\"/>\n<text text-anchor=\"middle\" x=\"1020\" y=\"-52.8\" font-family=\"Helvetica,sans-Serif\" font-size=\"14.00\" fill=\"#000000\">gini = 0.219</text>\n<text text-anchor=\"middle\" x=\"1020\" y=\"-37.8\" font-family=\"Helvetica,sans-Serif\" font-size=\"14.00\" fill=\"#000000\">samples = 328</text>\n<text text-anchor=\"middle\" x=\"1020\" y=\"-22.8\" font-family=\"Helvetica,sans-Serif\" font-size=\"14.00\" fill=\"#000000\">value = [287, 41]</text>\n<text text-anchor=\"middle\" x=\"1020\" y=\"-7.8\" font-family=\"Helvetica,sans-Serif\" font-size=\"14.00\" fill=\"#000000\">class = FALSE</text>\n</g>\n<!-- 18&#45;&gt;20 -->\n<g id=\"edge20\" class=\"edge\">\n<title>18&#45;&gt;20</title>\n<path fill=\"none\" stroke=\"#000000\" d=\"M974.1825,-103.9815C980.0192,-95.0666 986.1966,-85.6313 992.0614,-76.6734\"/>\n<polygon fill=\"#000000\" stroke=\"#000000\" points=\"995.0179,-78.5472 997.5673,-68.2637 989.1614,-74.7129 995.0179,-78.5472\"/>\n</g>\n<!-- 22 -->\n<g id=\"node23\" class=\"node\">\n<title>22</title>\n<polygon fill=\"#e5823b\" stroke=\"#000000\" points=\"1257.5,-187 1086.5,-187 1086.5,-104 1257.5,-104 1257.5,-187\"/>\n<text text-anchor=\"middle\" x=\"1172\" y=\"-171.8\" font-family=\"Helvetica,sans-Serif\" font-size=\"14.00\" fill=\"#000000\">Total Day calls &lt;= 143.5</text>\n<text text-anchor=\"middle\" x=\"1172\" y=\"-156.8\" font-family=\"Helvetica,sans-Serif\" font-size=\"14.00\" fill=\"#000000\">gini = 0.018</text>\n<text text-anchor=\"middle\" x=\"1172\" y=\"-141.8\" font-family=\"Helvetica,sans-Serif\" font-size=\"14.00\" fill=\"#000000\">samples = 338</text>\n<text text-anchor=\"middle\" x=\"1172\" y=\"-126.8\" font-family=\"Helvetica,sans-Serif\" font-size=\"14.00\" fill=\"#000000\">value = [335, 3]</text>\n<text text-anchor=\"middle\" x=\"1172\" y=\"-111.8\" font-family=\"Helvetica,sans-Serif\" font-size=\"14.00\" fill=\"#000000\">class = FALSE</text>\n</g>\n<!-- 21&#45;&gt;22 -->\n<g id=\"edge22\" class=\"edge\">\n<title>21&#45;&gt;22</title>\n<path fill=\"none\" stroke=\"#000000\" d=\"M1172,-222.8796C1172,-214.6838 1172,-205.9891 1172,-197.5013\"/>\n<polygon fill=\"#000000\" stroke=\"#000000\" points=\"1175.5001,-197.298 1172,-187.2981 1168.5001,-197.2981 1175.5001,-197.298\"/>\n</g>\n<!-- 25 -->\n<g id=\"node26\" class=\"node\">\n<title>25</title>\n<polygon fill=\"#e78c4b\" stroke=\"#000000\" points=\"1555.5,-187 1288.5,-187 1288.5,-104 1555.5,-104 1555.5,-187\"/>\n<text text-anchor=\"middle\" x=\"1422\" y=\"-171.8\" font-family=\"Helvetica,sans-Serif\" font-size=\"14.00\" fill=\"#000000\">No of Calls Customer Service &lt;= 1.117</text>\n<text text-anchor=\"middle\" x=\"1422\" y=\"-156.8\" font-family=\"Helvetica,sans-Serif\" font-size=\"14.00\" fill=\"#000000\">gini = 0.151</text>\n<text text-anchor=\"middle\" x=\"1422\" y=\"-141.8\" font-family=\"Helvetica,sans-Serif\" font-size=\"14.00\" fill=\"#000000\">samples = 206</text>\n<text text-anchor=\"middle\" x=\"1422\" y=\"-126.8\" font-family=\"Helvetica,sans-Serif\" font-size=\"14.00\" fill=\"#000000\">value = [189, 17]</text>\n<text text-anchor=\"middle\" x=\"1422\" y=\"-111.8\" font-family=\"Helvetica,sans-Serif\" font-size=\"14.00\" fill=\"#000000\">class = FALSE</text>\n</g>\n<!-- 21&#45;&gt;25 -->\n<g id=\"edge25\" class=\"edge\">\n<title>21&#45;&gt;25</title>\n<path fill=\"none\" stroke=\"#000000\" d=\"M1259.4379,-222.8796C1280.7524,-212.7339 1303.6733,-201.8235 1325.3875,-191.4876\"/>\n<polygon fill=\"#000000\" stroke=\"#000000\" points=\"1327.0865,-194.5552 1334.6115,-187.0969 1324.0779,-188.2347 1327.0865,-194.5552\"/>\n</g>\n<!-- 23 -->\n<g id=\"node24\" class=\"node\">\n<title>23</title>\n<polygon fill=\"#e5823a\" stroke=\"#000000\" points=\"1216,-68 1100,-68 1100,0 1216,0 1216,-68\"/>\n<text text-anchor=\"middle\" x=\"1158\" y=\"-52.8\" font-family=\"Helvetica,sans-Serif\" font-size=\"14.00\" fill=\"#000000\">gini = 0.012</text>\n<text text-anchor=\"middle\" x=\"1158\" y=\"-37.8\" font-family=\"Helvetica,sans-Serif\" font-size=\"14.00\" fill=\"#000000\">samples = 332</text>\n<text text-anchor=\"middle\" x=\"1158\" y=\"-22.8\" font-family=\"Helvetica,sans-Serif\" font-size=\"14.00\" fill=\"#000000\">value = [330, 2]</text>\n<text text-anchor=\"middle\" x=\"1158\" y=\"-7.8\" font-family=\"Helvetica,sans-Serif\" font-size=\"14.00\" fill=\"#000000\">class = FALSE</text>\n</g>\n<!-- 22&#45;&gt;23 -->\n<g id=\"edge23\" class=\"edge\">\n<title>22&#45;&gt;23</title>\n<path fill=\"none\" stroke=\"#000000\" d=\"M1166.7869,-103.9815C1165.7368,-95.618 1164.6292,-86.7965 1163.5675,-78.3409\"/>\n<polygon fill=\"#000000\" stroke=\"#000000\" points=\"1167.0208,-77.7497 1162.3022,-68.2637 1160.0753,-78.6218 1167.0208,-77.7497\"/>\n</g>\n<!-- 24 -->\n<g id=\"node25\" class=\"node\">\n<title>24</title>\n<polygon fill=\"#ea9a61\" stroke=\"#000000\" points=\"1346,-68 1234,-68 1234,0 1346,0 1346,-68\"/>\n<text text-anchor=\"middle\" x=\"1290\" y=\"-52.8\" font-family=\"Helvetica,sans-Serif\" font-size=\"14.00\" fill=\"#000000\">gini = 0.278</text>\n<text text-anchor=\"middle\" x=\"1290\" y=\"-37.8\" font-family=\"Helvetica,sans-Serif\" font-size=\"14.00\" fill=\"#000000\">samples = 6</text>\n<text text-anchor=\"middle\" x=\"1290\" y=\"-22.8\" font-family=\"Helvetica,sans-Serif\" font-size=\"14.00\" fill=\"#000000\">value = [5, 1]</text>\n<text text-anchor=\"middle\" x=\"1290\" y=\"-7.8\" font-family=\"Helvetica,sans-Serif\" font-size=\"14.00\" fill=\"#000000\">class = FALSE</text>\n</g>\n<!-- 22&#45;&gt;24 -->\n<g id=\"edge24\" class=\"edge\">\n<title>22&#45;&gt;24</title>\n<path fill=\"none\" stroke=\"#000000\" d=\"M1215.9388,-103.9815C1225.8598,-94.607 1236.3897,-84.6572 1246.3008,-75.2921\"/>\n<polygon fill=\"#000000\" stroke=\"#000000\" points=\"1248.8743,-77.6757 1253.7389,-68.2637 1244.0666,-72.5878 1248.8743,-77.6757\"/>\n</g>\n<!-- 26 -->\n<g id=\"node27\" class=\"node\">\n<title>26</title>\n<polygon fill=\"#e5833c\" stroke=\"#000000\" points=\"1480,-68 1364,-68 1364,0 1480,0 1480,-68\"/>\n<text text-anchor=\"middle\" x=\"1422\" y=\"-52.8\" font-family=\"Helvetica,sans-Serif\" font-size=\"14.00\" fill=\"#000000\">gini = 0.033</text>\n<text text-anchor=\"middle\" x=\"1422\" y=\"-37.8\" font-family=\"Helvetica,sans-Serif\" font-size=\"14.00\" fill=\"#000000\">samples = 118</text>\n<text text-anchor=\"middle\" x=\"1422\" y=\"-22.8\" font-family=\"Helvetica,sans-Serif\" font-size=\"14.00\" fill=\"#000000\">value = [116, 2]</text>\n<text text-anchor=\"middle\" x=\"1422\" y=\"-7.8\" font-family=\"Helvetica,sans-Serif\" font-size=\"14.00\" fill=\"#000000\">class = FALSE</text>\n</g>\n<!-- 25&#45;&gt;26 -->\n<g id=\"edge26\" class=\"edge\">\n<title>25&#45;&gt;26</title>\n<path fill=\"none\" stroke=\"#000000\" d=\"M1422,-103.9815C1422,-95.618 1422,-86.7965 1422,-78.3409\"/>\n<polygon fill=\"#000000\" stroke=\"#000000\" points=\"1425.5001,-78.2636 1422,-68.2637 1418.5001,-78.2637 1425.5001,-78.2636\"/>\n</g>\n<!-- 27 -->\n<g id=\"node28\" class=\"node\">\n<title>27</title>\n<polygon fill=\"#ea9b62\" stroke=\"#000000\" points=\"1614,-68 1498,-68 1498,0 1614,0 1614,-68\"/>\n<text text-anchor=\"middle\" x=\"1556\" y=\"-52.8\" font-family=\"Helvetica,sans-Serif\" font-size=\"14.00\" fill=\"#000000\">gini = 0.283</text>\n<text text-anchor=\"middle\" x=\"1556\" y=\"-37.8\" font-family=\"Helvetica,sans-Serif\" font-size=\"14.00\" fill=\"#000000\">samples = 88</text>\n<text text-anchor=\"middle\" x=\"1556\" y=\"-22.8\" font-family=\"Helvetica,sans-Serif\" font-size=\"14.00\" fill=\"#000000\">value = [73, 15]</text>\n<text text-anchor=\"middle\" x=\"1556\" y=\"-7.8\" font-family=\"Helvetica,sans-Serif\" font-size=\"14.00\" fill=\"#000000\">class = FALSE</text>\n</g>\n<!-- 25&#45;&gt;27 -->\n<g id=\"edge27\" class=\"edge\">\n<title>25&#45;&gt;27</title>\n<path fill=\"none\" stroke=\"#000000\" d=\"M1471.8967,-103.9815C1483.3838,-94.4232 1495.5897,-84.2668 1507.0367,-74.7419\"/>\n<polygon fill=\"#000000\" stroke=\"#000000\" points=\"1509.3739,-77.3503 1514.8221,-68.2637 1504.8965,-71.9695 1509.3739,-77.3503\"/>\n</g>\n<!-- 29 -->\n<g id=\"node30\" class=\"node\">\n<title>29</title>\n<polygon fill=\"#91c9f1\" stroke=\"#000000\" points=\"1838.5,-306 1571.5,-306 1571.5,-223 1838.5,-223 1838.5,-306\"/>\n<text text-anchor=\"middle\" x=\"1705\" y=\"-290.8\" font-family=\"Helvetica,sans-Serif\" font-size=\"14.00\" fill=\"#000000\">No of Calls Customer Service &lt;= 3.992</text>\n<text text-anchor=\"middle\" x=\"1705\" y=\"-275.8\" font-family=\"Helvetica,sans-Serif\" font-size=\"14.00\" fill=\"#000000\">gini = 0.427</text>\n<text text-anchor=\"middle\" x=\"1705\" y=\"-260.8\" font-family=\"Helvetica,sans-Serif\" font-size=\"14.00\" fill=\"#000000\">samples = 201</text>\n<text text-anchor=\"middle\" x=\"1705\" y=\"-245.8\" font-family=\"Helvetica,sans-Serif\" font-size=\"14.00\" fill=\"#000000\">value = [62, 139]</text>\n<text text-anchor=\"middle\" x=\"1705\" y=\"-230.8\" font-family=\"Helvetica,sans-Serif\" font-size=\"14.00\" fill=\"#000000\">class = TRUE</text>\n</g>\n<!-- 28&#45;&gt;29 -->\n<g id=\"edge29\" class=\"edge\">\n<title>28&#45;&gt;29</title>\n<path fill=\"none\" stroke=\"#000000\" d=\"M1705,-341.8796C1705,-333.6838 1705,-324.9891 1705,-316.5013\"/>\n<polygon fill=\"#000000\" stroke=\"#000000\" points=\"1708.5001,-316.298 1705,-306.2981 1701.5001,-316.2981 1708.5001,-316.298\"/>\n</g>\n<!-- 34 -->\n<g id=\"node35\" class=\"node\">\n<title>34</title>\n<polygon fill=\"#4da7e8\" stroke=\"#000000\" points=\"2104,-306 1916,-306 1916,-223 2104,-223 2104,-306\"/>\n<text text-anchor=\"middle\" x=\"2010\" y=\"-290.8\" font-family=\"Helvetica,sans-Serif\" font-size=\"14.00\" fill=\"#000000\">VoiceMail Plan_yes &lt;= 0.5</text>\n<text text-anchor=\"middle\" x=\"2010\" y=\"-275.8\" font-family=\"Helvetica,sans-Serif\" font-size=\"14.00\" fill=\"#000000\">gini = 0.166</text>\n<text text-anchor=\"middle\" x=\"2010\" y=\"-260.8\" font-family=\"Helvetica,sans-Serif\" font-size=\"14.00\" fill=\"#000000\">samples = 273</text>\n<text text-anchor=\"middle\" x=\"2010\" y=\"-245.8\" font-family=\"Helvetica,sans-Serif\" font-size=\"14.00\" fill=\"#000000\">value = [25, 248]</text>\n<text text-anchor=\"middle\" x=\"2010\" y=\"-230.8\" font-family=\"Helvetica,sans-Serif\" font-size=\"14.00\" fill=\"#000000\">class = TRUE</text>\n</g>\n<!-- 28&#45;&gt;34 -->\n<g id=\"edge34\" class=\"edge\">\n<title>28&#45;&gt;34</title>\n<path fill=\"none\" stroke=\"#000000\" d=\"M1811.6742,-341.8796C1842.4208,-329.8834 1875.9071,-316.8182 1906.4603,-304.8975\"/>\n<polygon fill=\"#000000\" stroke=\"#000000\" points=\"1907.798,-308.1326 1915.8419,-301.2371 1905.2537,-301.6113 1907.798,-308.1326\"/>\n</g>\n<!-- 30 -->\n<g id=\"node31\" class=\"node\">\n<title>30</title>\n<polygon fill=\"#399de5\" stroke=\"#000000\" points=\"1700.5,-179.5 1593.5,-179.5 1593.5,-111.5 1700.5,-111.5 1700.5,-179.5\"/>\n<text text-anchor=\"middle\" x=\"1647\" y=\"-164.3\" font-family=\"Helvetica,sans-Serif\" font-size=\"14.00\" fill=\"#000000\">gini = 0.0</text>\n<text text-anchor=\"middle\" x=\"1647\" y=\"-149.3\" font-family=\"Helvetica,sans-Serif\" font-size=\"14.00\" fill=\"#000000\">samples = 61</text>\n<text text-anchor=\"middle\" x=\"1647\" y=\"-134.3\" font-family=\"Helvetica,sans-Serif\" font-size=\"14.00\" fill=\"#000000\">value = [0, 61]</text>\n<text text-anchor=\"middle\" x=\"1647\" y=\"-119.3\" font-family=\"Helvetica,sans-Serif\" font-size=\"14.00\" fill=\"#000000\">class = TRUE</text>\n</g>\n<!-- 29&#45;&gt;30 -->\n<g id=\"edge30\" class=\"edge\">\n<title>29&#45;&gt;30</title>\n<path fill=\"none\" stroke=\"#000000\" d=\"M1684.7144,-222.8796C1679.355,-211.8835 1673.5578,-199.9893 1668.1537,-188.9015\"/>\n<polygon fill=\"#000000\" stroke=\"#000000\" points=\"1671.2524,-187.2706 1663.7249,-179.8149 1664.96,-190.3375 1671.2524,-187.2706\"/>\n</g>\n<!-- 31 -->\n<g id=\"node32\" class=\"node\">\n<title>31</title>\n<polygon fill=\"#d6ebfa\" stroke=\"#000000\" points=\"1883,-187 1719,-187 1719,-104 1883,-104 1883,-187\"/>\n<text text-anchor=\"middle\" x=\"1801\" y=\"-171.8\" font-family=\"Helvetica,sans-Serif\" font-size=\"14.00\" fill=\"#000000\">Total Int Calls &lt;= 6.526</text>\n<text text-anchor=\"middle\" x=\"1801\" y=\"-156.8\" font-family=\"Helvetica,sans-Serif\" font-size=\"14.00\" fill=\"#000000\">gini = 0.493</text>\n<text text-anchor=\"middle\" x=\"1801\" y=\"-141.8\" font-family=\"Helvetica,sans-Serif\" font-size=\"14.00\" fill=\"#000000\">samples = 140</text>\n<text text-anchor=\"middle\" x=\"1801\" y=\"-126.8\" font-family=\"Helvetica,sans-Serif\" font-size=\"14.00\" fill=\"#000000\">value = [62, 78]</text>\n<text text-anchor=\"middle\" x=\"1801\" y=\"-111.8\" font-family=\"Helvetica,sans-Serif\" font-size=\"14.00\" fill=\"#000000\">class = TRUE</text>\n</g>\n<!-- 29&#45;&gt;31 -->\n<g id=\"edge31\" class=\"edge\">\n<title>29&#45;&gt;31</title>\n<path fill=\"none\" stroke=\"#000000\" d=\"M1738.5761,-222.8796C1745.7691,-213.9633 1753.4384,-204.4565 1760.851,-195.268\"/>\n<polygon fill=\"#000000\" stroke=\"#000000\" points=\"1763.7258,-197.2788 1767.2805,-187.2981 1758.2776,-192.8836 1763.7258,-197.2788\"/>\n</g>\n<!-- 32 -->\n<g id=\"node33\" class=\"node\">\n<title>32</title>\n<polygon fill=\"#b7dbf6\" stroke=\"#000000\" points=\"1748,-68 1632,-68 1632,0 1748,0 1748,-68\"/>\n<text text-anchor=\"middle\" x=\"1690\" y=\"-52.8\" font-family=\"Helvetica,sans-Serif\" font-size=\"14.00\" fill=\"#000000\">gini = 0.475</text>\n<text text-anchor=\"middle\" x=\"1690\" y=\"-37.8\" font-family=\"Helvetica,sans-Serif\" font-size=\"14.00\" fill=\"#000000\">samples = 121</text>\n<text text-anchor=\"middle\" x=\"1690\" y=\"-22.8\" font-family=\"Helvetica,sans-Serif\" font-size=\"14.00\" fill=\"#000000\">value = [47, 74]</text>\n<text text-anchor=\"middle\" x=\"1690\" y=\"-7.8\" font-family=\"Helvetica,sans-Serif\" font-size=\"14.00\" fill=\"#000000\">class = TRUE</text>\n</g>\n<!-- 31&#45;&gt;32 -->\n<g id=\"edge32\" class=\"edge\">\n<title>31&#45;&gt;32</title>\n<path fill=\"none\" stroke=\"#000000\" d=\"M1759.6677,-103.9815C1750.4267,-94.6989 1740.6242,-84.8522 1731.3813,-75.5677\"/>\n<polygon fill=\"#000000\" stroke=\"#000000\" points=\"1733.6457,-72.8813 1724.11,-68.2637 1728.6848,-77.82 1733.6457,-72.8813\"/>\n</g>\n<!-- 33 -->\n<g id=\"node34\" class=\"node\">\n<title>33</title>\n<polygon fill=\"#eca36e\" stroke=\"#000000\" points=\"1878,-68 1766,-68 1766,0 1878,0 1878,-68\"/>\n<text text-anchor=\"middle\" x=\"1822\" y=\"-52.8\" font-family=\"Helvetica,sans-Serif\" font-size=\"14.00\" fill=\"#000000\">gini = 0.332</text>\n<text text-anchor=\"middle\" x=\"1822\" y=\"-37.8\" font-family=\"Helvetica,sans-Serif\" font-size=\"14.00\" fill=\"#000000\">samples = 19</text>\n<text text-anchor=\"middle\" x=\"1822\" y=\"-22.8\" font-family=\"Helvetica,sans-Serif\" font-size=\"14.00\" fill=\"#000000\">value = [15, 4]</text>\n<text text-anchor=\"middle\" x=\"1822\" y=\"-7.8\" font-family=\"Helvetica,sans-Serif\" font-size=\"14.00\" fill=\"#000000\">class = FALSE</text>\n</g>\n<!-- 31&#45;&gt;33 -->\n<g id=\"edge33\" class=\"edge\">\n<title>31&#45;&gt;33</title>\n<path fill=\"none\" stroke=\"#000000\" d=\"M1808.8196,-103.9815C1810.3948,-95.618 1812.0563,-86.7965 1813.6488,-78.3409\"/>\n<polygon fill=\"#000000\" stroke=\"#000000\" points=\"1817.1353,-78.7387 1815.5468,-68.2637 1810.2563,-77.4431 1817.1353,-78.7387\"/>\n</g>\n<!-- 35 -->\n<g id=\"node36\" class=\"node\">\n<title>35</title>\n<polygon fill=\"#45a3e7\" stroke=\"#000000\" points=\"2108,-187 1912,-187 1912,-104 2108,-104 2108,-187\"/>\n<text text-anchor=\"middle\" x=\"2010\" y=\"-171.8\" font-family=\"Helvetica,sans-Serif\" font-size=\"14.00\" fill=\"#000000\">Account Length &lt;= 160.027</text>\n<text text-anchor=\"middle\" x=\"2010\" y=\"-156.8\" font-family=\"Helvetica,sans-Serif\" font-size=\"14.00\" fill=\"#000000\">gini = 0.108</text>\n<text text-anchor=\"middle\" x=\"2010\" y=\"-141.8\" font-family=\"Helvetica,sans-Serif\" font-size=\"14.00\" fill=\"#000000\">samples = 244</text>\n<text text-anchor=\"middle\" x=\"2010\" y=\"-126.8\" font-family=\"Helvetica,sans-Serif\" font-size=\"14.00\" fill=\"#000000\">value = [14, 230]</text>\n<text text-anchor=\"middle\" x=\"2010\" y=\"-111.8\" font-family=\"Helvetica,sans-Serif\" font-size=\"14.00\" fill=\"#000000\">class = TRUE</text>\n</g>\n<!-- 34&#45;&gt;35 -->\n<g id=\"edge35\" class=\"edge\">\n<title>34&#45;&gt;35</title>\n<path fill=\"none\" stroke=\"#000000\" d=\"M2010,-222.8796C2010,-214.6838 2010,-205.9891 2010,-197.5013\"/>\n<polygon fill=\"#000000\" stroke=\"#000000\" points=\"2013.5001,-197.298 2010,-187.2981 2006.5001,-197.2981 2013.5001,-197.298\"/>\n</g>\n<!-- 38 -->\n<g id=\"node39\" class=\"node\">\n<title>38</title>\n<polygon fill=\"#b2d9f5\" stroke=\"#000000\" points=\"2310.5,-187 2137.5,-187 2137.5,-104 2310.5,-104 2310.5,-187\"/>\n<text text-anchor=\"middle\" x=\"2224\" y=\"-171.8\" font-family=\"Helvetica,sans-Serif\" font-size=\"14.00\" fill=\"#000000\">Total Night Calls &lt;= 96.0</text>\n<text text-anchor=\"middle\" x=\"2224\" y=\"-156.8\" font-family=\"Helvetica,sans-Serif\" font-size=\"14.00\" fill=\"#000000\">gini = 0.471</text>\n<text text-anchor=\"middle\" x=\"2224\" y=\"-141.8\" font-family=\"Helvetica,sans-Serif\" font-size=\"14.00\" fill=\"#000000\">samples = 29</text>\n<text text-anchor=\"middle\" x=\"2224\" y=\"-126.8\" font-family=\"Helvetica,sans-Serif\" font-size=\"14.00\" fill=\"#000000\">value = [11, 18]</text>\n<text text-anchor=\"middle\" x=\"2224\" y=\"-111.8\" font-family=\"Helvetica,sans-Serif\" font-size=\"14.00\" fill=\"#000000\">class = TRUE</text>\n</g>\n<!-- 34&#45;&gt;38 -->\n<g id=\"edge38\" class=\"edge\">\n<title>34&#45;&gt;38</title>\n<path fill=\"none\" stroke=\"#000000\" d=\"M2084.8468,-222.8796C2102.7663,-212.915 2122.012,-202.2129 2140.303,-192.0418\"/>\n<polygon fill=\"#000000\" stroke=\"#000000\" points=\"2142.1568,-195.0158 2149.1954,-187.0969 2138.7548,-188.898 2142.1568,-195.0158\"/>\n</g>\n<!-- 36 -->\n<g id=\"node37\" class=\"node\">\n<title>36</title>\n<polygon fill=\"#42a2e6\" stroke=\"#000000\" points=\"2020,-68 1896,-68 1896,0 2020,0 2020,-68\"/>\n<text text-anchor=\"middle\" x=\"1958\" y=\"-52.8\" font-family=\"Helvetica,sans-Serif\" font-size=\"14.00\" fill=\"#000000\">gini = 0.087</text>\n<text text-anchor=\"middle\" x=\"1958\" y=\"-37.8\" font-family=\"Helvetica,sans-Serif\" font-size=\"14.00\" fill=\"#000000\">samples = 241</text>\n<text text-anchor=\"middle\" x=\"1958\" y=\"-22.8\" font-family=\"Helvetica,sans-Serif\" font-size=\"14.00\" fill=\"#000000\">value = [11, 230]</text>\n<text text-anchor=\"middle\" x=\"1958\" y=\"-7.8\" font-family=\"Helvetica,sans-Serif\" font-size=\"14.00\" fill=\"#000000\">class = TRUE</text>\n</g>\n<!-- 35&#45;&gt;36 -->\n<g id=\"edge36\" class=\"edge\">\n<title>35&#45;&gt;36</title>\n<path fill=\"none\" stroke=\"#000000\" d=\"M1990.6371,-103.9815C1986.6081,-95.3423 1982.3511,-86.2144 1978.2897,-77.5059\"/>\n<polygon fill=\"#000000\" stroke=\"#000000\" points=\"1981.3782,-75.8472 1973.9795,-68.2637 1975.0341,-78.8059 1981.3782,-75.8472\"/>\n</g>\n<!-- 37 -->\n<g id=\"node38\" class=\"node\">\n<title>37</title>\n<polygon fill=\"#e58139\" stroke=\"#000000\" points=\"2150,-68 2038,-68 2038,0 2150,0 2150,-68\"/>\n<text text-anchor=\"middle\" x=\"2094\" y=\"-52.8\" font-family=\"Helvetica,sans-Serif\" font-size=\"14.00\" fill=\"#000000\">gini = 0.0</text>\n<text text-anchor=\"middle\" x=\"2094\" y=\"-37.8\" font-family=\"Helvetica,sans-Serif\" font-size=\"14.00\" fill=\"#000000\">samples = 3</text>\n<text text-anchor=\"middle\" x=\"2094\" y=\"-22.8\" font-family=\"Helvetica,sans-Serif\" font-size=\"14.00\" fill=\"#000000\">value = [3, 0]</text>\n<text text-anchor=\"middle\" x=\"2094\" y=\"-7.8\" font-family=\"Helvetica,sans-Serif\" font-size=\"14.00\" fill=\"#000000\">class = FALSE</text>\n</g>\n<!-- 35&#45;&gt;37 -->\n<g id=\"edge37\" class=\"edge\">\n<title>35&#45;&gt;37</title>\n<path fill=\"none\" stroke=\"#000000\" d=\"M2041.2785,-103.9815C2048.0639,-94.9747 2055.2495,-85.4367 2062.0601,-76.3965\"/>\n<polygon fill=\"#000000\" stroke=\"#000000\" points=\"2064.9653,-78.3568 2068.187,-68.2637 2059.3743,-74.1448 2064.9653,-78.3568\"/>\n</g>\n<!-- 39 -->\n<g id=\"node40\" class=\"node\">\n<title>39</title>\n<polygon fill=\"#eca572\" stroke=\"#000000\" points=\"2280,-68 2168,-68 2168,0 2280,0 2280,-68\"/>\n<text text-anchor=\"middle\" x=\"2224\" y=\"-52.8\" font-family=\"Helvetica,sans-Serif\" font-size=\"14.00\" fill=\"#000000\">gini = 0.346</text>\n<text text-anchor=\"middle\" x=\"2224\" y=\"-37.8\" font-family=\"Helvetica,sans-Serif\" font-size=\"14.00\" fill=\"#000000\">samples = 9</text>\n<text text-anchor=\"middle\" x=\"2224\" y=\"-22.8\" font-family=\"Helvetica,sans-Serif\" font-size=\"14.00\" fill=\"#000000\">value = [7, 2]</text>\n<text text-anchor=\"middle\" x=\"2224\" y=\"-7.8\" font-family=\"Helvetica,sans-Serif\" font-size=\"14.00\" fill=\"#000000\">class = FALSE</text>\n</g>\n<!-- 38&#45;&gt;39 -->\n<g id=\"edge39\" class=\"edge\">\n<title>38&#45;&gt;39</title>\n<path fill=\"none\" stroke=\"#000000\" d=\"M2224,-103.9815C2224,-95.618 2224,-86.7965 2224,-78.3409\"/>\n<polygon fill=\"#000000\" stroke=\"#000000\" points=\"2227.5001,-78.2636 2224,-68.2637 2220.5001,-78.2637 2227.5001,-78.2636\"/>\n</g>\n<!-- 40 -->\n<g id=\"node41\" class=\"node\">\n<title>40</title>\n<polygon fill=\"#6ab6ec\" stroke=\"#000000\" points=\"2405.5,-68 2298.5,-68 2298.5,0 2405.5,0 2405.5,-68\"/>\n<text text-anchor=\"middle\" x=\"2352\" y=\"-52.8\" font-family=\"Helvetica,sans-Serif\" font-size=\"14.00\" fill=\"#000000\">gini = 0.32</text>\n<text text-anchor=\"middle\" x=\"2352\" y=\"-37.8\" font-family=\"Helvetica,sans-Serif\" font-size=\"14.00\" fill=\"#000000\">samples = 20</text>\n<text text-anchor=\"middle\" x=\"2352\" y=\"-22.8\" font-family=\"Helvetica,sans-Serif\" font-size=\"14.00\" fill=\"#000000\">value = [4, 16]</text>\n<text text-anchor=\"middle\" x=\"2352\" y=\"-7.8\" font-family=\"Helvetica,sans-Serif\" font-size=\"14.00\" fill=\"#000000\">class = TRUE</text>\n</g>\n<!-- 38&#45;&gt;40 -->\n<g id=\"edge40\" class=\"edge\">\n<title>38&#45;&gt;40</title>\n<path fill=\"none\" stroke=\"#000000\" d=\"M2271.6625,-103.9815C2282.5297,-94.5151 2294.0705,-84.462 2304.9135,-75.0168\"/>\n<polygon fill=\"#000000\" stroke=\"#000000\" points=\"2307.4245,-77.4712 2312.6659,-68.2637 2302.8266,-72.1929 2307.4245,-77.4712\"/>\n</g>\n</g>\n</svg>\n"
          },
          "metadata": {},
          "execution_count": 50
        }
      ]
    },
    {
      "cell_type": "code",
      "source": [
        "# Transform the X-test dataset\n",
        "X_test_new = X_test[X_test.columns.difference(highly_cor_feature_names)]\n",
        "\n",
        "X_test_new.info()"
      ],
      "metadata": {
        "colab": {
          "base_uri": "https://localhost:8080/"
        },
        "id": "Jkl7LOIg6y_S",
        "outputId": "7579c3f1-0171-4f38-b8b3-bf61e5061cf4"
      },
      "execution_count": 51,
      "outputs": [
        {
          "output_type": "stream",
          "name": "stdout",
          "text": [
            "<class 'pandas.core.frame.DataFrame'>\n",
            "Int64Index: 1000 entries, 471 to 1526\n",
            "Data columns (total 65 columns):\n",
            " #   Column                        Non-Null Count  Dtype  \n",
            "---  ------                        --------------  -----  \n",
            " 0   Account Length                1000 non-null   float64\n",
            " 1   Area Code_A408                1000 non-null   uint8  \n",
            " 2   Area Code_A415                1000 non-null   uint8  \n",
            " 3   Area Code_A510                1000 non-null   uint8  \n",
            " 4   Inter Plan_no                 1000 non-null   uint8  \n",
            " 5   Inter Plan_yes                1000 non-null   uint8  \n",
            " 6   No of Calls Customer Service  1000 non-null   float64\n",
            " 7   No of Vmail Mesgs             1000 non-null   float64\n",
            " 8   State_AK                      1000 non-null   uint8  \n",
            " 9   State_AL                      1000 non-null   uint8  \n",
            " 10  State_AR                      1000 non-null   uint8  \n",
            " 11  State_AZ                      1000 non-null   uint8  \n",
            " 12  State_CA                      1000 non-null   uint8  \n",
            " 13  State_CO                      1000 non-null   uint8  \n",
            " 14  State_CT                      1000 non-null   uint8  \n",
            " 15  State_DC                      1000 non-null   uint8  \n",
            " 16  State_DE                      1000 non-null   uint8  \n",
            " 17  State_FL                      1000 non-null   uint8  \n",
            " 18  State_GA                      1000 non-null   uint8  \n",
            " 19  State_HI                      1000 non-null   uint8  \n",
            " 20  State_IA                      1000 non-null   uint8  \n",
            " 21  State_ID                      1000 non-null   uint8  \n",
            " 22  State_IL                      1000 non-null   uint8  \n",
            " 23  State_IN                      1000 non-null   uint8  \n",
            " 24  State_KS                      1000 non-null   uint8  \n",
            " 25  State_KY                      1000 non-null   uint8  \n",
            " 26  State_LA                      1000 non-null   uint8  \n",
            " 27  State_MA                      1000 non-null   uint8  \n",
            " 28  State_MD                      1000 non-null   uint8  \n",
            " 29  State_ME                      1000 non-null   uint8  \n",
            " 30  State_MI                      1000 non-null   uint8  \n",
            " 31  State_MN                      1000 non-null   uint8  \n",
            " 32  State_MO                      1000 non-null   uint8  \n",
            " 33  State_MS                      1000 non-null   uint8  \n",
            " 34  State_MT                      1000 non-null   uint8  \n",
            " 35  State_NC                      1000 non-null   uint8  \n",
            " 36  State_ND                      1000 non-null   uint8  \n",
            " 37  State_NE                      1000 non-null   uint8  \n",
            " 38  State_NH                      1000 non-null   uint8  \n",
            " 39  State_NJ                      1000 non-null   uint8  \n",
            " 40  State_NM                      1000 non-null   uint8  \n",
            " 41  State_NV                      1000 non-null   uint8  \n",
            " 42  State_NY                      1000 non-null   uint8  \n",
            " 43  State_OH                      1000 non-null   uint8  \n",
            " 44  State_OK                      1000 non-null   uint8  \n",
            " 45  State_OR                      1000 non-null   uint8  \n",
            " 46  State_PA                      1000 non-null   uint8  \n",
            " 47  State_RI                      1000 non-null   uint8  \n",
            " 48  State_SC                      1000 non-null   uint8  \n",
            " 49  State_SD                      1000 non-null   uint8  \n",
            " 50  State_TN                      1000 non-null   uint8  \n",
            " 51  State_TX                      1000 non-null   uint8  \n",
            " 52  State_UT                      1000 non-null   uint8  \n",
            " 53  State_VA                      1000 non-null   uint8  \n",
            " 54  State_VT                      1000 non-null   uint8  \n",
            " 55  State_WA                      1000 non-null   uint8  \n",
            " 56  State_WI                      1000 non-null   uint8  \n",
            " 57  State_WV                      1000 non-null   uint8  \n",
            " 58  State_WY                      1000 non-null   uint8  \n",
            " 59  Total Day calls               1000 non-null   float64\n",
            " 60  Total Evening Calls           1000 non-null   float64\n",
            " 61  Total Int Calls               1000 non-null   float64\n",
            " 62  Total Night Calls             1000 non-null   float64\n",
            " 63  VoiceMail Plan_no             1000 non-null   uint8  \n",
            " 64  VoiceMail Plan_yes            1000 non-null   uint8  \n",
            "dtypes: float64(7), uint8(58)\n",
            "memory usage: 119.1 KB\n"
          ]
        }
      ]
    },
    {
      "cell_type": "code",
      "source": [
        "# Perform again the predictions on the test set\n",
        "y_pred = clf.predict(X_test_new)"
      ],
      "metadata": {
        "id": "wn_Y_Qodfism"
      },
      "execution_count": 52,
      "outputs": []
    },
    {
      "cell_type": "code",
      "source": [
        "# Get classification report\n",
        "from sklearn.metrics import classification_report\n",
        "from sklearn import metrics\n",
        "\n",
        "print(classification_report(y_test, y_pred))"
      ],
      "metadata": {
        "colab": {
          "base_uri": "https://localhost:8080/"
        },
        "id": "TrZ1Q1G75wJ7",
        "outputId": "959b5342-a9bc-4860-d4a9-f0d7a713c438"
      },
      "execution_count": 53,
      "outputs": [
        {
          "output_type": "stream",
          "name": "stdout",
          "text": [
            "              precision    recall  f1-score   support\n",
            "\n",
            "       FALSE       0.91      0.75      0.82       850\n",
            "        TRUE       0.29      0.59      0.39       150\n",
            "\n",
            "    accuracy                           0.72      1000\n",
            "   macro avg       0.60      0.67      0.61      1000\n",
            "weighted avg       0.82      0.72      0.76      1000\n",
            "\n"
          ]
        }
      ]
    },
    {
      "cell_type": "code",
      "source": [
        "from sklearn.metrics import accuracy_score\n",
        "\n",
        "print('The Classification Tree Model with selected features accuracy score is: {0:0.4f}'. format(accuracy_score(y_test, y_pred)))"
      ],
      "metadata": {
        "colab": {
          "base_uri": "https://localhost:8080/"
        },
        "id": "jU4ba42m5wAN",
        "outputId": "39b73345-9ec8-4f07-f126-0be00acd9903"
      },
      "execution_count": 54,
      "outputs": [
        {
          "output_type": "stream",
          "name": "stdout",
          "text": [
            "The Classification Tree Model with selected features accuracy score is: 0.7240\n"
          ]
        }
      ]
    },
    {
      "cell_type": "code",
      "source": [
        "# Plot the confusion matrix again with selected features decision tree\n",
        "# this line removes the grid from the confusion matrix\n",
        "sns.set_style(\"whitegrid\", {'axes.grid' : False})\n",
        "\n",
        "ConfusionMatrixDisplay.from_predictions(y_test, y_pred)\n",
        "plt.show()"
      ],
      "metadata": {
        "colab": {
          "base_uri": "https://localhost:8080/",
          "height": 279
        },
        "id": "oeC9_EVN8cp-",
        "outputId": "3684ab10-079a-4b0f-fc23-ed6240b57153"
      },
      "execution_count": 55,
      "outputs": [
        {
          "output_type": "display_data",
          "data": {
            "text/plain": [
              "<Figure size 432x288 with 2 Axes>"
            ],
            "image/png": "[encoded data removed]"
          },
          "metadata": {}
        }
      ]
    },
    {
      "cell_type": "code",
      "source": [
        "cf = confusion_matrix(y_test, y_pred)\n",
        "print(cf)\n",
        "tn, fp, fn, tp=cf.ravel()\n",
        "print (\"TP: \", tp,\", FP: \", fp,\", TN: \", tn,\", FN:\", fn)"
      ],
      "metadata": {
        "colab": {
          "base_uri": "https://localhost:8080/"
        },
        "id": "f5bD77Ao8cmt",
        "outputId": "46d76966-3c91-47f5-89c1-bb7c5ba38232"
      },
      "execution_count": 56,
      "outputs": [
        {
          "output_type": "stream",
          "name": "stdout",
          "text": [
            "[[636 214]\n",
            " [ 62  88]]\n",
            "TP:  88 , FP:  214 , TN:  636 , FN: 62\n"
          ]
        }
      ]
    },
    {
      "cell_type": "code",
      "source": [
        "## Naive-Bayes Modeling for all features - baseline Naive-Bayes model\n",
        "from sklearn.naive_bayes import MultinomialNB\n",
        "\n",
        "#Create a MultiNomial NB Classifier\n",
        "nb = MultinomialNB()\n",
        "\n",
        "#Train the model using the training sets\n",
        "nb.fit(X_resampled, y_resampled)\n",
        "\n",
        "#Predict the response for test dataset\n",
        "y_pred = nb.predict(X_test)\n",
        "print (\"Succesfully done..\")"
      ],
      "metadata": {
        "colab": {
          "base_uri": "https://localhost:8080/"
        },
        "id": "DGNVwqxa8cfV",
        "outputId": "76dde6be-ae76-469f-bd3e-671d7323a102"
      },
      "execution_count": 57,
      "outputs": [
        {
          "output_type": "stream",
          "name": "stdout",
          "text": [
            "Succesfully done..\n"
          ]
        }
      ]
    },
    {
      "cell_type": "code",
      "source": [
        " # Predicted values\n",
        " y_pred"
      ],
      "metadata": {
        "colab": {
          "base_uri": "https://localhost:8080/"
        },
        "id": "BVCnh3SkL9uE",
        "outputId": "574612da-36bd-4e6a-c000-f1d5a4495426"
      },
      "execution_count": 58,
      "outputs": [
        {
          "output_type": "execute_result",
          "data": {
            "text/plain": [
              "array(['FALSE', 'FALSE', 'TRUE', 'TRUE', 'TRUE', 'TRUE', 'FALSE', 'TRUE',\n",
              "       'FALSE', 'FALSE', 'TRUE', 'FALSE', 'TRUE', 'FALSE', 'FALSE',\n",
              "       'FALSE', 'TRUE', 'FALSE', 'FALSE', 'FALSE', 'TRUE', 'TRUE', 'TRUE',\n",
              "       'TRUE', 'TRUE', 'FALSE', 'FALSE', 'TRUE', 'TRUE', 'TRUE', 'TRUE',\n",
              "       'FALSE', 'FALSE', 'FALSE', 'FALSE', 'TRUE', 'FALSE', 'TRUE',\n",
              "       'TRUE', 'FALSE', 'FALSE', 'TRUE', 'TRUE', 'FALSE', 'TRUE', 'TRUE',\n",
              "       'TRUE', 'TRUE', 'TRUE', 'TRUE', 'FALSE', 'FALSE', 'TRUE', 'TRUE',\n",
              "       'FALSE', 'TRUE', 'TRUE', 'FALSE', 'FALSE', 'FALSE', 'TRUE',\n",
              "       'FALSE', 'TRUE', 'FALSE', 'TRUE', 'FALSE', 'TRUE', 'FALSE', 'TRUE',\n",
              "       'FALSE', 'FALSE', 'FALSE', 'TRUE', 'FALSE', 'TRUE', 'FALSE',\n",
              "       'FALSE', 'FALSE', 'FALSE', 'FALSE', 'FALSE', 'TRUE', 'TRUE',\n",
              "       'TRUE', 'FALSE', 'TRUE', 'TRUE', 'FALSE', 'TRUE', 'TRUE', 'TRUE',\n",
              "       'FALSE', 'FALSE', 'TRUE', 'TRUE', 'FALSE', 'TRUE', 'TRUE', 'TRUE',\n",
              "       'TRUE', 'TRUE', 'FALSE', 'TRUE', 'FALSE', 'FALSE', 'FALSE', 'TRUE',\n",
              "       'FALSE', 'TRUE', 'TRUE', 'TRUE', 'TRUE', 'FALSE', 'TRUE', 'TRUE',\n",
              "       'TRUE', 'TRUE', 'TRUE', 'FALSE', 'FALSE', 'FALSE', 'TRUE', 'TRUE',\n",
              "       'TRUE', 'FALSE', 'FALSE', 'FALSE', 'FALSE', 'FALSE', 'FALSE',\n",
              "       'TRUE', 'TRUE', 'TRUE', 'TRUE', 'TRUE', 'FALSE', 'FALSE', 'TRUE',\n",
              "       'FALSE', 'FALSE', 'FALSE', 'FALSE', 'TRUE', 'FALSE', 'FALSE',\n",
              "       'FALSE', 'FALSE', 'FALSE', 'TRUE', 'FALSE', 'FALSE', 'FALSE',\n",
              "       'TRUE', 'TRUE', 'TRUE', 'FALSE', 'FALSE', 'FALSE', 'FALSE', 'TRUE',\n",
              "       'TRUE', 'TRUE', 'FALSE', 'TRUE', 'FALSE', 'TRUE', 'FALSE', 'TRUE',\n",
              "       'TRUE', 'FALSE', 'TRUE', 'TRUE', 'TRUE', 'FALSE', 'FALSE', 'TRUE',\n",
              "       'FALSE', 'FALSE', 'FALSE', 'FALSE', 'TRUE', 'FALSE', 'TRUE',\n",
              "       'TRUE', 'FALSE', 'TRUE', 'TRUE', 'TRUE', 'FALSE', 'TRUE', 'TRUE',\n",
              "       'FALSE', 'TRUE', 'TRUE', 'FALSE', 'TRUE', 'TRUE', 'TRUE', 'TRUE',\n",
              "       'TRUE', 'TRUE', 'FALSE', 'FALSE', 'TRUE', 'FALSE', 'FALSE',\n",
              "       'FALSE', 'FALSE', 'TRUE', 'FALSE', 'FALSE', 'TRUE', 'TRUE',\n",
              "       'FALSE', 'FALSE', 'TRUE', 'FALSE', 'TRUE', 'TRUE', 'TRUE', 'TRUE',\n",
              "       'FALSE', 'TRUE', 'TRUE', 'FALSE', 'TRUE', 'TRUE', 'TRUE', 'TRUE',\n",
              "       'FALSE', 'TRUE', 'FALSE', 'FALSE', 'FALSE', 'FALSE', 'FALSE',\n",
              "       'FALSE', 'TRUE', 'FALSE', 'TRUE', 'TRUE', 'TRUE', 'FALSE', 'FALSE',\n",
              "       'FALSE', 'TRUE', 'FALSE', 'TRUE', 'TRUE', 'TRUE', 'TRUE', 'TRUE',\n",
              "       'TRUE', 'TRUE', 'TRUE', 'FALSE', 'TRUE', 'FALSE', 'TRUE', 'TRUE',\n",
              "       'FALSE', 'FALSE', 'FALSE', 'FALSE', 'TRUE', 'TRUE', 'FALSE',\n",
              "       'TRUE', 'FALSE', 'TRUE', 'TRUE', 'TRUE', 'FALSE', 'FALSE', 'FALSE',\n",
              "       'FALSE', 'TRUE', 'FALSE', 'TRUE', 'FALSE', 'FALSE', 'FALSE',\n",
              "       'FALSE', 'TRUE', 'FALSE', 'TRUE', 'FALSE', 'FALSE', 'TRUE',\n",
              "       'FALSE', 'FALSE', 'TRUE', 'FALSE', 'FALSE', 'TRUE', 'FALSE',\n",
              "       'FALSE', 'TRUE', 'TRUE', 'FALSE', 'TRUE', 'FALSE', 'FALSE', 'TRUE',\n",
              "       'TRUE', 'TRUE', 'FALSE', 'TRUE', 'TRUE', 'TRUE', 'FALSE', 'TRUE',\n",
              "       'TRUE', 'TRUE', 'TRUE', 'TRUE', 'TRUE', 'FALSE', 'FALSE', 'FALSE',\n",
              "       'TRUE', 'TRUE', 'FALSE', 'FALSE', 'TRUE', 'FALSE', 'FALSE',\n",
              "       'FALSE', 'TRUE', 'FALSE', 'FALSE', 'FALSE', 'FALSE', 'FALSE',\n",
              "       'FALSE', 'TRUE', 'FALSE', 'FALSE', 'FALSE', 'FALSE', 'TRUE',\n",
              "       'FALSE', 'FALSE', 'FALSE', 'FALSE', 'TRUE', 'TRUE', 'FALSE',\n",
              "       'FALSE', 'TRUE', 'FALSE', 'FALSE', 'FALSE', 'FALSE', 'TRUE',\n",
              "       'FALSE', 'TRUE', 'TRUE', 'FALSE', 'FALSE', 'FALSE', 'TRUE', 'TRUE',\n",
              "       'FALSE', 'FALSE', 'FALSE', 'FALSE', 'FALSE', 'FALSE', 'FALSE',\n",
              "       'FALSE', 'FALSE', 'FALSE', 'TRUE', 'TRUE', 'FALSE', 'TRUE', 'TRUE',\n",
              "       'TRUE', 'TRUE', 'FALSE', 'FALSE', 'TRUE', 'TRUE', 'TRUE', 'FALSE',\n",
              "       'TRUE', 'TRUE', 'TRUE', 'FALSE', 'FALSE', 'FALSE', 'FALSE',\n",
              "       'FALSE', 'TRUE', 'TRUE', 'FALSE', 'TRUE', 'TRUE', 'FALSE', 'FALSE',\n",
              "       'FALSE', 'FALSE', 'FALSE', 'FALSE', 'TRUE', 'TRUE', 'FALSE',\n",
              "       'FALSE', 'FALSE', 'FALSE', 'FALSE', 'TRUE', 'FALSE', 'TRUE',\n",
              "       'TRUE', 'FALSE', 'TRUE', 'FALSE', 'FALSE', 'TRUE', 'TRUE', 'FALSE',\n",
              "       'TRUE', 'FALSE', 'TRUE', 'TRUE', 'TRUE', 'TRUE', 'TRUE', 'FALSE',\n",
              "       'TRUE', 'FALSE', 'FALSE', 'FALSE', 'TRUE', 'TRUE', 'FALSE', 'TRUE',\n",
              "       'FALSE', 'FALSE', 'FALSE', 'FALSE', 'TRUE', 'FALSE', 'TRUE',\n",
              "       'TRUE', 'TRUE', 'TRUE', 'FALSE', 'FALSE', 'TRUE', 'FALSE', 'TRUE',\n",
              "       'TRUE', 'TRUE', 'TRUE', 'FALSE', 'TRUE', 'FALSE', 'TRUE', 'FALSE',\n",
              "       'FALSE', 'TRUE', 'FALSE', 'FALSE', 'FALSE', 'TRUE', 'TRUE', 'TRUE',\n",
              "       'TRUE', 'TRUE', 'FALSE', 'FALSE', 'FALSE', 'TRUE', 'TRUE', 'TRUE',\n",
              "       'FALSE', 'FALSE', 'TRUE', 'TRUE', 'FALSE', 'FALSE', 'TRUE', 'TRUE',\n",
              "       'TRUE', 'FALSE', 'FALSE', 'TRUE', 'FALSE', 'TRUE', 'FALSE', 'TRUE',\n",
              "       'FALSE', 'FALSE', 'FALSE', 'TRUE', 'TRUE', 'FALSE', 'FALSE',\n",
              "       'FALSE', 'FALSE', 'FALSE', 'FALSE', 'FALSE', 'FALSE', 'FALSE',\n",
              "       'TRUE', 'TRUE', 'FALSE', 'TRUE', 'TRUE', 'FALSE', 'TRUE', 'TRUE',\n",
              "       'TRUE', 'TRUE', 'TRUE', 'FALSE', 'FALSE', 'FALSE', 'TRUE', 'FALSE',\n",
              "       'FALSE', 'TRUE', 'FALSE', 'FALSE', 'TRUE', 'FALSE', 'FALSE',\n",
              "       'FALSE', 'FALSE', 'FALSE', 'TRUE', 'FALSE', 'TRUE', 'TRUE',\n",
              "       'FALSE', 'FALSE', 'FALSE', 'TRUE', 'FALSE', 'FALSE', 'FALSE',\n",
              "       'FALSE', 'FALSE', 'TRUE', 'FALSE', 'FALSE', 'TRUE', 'TRUE',\n",
              "       'FALSE', 'FALSE', 'TRUE', 'TRUE', 'TRUE', 'FALSE', 'FALSE',\n",
              "       'FALSE', 'FALSE', 'TRUE', 'FALSE', 'TRUE', 'FALSE', 'FALSE',\n",
              "       'FALSE', 'TRUE', 'FALSE', 'FALSE', 'FALSE', 'TRUE', 'TRUE',\n",
              "       'FALSE', 'FALSE', 'TRUE', 'FALSE', 'TRUE', 'FALSE', 'FALSE',\n",
              "       'TRUE', 'FALSE', 'TRUE', 'TRUE', 'TRUE', 'FALSE', 'FALSE', 'FALSE',\n",
              "       'FALSE', 'TRUE', 'FALSE', 'TRUE', 'FALSE', 'TRUE', 'TRUE', 'FALSE',\n",
              "       'TRUE', 'TRUE', 'FALSE', 'FALSE', 'FALSE', 'TRUE', 'FALSE',\n",
              "       'FALSE', 'TRUE', 'TRUE', 'FALSE', 'FALSE', 'FALSE', 'TRUE', 'TRUE',\n",
              "       'FALSE', 'FALSE', 'TRUE', 'TRUE', 'FALSE', 'TRUE', 'FALSE', 'TRUE',\n",
              "       'FALSE', 'FALSE', 'FALSE', 'TRUE', 'FALSE', 'FALSE', 'FALSE',\n",
              "       'FALSE', 'TRUE', 'FALSE', 'TRUE', 'FALSE', 'TRUE', 'FALSE',\n",
              "       'FALSE', 'TRUE', 'TRUE', 'FALSE', 'FALSE', 'FALSE', 'FALSE',\n",
              "       'TRUE', 'FALSE', 'FALSE', 'FALSE', 'FALSE', 'TRUE', 'FALSE',\n",
              "       'TRUE', 'FALSE', 'FALSE', 'FALSE', 'TRUE', 'TRUE', 'FALSE',\n",
              "       'FALSE', 'FALSE', 'FALSE', 'FALSE', 'TRUE', 'TRUE', 'FALSE',\n",
              "       'FALSE', 'FALSE', 'FALSE', 'TRUE', 'FALSE', 'TRUE', 'FALSE',\n",
              "       'FALSE', 'TRUE', 'TRUE', 'TRUE', 'TRUE', 'FALSE', 'TRUE', 'TRUE',\n",
              "       'FALSE', 'TRUE', 'TRUE', 'TRUE', 'TRUE', 'FALSE', 'TRUE', 'FALSE',\n",
              "       'FALSE', 'TRUE', 'FALSE', 'FALSE', 'FALSE', 'TRUE', 'FALSE',\n",
              "       'FALSE', 'FALSE', 'FALSE', 'FALSE', 'FALSE', 'FALSE', 'TRUE',\n",
              "       'FALSE', 'TRUE', 'TRUE', 'FALSE', 'FALSE', 'FALSE', 'TRUE', 'TRUE',\n",
              "       'FALSE', 'TRUE', 'TRUE', 'FALSE', 'FALSE', 'TRUE', 'FALSE',\n",
              "       'FALSE', 'FALSE', 'TRUE', 'TRUE', 'TRUE', 'FALSE', 'TRUE', 'TRUE',\n",
              "       'FALSE', 'FALSE', 'FALSE', 'FALSE', 'TRUE', 'TRUE', 'TRUE', 'TRUE',\n",
              "       'FALSE', 'TRUE', 'FALSE', 'FALSE', 'TRUE', 'TRUE', 'TRUE', 'TRUE',\n",
              "       'TRUE', 'TRUE', 'FALSE', 'FALSE', 'FALSE', 'FALSE', 'FALSE',\n",
              "       'FALSE', 'FALSE', 'TRUE', 'TRUE', 'TRUE', 'TRUE', 'TRUE', 'FALSE',\n",
              "       'TRUE', 'FALSE', 'FALSE', 'TRUE', 'FALSE', 'TRUE', 'TRUE', 'TRUE',\n",
              "       'TRUE', 'TRUE', 'FALSE', 'FALSE', 'TRUE', 'FALSE', 'TRUE', 'TRUE',\n",
              "       'TRUE', 'TRUE', 'TRUE', 'TRUE', 'FALSE', 'FALSE', 'FALSE', 'FALSE',\n",
              "       'FALSE', 'TRUE', 'FALSE', 'FALSE', 'FALSE', 'TRUE', 'TRUE', 'TRUE',\n",
              "       'TRUE', 'TRUE', 'FALSE', 'FALSE', 'FALSE', 'FALSE', 'FALSE',\n",
              "       'TRUE', 'FALSE', 'FALSE', 'TRUE', 'FALSE', 'TRUE', 'TRUE', 'FALSE',\n",
              "       'FALSE', 'FALSE', 'FALSE', 'TRUE', 'TRUE', 'TRUE', 'FALSE',\n",
              "       'FALSE', 'FALSE', 'TRUE', 'FALSE', 'TRUE', 'TRUE', 'FALSE',\n",
              "       'FALSE', 'TRUE', 'FALSE', 'TRUE', 'TRUE', 'FALSE', 'TRUE', 'FALSE',\n",
              "       'TRUE', 'FALSE', 'FALSE', 'FALSE', 'FALSE', 'FALSE', 'TRUE',\n",
              "       'FALSE', 'TRUE', 'TRUE', 'FALSE', 'FALSE', 'TRUE', 'FALSE',\n",
              "       'FALSE', 'TRUE', 'FALSE', 'FALSE', 'FALSE', 'TRUE', 'FALSE',\n",
              "       'TRUE', 'FALSE', 'TRUE', 'TRUE', 'FALSE', 'TRUE', 'TRUE', 'FALSE',\n",
              "       'FALSE', 'FALSE', 'TRUE', 'FALSE', 'FALSE', 'TRUE', 'TRUE',\n",
              "       'FALSE', 'FALSE', 'TRUE', 'TRUE', 'FALSE', 'FALSE', 'TRUE', 'TRUE',\n",
              "       'FALSE', 'TRUE', 'FALSE', 'TRUE', 'FALSE', 'TRUE', 'FALSE',\n",
              "       'FALSE', 'TRUE', 'FALSE', 'TRUE', 'FALSE', 'TRUE', 'TRUE', 'FALSE',\n",
              "       'FALSE', 'FALSE', 'FALSE', 'FALSE', 'TRUE', 'FALSE', 'FALSE',\n",
              "       'FALSE', 'TRUE', 'FALSE', 'FALSE', 'FALSE', 'FALSE', 'FALSE',\n",
              "       'FALSE', 'FALSE', 'TRUE', 'TRUE', 'TRUE', 'TRUE', 'TRUE', 'TRUE',\n",
              "       'FALSE', 'FALSE', 'TRUE', 'FALSE', 'FALSE', 'FALSE', 'FALSE',\n",
              "       'TRUE', 'TRUE', 'FALSE', 'FALSE', 'TRUE', 'FALSE', 'FALSE',\n",
              "       'FALSE', 'TRUE', 'FALSE', 'TRUE', 'TRUE', 'TRUE', 'FALSE', 'FALSE',\n",
              "       'FALSE', 'TRUE', 'TRUE', 'FALSE', 'TRUE', 'TRUE', 'TRUE', 'FALSE',\n",
              "       'TRUE', 'TRUE', 'TRUE', 'TRUE', 'TRUE', 'FALSE', 'FALSE', 'FALSE',\n",
              "       'TRUE', 'TRUE', 'FALSE', 'FALSE', 'FALSE', 'TRUE', 'FALSE',\n",
              "       'FALSE', 'FALSE', 'FALSE', 'FALSE', 'TRUE', 'FALSE', 'FALSE',\n",
              "       'TRUE', 'FALSE', 'TRUE', 'FALSE', 'FALSE', 'FALSE', 'TRUE', 'TRUE',\n",
              "       'FALSE', 'FALSE', 'TRUE', 'FALSE', 'FALSE', 'FALSE', 'TRUE',\n",
              "       'TRUE', 'FALSE', 'FALSE', 'FALSE', 'TRUE', 'TRUE', 'FALSE',\n",
              "       'FALSE', 'TRUE', 'FALSE', 'FALSE', 'FALSE', 'FALSE', 'FALSE',\n",
              "       'FALSE', 'FALSE', 'FALSE', 'FALSE', 'TRUE', 'FALSE', 'FALSE',\n",
              "       'FALSE', 'FALSE', 'FALSE', 'FALSE', 'FALSE', 'TRUE', 'FALSE',\n",
              "       'TRUE', 'FALSE', 'FALSE'], dtype='<U5')"
            ]
          },
          "metadata": {},
          "execution_count": 58
        }
      ]
    },
    {
      "cell_type": "code",
      "source": [
        "# Actual values\n",
        "y_test"
      ],
      "metadata": {
        "colab": {
          "base_uri": "https://localhost:8080/"
        },
        "id": "gt8ufjieMX3D",
        "outputId": "af80035f-9787-459f-e4cb-a602bdd091d2"
      },
      "execution_count": 59,
      "outputs": [
        {
          "output_type": "execute_result",
          "data": {
            "text/plain": [
              "471     FALSE\n",
              "143      TRUE\n",
              "1757    FALSE\n",
              "1194    FALSE\n",
              "208     FALSE\n",
              "        ...  \n",
              "2872    FALSE\n",
              "3061    FALSE\n",
              "2125    FALSE\n",
              "2179    FALSE\n",
              "1526    FALSE\n",
              "Name: Churn, Length: 1000, dtype: object"
            ]
          },
          "metadata": {},
          "execution_count": 59
        }
      ]
    },
    {
      "cell_type": "code",
      "source": [
        "# Understand the Naive Bayes baseline model\n",
        "print(\"Number of features used \",nb.n_features_)\n",
        "print(\"Classes \",nb.classes_)\n",
        "print(\"Number of records for classes \",nb.class_count_)\n",
        "print(\"Log prior probability for classes \", nb.class_log_prior_)\n",
        "print(\"Log conditional probability for each feature given a class\\n\",nb.feature_log_prob_)"
      ],
      "metadata": {
        "colab": {
          "base_uri": "https://localhost:8080/"
        },
        "id": "btEwixrF8cW9",
        "outputId": "3866528b-f34e-46be-eddf-0627cea717f9"
      },
      "execution_count": 60,
      "outputs": [
        {
          "output_type": "stream",
          "name": "stdout",
          "text": [
            "Number of features used  73\n",
            "Classes  ['FALSE' 'TRUE']\n",
            "Number of records for classes  [2000. 2000.]\n",
            "Log prior probability for classes  [-0.69314718 -0.69314718]\n",
            "Log conditional probability for each feature given a class\n",
            " [[ -2.34989973  -4.80986187  -1.80148269  -2.36358096  -3.57340585\n",
            "   -1.67506339  -2.36690534  -4.14012644  -1.66981294  -2.36524177\n",
            "   -4.77084759  -4.64665445  -5.46069472  -5.95565869  -6.58485462\n",
            "  -11.07349099 -10.61875483 -11.07349099 -10.85642648 -11.57426628\n",
            "  -10.93241239 -10.80879844 -11.04363803 -11.13601135 -10.83232893\n",
            "  -11.20270272 -11.04363803 -11.16880117 -10.61875483 -10.85642648\n",
            "  -10.74135715 -10.80879844 -11.07349099 -11.07349099 -10.98647961\n",
            "  -10.9064369  -10.78580892 -10.93241239 -10.76333606 -10.85642648\n",
            "  -11.04363803 -10.8811191  -10.9064369  -10.83232893 -10.76333606\n",
            "  -10.95908064 -10.95908064 -10.78580892 -10.85642648 -10.59970664\n",
            "  -10.63817292 -10.85642648 -10.61875483 -11.23779404 -10.85642648\n",
            "  -11.39194472 -10.83232893 -11.13601135 -11.01465049 -10.74135715\n",
            "  -10.63817292 -10.71985095 -10.98647961 -10.69879754 -10.39561128\n",
            "  -10.65797555  -8.35939847  -7.65725573  -8.35539045  -7.03791041\n",
            "   -9.66472377  -7.32220597  -8.17808144]\n",
            " [ -2.37434832  -5.55705953  -1.69271407  -2.39837256  -3.46464312\n",
            "   -1.66244216  -2.41072362  -4.12752188  -1.69167307  -2.41655251\n",
            "   -4.79270776  -4.66585329  -5.61869266  -5.97488487  -6.1957334\n",
            "  -13.92769577 -12.6749328  -12.31825786 -13.52223066 -12.6749328\n",
            "  -12.42361837 -12.42361837 -13.01140504 -12.82908348 -12.82908348\n",
            "  -12.82908348 -13.52223066 -13.52223066 -13.01140504 -13.23454859\n",
            "  -12.82908348 -12.31825786 -12.82908348 -13.52223066 -12.6749328\n",
            "  -11.67640397 -11.84825423 -12.22294768 -12.1359363  -12.82908348\n",
            "  -12.05589359 -12.1359363  -12.54140141 -13.52223066 -13.01140504\n",
            "  -12.54140141 -12.05589359 -12.82908348 -11.84825423 -12.1359363\n",
            "  -12.42361837 -12.82908348 -12.6749328  -12.6749328  -13.01140504\n",
            "  -11.98178562 -12.54140141 -13.01140504 -11.84825423 -12.31825786\n",
            "  -13.23454859 -12.6749328  -11.98178562 -13.52223066 -12.82908348\n",
            "  -12.31825786  -9.42234592  -8.27696252  -9.36334758  -7.5811826\n",
            "   -9.02613157  -7.26648062  -9.64410921]]\n"
          ]
        },
        {
          "output_type": "stream",
          "name": "stderr",
          "text": [
            "/usr/local/lib/python3.7/dist-packages/sklearn/utils/deprecation.py:103: FutureWarning: Attribute `n_features_` was deprecated in version 1.0 and will be removed in 1.2. Use `n_features_in_` instead.\n",
            "  warnings.warn(msg, category=FutureWarning)\n"
          ]
        }
      ]
    },
    {
      "cell_type": "code",
      "source": [
        "from sklearn.metrics import classification_report\n",
        "from sklearn import metrics\n",
        "\n",
        "print(classification_report(y_test, y_pred))"
      ],
      "metadata": {
        "colab": {
          "base_uri": "https://localhost:8080/"
        },
        "id": "ocuwabz25v1h",
        "outputId": "9320e0f8-14f0-45e3-d461-c560c6260f19"
      },
      "execution_count": 61,
      "outputs": [
        {
          "output_type": "stream",
          "name": "stdout",
          "text": [
            "              precision    recall  f1-score   support\n",
            "\n",
            "       FALSE       0.89      0.57      0.70       850\n",
            "        TRUE       0.20      0.61      0.30       150\n",
            "\n",
            "    accuracy                           0.58      1000\n",
            "   macro avg       0.55      0.59      0.50      1000\n",
            "weighted avg       0.79      0.58      0.64      1000\n",
            "\n"
          ]
        }
      ]
    },
    {
      "cell_type": "code",
      "source": [
        "from sklearn.metrics import accuracy_score\n",
        "\n",
        "print('The Baseline Naive Bayes Model accuracy score is: {0:0.4f}'. format(accuracy_score(y_test, y_pred)))"
      ],
      "metadata": {
        "colab": {
          "base_uri": "https://localhost:8080/"
        },
        "id": "H_ShsNoOfihc",
        "outputId": "2367be5c-b71b-41eb-9149-bfc2700eb157"
      },
      "execution_count": 62,
      "outputs": [
        {
          "output_type": "stream",
          "name": "stdout",
          "text": [
            "The Baseline Naive Bayes Model accuracy score is: 0.5790\n"
          ]
        }
      ]
    },
    {
      "cell_type": "code",
      "source": [
        "# Plot the confusion matrix again with baseline NB model\n",
        "# this line removes the grid from the confusion matrix\n",
        "sns.set_style(\"whitegrid\", {'axes.grid' : False})\n",
        "\n",
        "ConfusionMatrixDisplay.from_predictions(y_test, y_pred)\n",
        "plt.show()"
      ],
      "metadata": {
        "colab": {
          "base_uri": "https://localhost:8080/",
          "height": 279
        },
        "id": "1yiowsqgT0Xe",
        "outputId": "0613ef42-c548-45da-e379-a46e6f3edc84"
      },
      "execution_count": 63,
      "outputs": [
        {
          "output_type": "display_data",
          "data": {
            "text/plain": [
              "<Figure size 432x288 with 2 Axes>"
            ],
            "image/png": "[encoded data removed]"
          },
          "metadata": {}
        }
      ]
    },
    {
      "cell_type": "code",
      "source": [
        "from sklearn.metrics import confusion_matrix\n",
        "cf=confusion_matrix(y_test, y_pred)\n",
        "print (\"Confusion Matrix\")\n",
        "print(cf)\n",
        "tn, fp, fn, tp=cf.ravel()\n",
        "print (\"TP: \", tp,\", FP: \", fp,\", TN: \", tn,\", FN:\", fn)"
      ],
      "metadata": {
        "colab": {
          "base_uri": "https://localhost:8080/"
        },
        "id": "7TF03LJFTS5T",
        "outputId": "d2d2f59b-33f6-4f57-b0aa-8dc19440e9c1"
      },
      "execution_count": 64,
      "outputs": [
        {
          "output_type": "stream",
          "name": "stdout",
          "text": [
            "Confusion Matrix\n",
            "[[488 362]\n",
            " [ 59  91]]\n",
            "TP:  91 , FP:  362 , TN:  488 , FN: 59\n"
          ]
        }
      ]
    },
    {
      "cell_type": "code",
      "source": [
        "## Retrain the Naive-Bayes model for selected features only in the same training dataset, then use the only selected features in the test dataset also\n",
        "# We use the similar X_resampled_new, X_test_new split dataset inherited from the decision tree model\n",
        "from sklearn.naive_bayes import MultinomialNB\n",
        "\n",
        "#Create a MultiNomial NB Classifier\n",
        "nb_selected_features = MultinomialNB()\n",
        "\n",
        "#Train the model using the training sets\n",
        "nb_selected_features.fit(X_resampled_new, y_resampled)\n",
        "\n",
        "#Predict the response for test dataset\n",
        "y_pred = nb_selected_features.predict(X_test_new)\n",
        "print (\"Succesfully done..\")"
      ],
      "metadata": {
        "colab": {
          "base_uri": "https://localhost:8080/"
        },
        "id": "oziJCwP_TS1A",
        "outputId": "cd6bac60-369b-48d6-cfdf-e014f90c3413"
      },
      "execution_count": 65,
      "outputs": [
        {
          "output_type": "stream",
          "name": "stdout",
          "text": [
            "Succesfully done..\n"
          ]
        }
      ]
    },
    {
      "cell_type": "code",
      "source": [
        "# Understand the Naive Bayes model with selected features\n",
        "print(\"Number of features used \",nb_selected_features.n_features_)\n",
        "print(\"Classes \",nb_selected_features.classes_)\n",
        "print(\"Number of records for classes \",nb_selected_features.class_count_)\n",
        "print(\"Log prior probability for classes \", nb_selected_features.class_log_prior_)\n",
        "print(\"Log conditional probability for each feature given a class\\n\",nb_selected_features.feature_log_prob_)"
      ],
      "metadata": {
        "colab": {
          "base_uri": "https://localhost:8080/"
        },
        "id": "oFsb8t6cVkxf",
        "outputId": "90a31c36-250f-4592-ac42-bf4525ff4459"
      },
      "execution_count": 66,
      "outputs": [
        {
          "output_type": "stream",
          "name": "stdout",
          "text": [
            "Number of features used  65\n",
            "Classes  ['FALSE' 'TRUE']\n",
            "Number of records for classes  [2000. 2000.]\n",
            "Log prior probability for classes  [-0.69314718 -0.69314718]\n",
            "Log conditional probability for each feature given a class\n",
            " [[ -1.42034262  -7.42984136  -6.72769862  -7.42583334  -6.1083533\n",
            "   -8.73516666  -5.65529751  -3.88030476 -10.14393388  -9.68919772\n",
            "  -10.14393388  -9.92686937 -10.64470916 -10.00285528  -9.87924132\n",
            "  -10.11408091 -10.20645423  -9.90277182 -10.27314561 -10.11408091\n",
            "  -10.23924406  -9.68919772  -9.92686937  -9.81180004  -9.87924132\n",
            "  -10.14393388 -10.14393388 -10.0569225   -9.97687979  -9.8562518\n",
            "  -10.00285528  -9.83377895  -9.92686937 -10.11408091  -9.95156198\n",
            "   -9.97687979  -9.90277182  -9.83377895 -10.02952353 -10.02952353\n",
            "   -9.8562518   -9.92686937  -9.67014953  -9.70861581  -9.92686937\n",
            "   -9.68919772 -10.30823693  -9.92686937 -10.46238761  -9.90277182\n",
            "  -10.20645423 -10.08509338  -9.81180004  -9.70861581  -9.79029384\n",
            "  -10.0569225   -9.76924043  -9.46605417  -9.72841843  -1.43402385\n",
            "   -1.43734823  -4.53113761  -1.43568466  -6.39264886  -7.24852433]\n",
            " [ -1.39203634  -8.44003394  -7.29465054  -8.3810356   -6.59887063\n",
            "   -8.0438196   -5.21342143  -4.57474755 -12.9453838  -11.69262083\n",
            "  -11.33594588 -12.53991869 -11.69262083 -11.4413064  -11.4413064\n",
            "  -12.02909306 -11.84677151 -11.84677151 -11.84677151 -12.53991869\n",
            "  -12.53991869 -12.02909306 -12.25223661 -11.84677151 -11.33594588\n",
            "  -11.84677151 -12.53991869 -11.69262083 -10.694092   -10.86594225\n",
            "  -11.2406357  -11.15362433 -11.84677151 -11.07358162 -11.15362433\n",
            "  -11.55908943 -12.53991869 -12.02909306 -11.55908943 -11.07358162\n",
            "  -11.84677151 -10.86594225 -11.15362433 -11.4413064  -11.84677151\n",
            "  -11.69262083 -11.69262083 -12.02909306 -10.99947365 -11.55908943\n",
            "  -12.02909306 -10.86594225 -11.33594588 -12.25223661 -11.69262083\n",
            "  -10.99947365 -12.53991869 -11.84677151 -11.33594588  -1.41606059\n",
            "   -1.42841165  -4.63638068  -1.43424053  -6.28416865  -8.66179723]]\n"
          ]
        },
        {
          "output_type": "stream",
          "name": "stderr",
          "text": [
            "/usr/local/lib/python3.7/dist-packages/sklearn/utils/deprecation.py:103: FutureWarning: Attribute `n_features_` was deprecated in version 1.0 and will be removed in 1.2. Use `n_features_in_` instead.\n",
            "  warnings.warn(msg, category=FutureWarning)\n"
          ]
        }
      ]
    },
    {
      "cell_type": "code",
      "source": [
        "from sklearn.metrics import accuracy_score\n",
        "\n",
        "print('The Naive Bayes Model with selected features accuracy score is: {0:0.4f}'. format(accuracy_score(y_test, y_pred)))"
      ],
      "metadata": {
        "colab": {
          "base_uri": "https://localhost:8080/"
        },
        "id": "LxrW3h1mVkob",
        "outputId": "38bdc336-f267-4c01-ca3b-6c5df95ce78b"
      },
      "execution_count": 67,
      "outputs": [
        {
          "output_type": "stream",
          "name": "stdout",
          "text": [
            "The Naive Bayes Model with selected features accuracy score is: 0.3870\n"
          ]
        }
      ]
    },
    {
      "cell_type": "code",
      "source": [
        "from sklearn.metrics import classification_report\n",
        "from sklearn import metrics\n",
        "\n",
        "print(classification_report(y_test, y_pred))"
      ],
      "metadata": {
        "colab": {
          "base_uri": "https://localhost:8080/"
        },
        "id": "Ik5m4tteW57e",
        "outputId": "21281338-6666-4b1c-d08e-769556630549"
      },
      "execution_count": 68,
      "outputs": [
        {
          "output_type": "stream",
          "name": "stdout",
          "text": [
            "              precision    recall  f1-score   support\n",
            "\n",
            "       FALSE       0.91      0.31      0.46       850\n",
            "        TRUE       0.18      0.83      0.29       150\n",
            "\n",
            "    accuracy                           0.39      1000\n",
            "   macro avg       0.54      0.57      0.38      1000\n",
            "weighted avg       0.80      0.39      0.44      1000\n",
            "\n"
          ]
        }
      ]
    },
    {
      "cell_type": "code",
      "source": [
        "# Plot the confusion matrix again with NB model with selected features\n",
        "# this line removes the grid from the confusion matrix\n",
        "sns.set_style(\"whitegrid\", {'axes.grid' : False})\n",
        "\n",
        "ConfusionMatrixDisplay.from_predictions(y_test, y_pred)\n",
        "plt.show()"
      ],
      "metadata": {
        "colab": {
          "base_uri": "https://localhost:8080/",
          "height": 279
        },
        "id": "SM0axS-GVkfm",
        "outputId": "773cd650-1f78-4c96-9bc4-8fb8d38def19"
      },
      "execution_count": 69,
      "outputs": [
        {
          "output_type": "display_data",
          "data": {
            "text/plain": [
              "<Figure size 432x288 with 2 Axes>"
            ],
            "image/png": "[encoded data removed]"
          },
          "metadata": {}
        }
      ]
    }
  ],
  "metadata": {
    "kernelspec": {
      "display_name": "Python 3.10.4 64-bit",
      "language": "python",
      "name": "python3"
    },
    "language_info": {
      "codemirror_mode": {
        "name": "ipython",
        "version": 3
      },
      "file_extension": ".py",
      "mimetype": "text/x-python",
      "name": "python",
      "nbconvert_exporter": "python",
      "pygments_lexer": "ipython3",
      "version": "3.10.4"
    },
    "orig_nbformat": 4,
    "vscode": {
      "interpreter": {
        "hash": "cc4cfbed43ea22f777ee61faf407f12caee2ca3c47e923c79e4eafce788b0c6d"
      }
    },
    "colab": {
      "name": "CIND119-DHC-Group1-Project-CustomerChurn.ipynb",
      "provenance": [],
      "collapsed_sections": []
    }
  },
  "nbformat": 4,
  "nbformat_minor": 0
}